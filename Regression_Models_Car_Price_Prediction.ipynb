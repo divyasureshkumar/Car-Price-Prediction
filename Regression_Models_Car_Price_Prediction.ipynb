{
 "cells": [
  {
   "cell_type": "code",
   "execution_count": 1,
   "metadata": {
    "colab": {
     "base_uri": "https://localhost:8080/",
     "height": 72
    },
    "colab_type": "code",
    "executionInfo": {
     "elapsed": 2944,
     "status": "ok",
     "timestamp": 1594114222488,
     "user": {
      "displayName": "Mahesh Anand",
      "photoUrl": "https://lh3.googleusercontent.com/a-/AOh14GiAxRvO4nLPhI4SJLaIoUVmhr8lm1tddyCLyKOj=s64",
      "userId": "06788086636039591358"
     },
     "user_tz": -330
    },
    "id": "LZbqKzJACHLK",
    "outputId": "5c52412c-7e45-4289-9480-8bf7559b9c47"
   },
   "outputs": [],
   "source": [
    "import numpy as np\n",
    "import pandas as pd\n",
    "import matplotlib.pyplot as plt\n",
    "%matplotlib inline\n",
    "import seaborn as sns\n",
    "from sklearn.linear_model import LinearRegression\n",
    "from sklearn.preprocessing import StandardScaler\n",
    "from sklearn import model_selection\n",
    "import statsmodels.formula.api as smf"
   ]
  },
  {
   "cell_type": "code",
   "execution_count": null,
   "metadata": {
    "colab": {},
    "colab_type": "code",
    "id": "BLhSy2GXVjVR"
   },
   "outputs": [],
   "source": [
    "#None=16k, D = 20k, DP=25K\n",
    "#Dummy Col = No. of Category -1\n",
    "\n",
    "#D       DP      \n",
    "1        0       \n",
    "0        1       \n",
    "0        0    \n",
    "#y_pred=b0+b1*D(X1)+b2*DP(X2)\n",
    "#b0=16, b1=4, b2=9"
   ]
  },
  {
   "cell_type": "code",
   "execution_count": null,
   "metadata": {
    "colab": {
     "base_uri": "https://localhost:8080/",
     "height": 34
    },
    "colab_type": "code",
    "executionInfo": {
     "elapsed": 951,
     "status": "ok",
     "timestamp": 1591072983120,
     "user": {
      "displayName": "Mahesh Anand",
      "photoUrl": "https://lh3.googleusercontent.com/a-/AOh14GiAxRvO4nLPhI4SJLaIoUVmhr8lm1tddyCLyKOj=s64",
      "userId": "06788086636039591358"
     },
     "user_tz": -330
    },
    "id": "qYi2Q4OvVZvb",
    "outputId": "b3478af4-ff27-417e-a9a8-99bfd4315c9b"
   },
   "outputs": [
    {
     "data": {
      "text/plain": [
       "0.45181116999619814"
      ]
     },
     "execution_count": 150,
     "metadata": {
      "tags": []
     },
     "output_type": "execute_result"
    }
   ],
   "source": [
    "np.std([5.85,6.75,6.23],ddof=1)"
   ]
  },
  {
   "cell_type": "code",
   "execution_count": 2,
   "metadata": {
    "colab": {
     "base_uri": "https://localhost:8080/",
     "height": 308
    },
    "colab_type": "code",
    "executionInfo": {
     "elapsed": 1349,
     "status": "ok",
     "timestamp": 1594114447835,
     "user": {
      "displayName": "Mahesh Anand",
      "photoUrl": "https://lh3.googleusercontent.com/a-/AOh14GiAxRvO4nLPhI4SJLaIoUVmhr8lm1tddyCLyKOj=s64",
      "userId": "06788086636039591358"
     },
     "user_tz": -330
    },
    "id": "hoXMFxqzCHLU",
    "outputId": "ec373bac-d2e0-4f4f-d251-9b7526e7fc3f"
   },
   "outputs": [
    {
     "data": {
      "text/html": [
       "<div>\n",
       "<style scoped>\n",
       "    .dataframe tbody tr th:only-of-type {\n",
       "        vertical-align: middle;\n",
       "    }\n",
       "\n",
       "    .dataframe tbody tr th {\n",
       "        vertical-align: top;\n",
       "    }\n",
       "\n",
       "    .dataframe thead th {\n",
       "        text-align: right;\n",
       "    }\n",
       "</style>\n",
       "<table border=\"1\" class=\"dataframe\">\n",
       "  <thead>\n",
       "    <tr style=\"text-align: right;\">\n",
       "      <th></th>\n",
       "      <th>Manufacturer</th>\n",
       "      <th>Model</th>\n",
       "      <th>Type</th>\n",
       "      <th>Min.Price</th>\n",
       "      <th>Price</th>\n",
       "      <th>Max.Price</th>\n",
       "      <th>MPG.city</th>\n",
       "      <th>MPG.highway</th>\n",
       "      <th>AirBags</th>\n",
       "      <th>DriveTrain</th>\n",
       "      <th>...</th>\n",
       "      <th>Passengers</th>\n",
       "      <th>Length</th>\n",
       "      <th>Wheelbase</th>\n",
       "      <th>Width</th>\n",
       "      <th>Turn.circle</th>\n",
       "      <th>Rear.seat.room</th>\n",
       "      <th>Luggage.room</th>\n",
       "      <th>Weight</th>\n",
       "      <th>Origin</th>\n",
       "      <th>Make</th>\n",
       "    </tr>\n",
       "  </thead>\n",
       "  <tbody>\n",
       "    <tr>\n",
       "      <th>1</th>\n",
       "      <td>Acura</td>\n",
       "      <td>Integra</td>\n",
       "      <td>Small</td>\n",
       "      <td>12.9</td>\n",
       "      <td>15.9</td>\n",
       "      <td>18.8</td>\n",
       "      <td>25</td>\n",
       "      <td>31</td>\n",
       "      <td>None</td>\n",
       "      <td>Front</td>\n",
       "      <td>...</td>\n",
       "      <td>5</td>\n",
       "      <td>177</td>\n",
       "      <td>102</td>\n",
       "      <td>68</td>\n",
       "      <td>37</td>\n",
       "      <td>26.5</td>\n",
       "      <td>11.0</td>\n",
       "      <td>2705</td>\n",
       "      <td>non-USA</td>\n",
       "      <td>Acura Integra</td>\n",
       "    </tr>\n",
       "    <tr>\n",
       "      <th>2</th>\n",
       "      <td>Acura</td>\n",
       "      <td>Legend</td>\n",
       "      <td>Midsize</td>\n",
       "      <td>29.2</td>\n",
       "      <td>33.9</td>\n",
       "      <td>38.7</td>\n",
       "      <td>18</td>\n",
       "      <td>25</td>\n",
       "      <td>Driver &amp; Passenger</td>\n",
       "      <td>Front</td>\n",
       "      <td>...</td>\n",
       "      <td>5</td>\n",
       "      <td>195</td>\n",
       "      <td>115</td>\n",
       "      <td>71</td>\n",
       "      <td>38</td>\n",
       "      <td>30.0</td>\n",
       "      <td>15.0</td>\n",
       "      <td>3560</td>\n",
       "      <td>non-USA</td>\n",
       "      <td>Acura Legend</td>\n",
       "    </tr>\n",
       "    <tr>\n",
       "      <th>3</th>\n",
       "      <td>Audi</td>\n",
       "      <td>90</td>\n",
       "      <td>Compact</td>\n",
       "      <td>25.9</td>\n",
       "      <td>29.1</td>\n",
       "      <td>32.3</td>\n",
       "      <td>20</td>\n",
       "      <td>26</td>\n",
       "      <td>Driver only</td>\n",
       "      <td>Front</td>\n",
       "      <td>...</td>\n",
       "      <td>5</td>\n",
       "      <td>180</td>\n",
       "      <td>102</td>\n",
       "      <td>67</td>\n",
       "      <td>37</td>\n",
       "      <td>28.0</td>\n",
       "      <td>14.0</td>\n",
       "      <td>3375</td>\n",
       "      <td>non-USA</td>\n",
       "      <td>Audi 90</td>\n",
       "    </tr>\n",
       "    <tr>\n",
       "      <th>4</th>\n",
       "      <td>Audi</td>\n",
       "      <td>100</td>\n",
       "      <td>Midsize</td>\n",
       "      <td>30.8</td>\n",
       "      <td>37.7</td>\n",
       "      <td>44.6</td>\n",
       "      <td>19</td>\n",
       "      <td>26</td>\n",
       "      <td>Driver &amp; Passenger</td>\n",
       "      <td>Front</td>\n",
       "      <td>...</td>\n",
       "      <td>6</td>\n",
       "      <td>193</td>\n",
       "      <td>106</td>\n",
       "      <td>70</td>\n",
       "      <td>37</td>\n",
       "      <td>31.0</td>\n",
       "      <td>17.0</td>\n",
       "      <td>3405</td>\n",
       "      <td>non-USA</td>\n",
       "      <td>Audi 100</td>\n",
       "    </tr>\n",
       "    <tr>\n",
       "      <th>5</th>\n",
       "      <td>BMW</td>\n",
       "      <td>535i</td>\n",
       "      <td>Midsize</td>\n",
       "      <td>23.7</td>\n",
       "      <td>30.0</td>\n",
       "      <td>36.2</td>\n",
       "      <td>22</td>\n",
       "      <td>30</td>\n",
       "      <td>Driver only</td>\n",
       "      <td>Rear</td>\n",
       "      <td>...</td>\n",
       "      <td>4</td>\n",
       "      <td>186</td>\n",
       "      <td>109</td>\n",
       "      <td>69</td>\n",
       "      <td>39</td>\n",
       "      <td>27.0</td>\n",
       "      <td>13.0</td>\n",
       "      <td>3640</td>\n",
       "      <td>non-USA</td>\n",
       "      <td>BMW 535i</td>\n",
       "    </tr>\n",
       "  </tbody>\n",
       "</table>\n",
       "<p>5 rows × 27 columns</p>\n",
       "</div>"
      ],
      "text/plain": [
       "  Manufacturer    Model     Type  Min.Price  Price  Max.Price  MPG.city  \\\n",
       "1        Acura  Integra    Small       12.9   15.9       18.8        25   \n",
       "2        Acura   Legend  Midsize       29.2   33.9       38.7        18   \n",
       "3         Audi       90  Compact       25.9   29.1       32.3        20   \n",
       "4         Audi      100  Midsize       30.8   37.7       44.6        19   \n",
       "5          BMW     535i  Midsize       23.7   30.0       36.2        22   \n",
       "\n",
       "   MPG.highway             AirBags DriveTrain  ... Passengers  Length  \\\n",
       "1           31                None      Front  ...          5     177   \n",
       "2           25  Driver & Passenger      Front  ...          5     195   \n",
       "3           26         Driver only      Front  ...          5     180   \n",
       "4           26  Driver & Passenger      Front  ...          6     193   \n",
       "5           30         Driver only       Rear  ...          4     186   \n",
       "\n",
       "   Wheelbase  Width  Turn.circle Rear.seat.room  Luggage.room  Weight  \\\n",
       "1        102     68           37           26.5          11.0    2705   \n",
       "2        115     71           38           30.0          15.0    3560   \n",
       "3        102     67           37           28.0          14.0    3375   \n",
       "4        106     70           37           31.0          17.0    3405   \n",
       "5        109     69           39           27.0          13.0    3640   \n",
       "\n",
       "    Origin           Make  \n",
       "1  non-USA  Acura Integra  \n",
       "2  non-USA   Acura Legend  \n",
       "3  non-USA        Audi 90  \n",
       "4  non-USA       Audi 100  \n",
       "5  non-USA       BMW 535i  \n",
       "\n",
       "[5 rows x 27 columns]"
      ]
     },
     "execution_count": 2,
     "metadata": {},
     "output_type": "execute_result"
    }
   ],
   "source": [
    "A=pd.read_csv('car_sales.csv',index_col=0)\n",
    "A.head()"
   ]
  },
  {
   "cell_type": "code",
   "execution_count": 5,
   "metadata": {
    "colab": {
     "base_uri": "https://localhost:8080/",
     "height": 87
    },
    "colab_type": "code",
    "executionInfo": {
     "elapsed": 985,
     "status": "ok",
     "timestamp": 1594114782455,
     "user": {
      "displayName": "Mahesh Anand",
      "photoUrl": "https://lh3.googleusercontent.com/a-/AOh14GiAxRvO4nLPhI4SJLaIoUVmhr8lm1tddyCLyKOj=s64",
      "userId": "06788086636039591358"
     },
     "user_tz": -330
    },
    "id": "OWO1Qv7uVOhF",
    "outputId": "5473f8a3-97b1-47c4-819b-4b3617e42629"
   },
   "outputs": [
    {
     "data": {
      "text/plain": [
       "Driver only           43\n",
       "None                  34\n",
       "Driver & Passenger    16\n",
       "Name: AirBags, dtype: int64"
      ]
     },
     "execution_count": 5,
     "metadata": {
      "tags": []
     },
     "output_type": "execute_result"
    }
   ],
   "source": [
    "A['AirBags'].value_counts()"
   ]
  },
  {
   "cell_type": "code",
   "execution_count": 4,
   "metadata": {
    "colab": {
     "base_uri": "https://localhost:8080/",
     "height": 615
    },
    "colab_type": "code",
    "executionInfo": {
     "elapsed": 922,
     "status": "ok",
     "timestamp": 1594114733719,
     "user": {
      "displayName": "Mahesh Anand",
      "photoUrl": "https://lh3.googleusercontent.com/a-/AOh14GiAxRvO4nLPhI4SJLaIoUVmhr8lm1tddyCLyKOj=s64",
      "userId": "06788086636039591358"
     },
     "user_tz": -330
    },
    "id": "1WnevQuPx6ae",
    "outputId": "09c3735b-a8ef-4924-dc3e-8645d010b049"
   },
   "outputs": [
    {
     "name": "stdout",
     "output_type": "stream",
     "text": [
      "<class 'pandas.core.frame.DataFrame'>\n",
      "Int64Index: 93 entries, 1 to 93\n",
      "Data columns (total 27 columns):\n",
      " #   Column              Non-Null Count  Dtype  \n",
      "---  ------              --------------  -----  \n",
      " 0   Manufacturer        93 non-null     object \n",
      " 1   Model               93 non-null     object \n",
      " 2   Type                93 non-null     object \n",
      " 3   Min.Price           93 non-null     float64\n",
      " 4   Price               93 non-null     float64\n",
      " 5   Max.Price           93 non-null     float64\n",
      " 6   MPG.city            93 non-null     int64  \n",
      " 7   MPG.highway         93 non-null     int64  \n",
      " 8   AirBags             93 non-null     object \n",
      " 9   DriveTrain          93 non-null     object \n",
      " 10  Cylinders           93 non-null     object \n",
      " 11  EngineSize          93 non-null     float64\n",
      " 12  Horsepower          93 non-null     int64  \n",
      " 13  RPM                 93 non-null     int64  \n",
      " 14  Rev.per.mile        93 non-null     int64  \n",
      " 15  Man.trans.avail     93 non-null     object \n",
      " 16  Fuel.tank.capacity  93 non-null     float64\n",
      " 17  Passengers          93 non-null     int64  \n",
      " 18  Length              93 non-null     int64  \n",
      " 19  Wheelbase           93 non-null     int64  \n",
      " 20  Width               93 non-null     int64  \n",
      " 21  Turn.circle         93 non-null     int64  \n",
      " 22  Rear.seat.room      91 non-null     float64\n",
      " 23  Luggage.room        82 non-null     float64\n",
      " 24  Weight              93 non-null     int64  \n",
      " 25  Origin              93 non-null     object \n",
      " 26  Make                93 non-null     object \n",
      "dtypes: float64(7), int64(11), object(9)\n",
      "memory usage: 20.3+ KB\n"
     ]
    }
   ],
   "source": [
    "A.info()"
   ]
  },
  {
   "cell_type": "code",
   "execution_count": null,
   "metadata": {
    "colab": {
     "base_uri": "https://localhost:8080/",
     "height": 609
    },
    "colab_type": "code",
    "executionInfo": {
     "elapsed": 894,
     "status": "ok",
     "timestamp": 1593492542079,
     "user": {
      "displayName": "Mahesh Anand",
      "photoUrl": "https://lh3.googleusercontent.com/a-/AOh14GiAxRvO4nLPhI4SJLaIoUVmhr8lm1tddyCLyKOj=s64",
      "userId": "06788086636039591358"
     },
     "user_tz": -330
    },
    "id": "5DOPwzCxCHLf",
    "outputId": "121eae23-8837-44ea-8be5-bae585f84d54"
   },
   "outputs": [
    {
     "data": {
      "text/html": [
       "<div>\n",
       "<style scoped>\n",
       "    .dataframe tbody tr th:only-of-type {\n",
       "        vertical-align: middle;\n",
       "    }\n",
       "\n",
       "    .dataframe tbody tr th {\n",
       "        vertical-align: top;\n",
       "    }\n",
       "\n",
       "    .dataframe thead th {\n",
       "        text-align: right;\n",
       "    }\n",
       "</style>\n",
       "<table border=\"1\" class=\"dataframe\">\n",
       "  <thead>\n",
       "    <tr style=\"text-align: right;\">\n",
       "      <th></th>\n",
       "      <th>Min.Price</th>\n",
       "      <th>Price</th>\n",
       "      <th>Max.Price</th>\n",
       "      <th>MPG.city</th>\n",
       "      <th>MPG.highway</th>\n",
       "      <th>EngineSize</th>\n",
       "      <th>Horsepower</th>\n",
       "      <th>RPM</th>\n",
       "      <th>Rev.per.mile</th>\n",
       "      <th>Fuel.tank.capacity</th>\n",
       "      <th>Passengers</th>\n",
       "      <th>Length</th>\n",
       "      <th>Wheelbase</th>\n",
       "      <th>Width</th>\n",
       "      <th>Turn.circle</th>\n",
       "      <th>Rear.seat.room</th>\n",
       "      <th>Luggage.room</th>\n",
       "      <th>Weight</th>\n",
       "    </tr>\n",
       "  </thead>\n",
       "  <tbody>\n",
       "    <tr>\n",
       "      <th>Min.Price</th>\n",
       "      <td>1.000000</td>\n",
       "      <td>0.970601</td>\n",
       "      <td>0.906756</td>\n",
       "      <td>-0.622875</td>\n",
       "      <td>-0.579966</td>\n",
       "      <td>0.645488</td>\n",
       "      <td>0.802444</td>\n",
       "      <td>-0.042598</td>\n",
       "      <td>-0.470395</td>\n",
       "      <td>0.635369</td>\n",
       "      <td>0.061236</td>\n",
       "      <td>0.553859</td>\n",
       "      <td>0.516758</td>\n",
       "      <td>0.492878</td>\n",
       "      <td>0.428603</td>\n",
       "      <td>0.376642</td>\n",
       "      <td>0.413485</td>\n",
       "      <td>0.666554</td>\n",
       "    </tr>\n",
       "    <tr>\n",
       "      <th>Price</th>\n",
       "      <td>0.970601</td>\n",
       "      <td>1.000000</td>\n",
       "      <td>0.981580</td>\n",
       "      <td>-0.594562</td>\n",
       "      <td>-0.560680</td>\n",
       "      <td>0.597425</td>\n",
       "      <td>0.788218</td>\n",
       "      <td>-0.004955</td>\n",
       "      <td>-0.426395</td>\n",
       "      <td>0.619480</td>\n",
       "      <td>0.057860</td>\n",
       "      <td>0.503628</td>\n",
       "      <td>0.500864</td>\n",
       "      <td>0.456028</td>\n",
       "      <td>0.392590</td>\n",
       "      <td>0.311499</td>\n",
       "      <td>0.366569</td>\n",
       "      <td>0.647179</td>\n",
       "    </tr>\n",
       "    <tr>\n",
       "      <th>Max.Price</th>\n",
       "      <td>0.906756</td>\n",
       "      <td>0.981580</td>\n",
       "      <td>1.000000</td>\n",
       "      <td>-0.547811</td>\n",
       "      <td>-0.522561</td>\n",
       "      <td>0.535012</td>\n",
       "      <td>0.744445</td>\n",
       "      <td>0.025015</td>\n",
       "      <td>-0.374024</td>\n",
       "      <td>0.581294</td>\n",
       "      <td>0.053216</td>\n",
       "      <td>0.442933</td>\n",
       "      <td>0.467501</td>\n",
       "      <td>0.408414</td>\n",
       "      <td>0.347785</td>\n",
       "      <td>0.247260</td>\n",
       "      <td>0.315315</td>\n",
       "      <td>0.605142</td>\n",
       "    </tr>\n",
       "    <tr>\n",
       "      <th>MPG.city</th>\n",
       "      <td>-0.622875</td>\n",
       "      <td>-0.594562</td>\n",
       "      <td>-0.547811</td>\n",
       "      <td>1.000000</td>\n",
       "      <td>0.943936</td>\n",
       "      <td>-0.710003</td>\n",
       "      <td>-0.672636</td>\n",
       "      <td>0.363045</td>\n",
       "      <td>0.695857</td>\n",
       "      <td>-0.813144</td>\n",
       "      <td>-0.416856</td>\n",
       "      <td>-0.666239</td>\n",
       "      <td>-0.667108</td>\n",
       "      <td>-0.720534</td>\n",
       "      <td>-0.666389</td>\n",
       "      <td>-0.384347</td>\n",
       "      <td>-0.494894</td>\n",
       "      <td>-0.843139</td>\n",
       "    </tr>\n",
       "    <tr>\n",
       "      <th>MPG.highway</th>\n",
       "      <td>-0.579966</td>\n",
       "      <td>-0.560680</td>\n",
       "      <td>-0.522561</td>\n",
       "      <td>0.943936</td>\n",
       "      <td>1.000000</td>\n",
       "      <td>-0.626795</td>\n",
       "      <td>-0.619044</td>\n",
       "      <td>0.313469</td>\n",
       "      <td>0.587497</td>\n",
       "      <td>-0.786039</td>\n",
       "      <td>-0.466386</td>\n",
       "      <td>-0.542897</td>\n",
       "      <td>-0.615384</td>\n",
       "      <td>-0.640359</td>\n",
       "      <td>-0.593683</td>\n",
       "      <td>-0.366684</td>\n",
       "      <td>-0.371629</td>\n",
       "      <td>-0.810658</td>\n",
       "    </tr>\n",
       "    <tr>\n",
       "      <th>EngineSize</th>\n",
       "      <td>0.645488</td>\n",
       "      <td>0.597425</td>\n",
       "      <td>0.535012</td>\n",
       "      <td>-0.710003</td>\n",
       "      <td>-0.626795</td>\n",
       "      <td>1.000000</td>\n",
       "      <td>0.732120</td>\n",
       "      <td>-0.547898</td>\n",
       "      <td>-0.824009</td>\n",
       "      <td>0.759306</td>\n",
       "      <td>0.372721</td>\n",
       "      <td>0.780283</td>\n",
       "      <td>0.732484</td>\n",
       "      <td>0.867110</td>\n",
       "      <td>0.778464</td>\n",
       "      <td>0.502750</td>\n",
       "      <td>0.680827</td>\n",
       "      <td>0.845075</td>\n",
       "    </tr>\n",
       "    <tr>\n",
       "      <th>Horsepower</th>\n",
       "      <td>0.802444</td>\n",
       "      <td>0.788218</td>\n",
       "      <td>0.744445</td>\n",
       "      <td>-0.672636</td>\n",
       "      <td>-0.619044</td>\n",
       "      <td>0.732120</td>\n",
       "      <td>1.000000</td>\n",
       "      <td>0.036688</td>\n",
       "      <td>-0.600314</td>\n",
       "      <td>0.711790</td>\n",
       "      <td>0.009264</td>\n",
       "      <td>0.550865</td>\n",
       "      <td>0.486854</td>\n",
       "      <td>0.644413</td>\n",
       "      <td>0.561216</td>\n",
       "      <td>0.256732</td>\n",
       "      <td>0.359217</td>\n",
       "      <td>0.738798</td>\n",
       "    </tr>\n",
       "    <tr>\n",
       "      <th>RPM</th>\n",
       "      <td>-0.042598</td>\n",
       "      <td>-0.004955</td>\n",
       "      <td>0.025015</td>\n",
       "      <td>0.363045</td>\n",
       "      <td>0.313469</td>\n",
       "      <td>-0.547898</td>\n",
       "      <td>0.036688</td>\n",
       "      <td>1.000000</td>\n",
       "      <td>0.494764</td>\n",
       "      <td>-0.333345</td>\n",
       "      <td>-0.467138</td>\n",
       "      <td>-0.441249</td>\n",
       "      <td>-0.467812</td>\n",
       "      <td>-0.539721</td>\n",
       "      <td>-0.505651</td>\n",
       "      <td>-0.342175</td>\n",
       "      <td>-0.524845</td>\n",
       "      <td>-0.427931</td>\n",
       "    </tr>\n",
       "    <tr>\n",
       "      <th>Rev.per.mile</th>\n",
       "      <td>-0.470395</td>\n",
       "      <td>-0.426395</td>\n",
       "      <td>-0.374024</td>\n",
       "      <td>0.695857</td>\n",
       "      <td>0.587497</td>\n",
       "      <td>-0.824009</td>\n",
       "      <td>-0.600314</td>\n",
       "      <td>0.494764</td>\n",
       "      <td>1.000000</td>\n",
       "      <td>-0.609710</td>\n",
       "      <td>-0.334976</td>\n",
       "      <td>-0.690233</td>\n",
       "      <td>-0.636824</td>\n",
       "      <td>-0.780460</td>\n",
       "      <td>-0.733160</td>\n",
       "      <td>-0.377010</td>\n",
       "      <td>-0.592792</td>\n",
       "      <td>-0.735264</td>\n",
       "    </tr>\n",
       "    <tr>\n",
       "      <th>Fuel.tank.capacity</th>\n",
       "      <td>0.635369</td>\n",
       "      <td>0.619480</td>\n",
       "      <td>0.581294</td>\n",
       "      <td>-0.813144</td>\n",
       "      <td>-0.786039</td>\n",
       "      <td>0.759306</td>\n",
       "      <td>0.711790</td>\n",
       "      <td>-0.333345</td>\n",
       "      <td>-0.609710</td>\n",
       "      <td>1.000000</td>\n",
       "      <td>0.472095</td>\n",
       "      <td>0.690461</td>\n",
       "      <td>0.757674</td>\n",
       "      <td>0.798719</td>\n",
       "      <td>0.671343</td>\n",
       "      <td>0.509689</td>\n",
       "      <td>0.613437</td>\n",
       "      <td>0.894018</td>\n",
       "    </tr>\n",
       "    <tr>\n",
       "      <th>Passengers</th>\n",
       "      <td>0.061236</td>\n",
       "      <td>0.057860</td>\n",
       "      <td>0.053216</td>\n",
       "      <td>-0.416856</td>\n",
       "      <td>-0.466386</td>\n",
       "      <td>0.372721</td>\n",
       "      <td>0.009264</td>\n",
       "      <td>-0.467138</td>\n",
       "      <td>-0.334976</td>\n",
       "      <td>0.472095</td>\n",
       "      <td>1.000000</td>\n",
       "      <td>0.485294</td>\n",
       "      <td>0.694054</td>\n",
       "      <td>0.489979</td>\n",
       "      <td>0.449025</td>\n",
       "      <td>0.694134</td>\n",
       "      <td>0.653317</td>\n",
       "      <td>0.553273</td>\n",
       "    </tr>\n",
       "    <tr>\n",
       "      <th>Length</th>\n",
       "      <td>0.553859</td>\n",
       "      <td>0.503628</td>\n",
       "      <td>0.442933</td>\n",
       "      <td>-0.666239</td>\n",
       "      <td>-0.542897</td>\n",
       "      <td>0.780283</td>\n",
       "      <td>0.550865</td>\n",
       "      <td>-0.441249</td>\n",
       "      <td>-0.690233</td>\n",
       "      <td>0.690461</td>\n",
       "      <td>0.485294</td>\n",
       "      <td>1.000000</td>\n",
       "      <td>0.823650</td>\n",
       "      <td>0.822148</td>\n",
       "      <td>0.738955</td>\n",
       "      <td>0.549958</td>\n",
       "      <td>0.712962</td>\n",
       "      <td>0.806274</td>\n",
       "    </tr>\n",
       "    <tr>\n",
       "      <th>Wheelbase</th>\n",
       "      <td>0.516758</td>\n",
       "      <td>0.500864</td>\n",
       "      <td>0.467501</td>\n",
       "      <td>-0.667108</td>\n",
       "      <td>-0.615384</td>\n",
       "      <td>0.732484</td>\n",
       "      <td>0.486854</td>\n",
       "      <td>-0.467812</td>\n",
       "      <td>-0.636824</td>\n",
       "      <td>0.757674</td>\n",
       "      <td>0.694054</td>\n",
       "      <td>0.823650</td>\n",
       "      <td>1.000000</td>\n",
       "      <td>0.807213</td>\n",
       "      <td>0.723324</td>\n",
       "      <td>0.667259</td>\n",
       "      <td>0.734127</td>\n",
       "      <td>0.871895</td>\n",
       "    </tr>\n",
       "    <tr>\n",
       "      <th>Width</th>\n",
       "      <td>0.492878</td>\n",
       "      <td>0.456028</td>\n",
       "      <td>0.408414</td>\n",
       "      <td>-0.720534</td>\n",
       "      <td>-0.640359</td>\n",
       "      <td>0.867110</td>\n",
       "      <td>0.644413</td>\n",
       "      <td>-0.539721</td>\n",
       "      <td>-0.780460</td>\n",
       "      <td>0.798719</td>\n",
       "      <td>0.489979</td>\n",
       "      <td>0.822148</td>\n",
       "      <td>0.807213</td>\n",
       "      <td>1.000000</td>\n",
       "      <td>0.817854</td>\n",
       "      <td>0.465618</td>\n",
       "      <td>0.673490</td>\n",
       "      <td>0.874961</td>\n",
       "    </tr>\n",
       "    <tr>\n",
       "      <th>Turn.circle</th>\n",
       "      <td>0.428603</td>\n",
       "      <td>0.392590</td>\n",
       "      <td>0.347785</td>\n",
       "      <td>-0.666389</td>\n",
       "      <td>-0.593683</td>\n",
       "      <td>0.778464</td>\n",
       "      <td>0.561216</td>\n",
       "      <td>-0.505651</td>\n",
       "      <td>-0.733160</td>\n",
       "      <td>0.671343</td>\n",
       "      <td>0.449025</td>\n",
       "      <td>0.738955</td>\n",
       "      <td>0.723324</td>\n",
       "      <td>0.817854</td>\n",
       "      <td>1.000000</td>\n",
       "      <td>0.466328</td>\n",
       "      <td>0.585018</td>\n",
       "      <td>0.778043</td>\n",
       "    </tr>\n",
       "    <tr>\n",
       "      <th>Rear.seat.room</th>\n",
       "      <td>0.376642</td>\n",
       "      <td>0.311499</td>\n",
       "      <td>0.247260</td>\n",
       "      <td>-0.384347</td>\n",
       "      <td>-0.366684</td>\n",
       "      <td>0.502750</td>\n",
       "      <td>0.256732</td>\n",
       "      <td>-0.342175</td>\n",
       "      <td>-0.377010</td>\n",
       "      <td>0.509689</td>\n",
       "      <td>0.694134</td>\n",
       "      <td>0.549958</td>\n",
       "      <td>0.667259</td>\n",
       "      <td>0.465618</td>\n",
       "      <td>0.466328</td>\n",
       "      <td>1.000000</td>\n",
       "      <td>0.651968</td>\n",
       "      <td>0.526250</td>\n",
       "    </tr>\n",
       "    <tr>\n",
       "      <th>Luggage.room</th>\n",
       "      <td>0.413485</td>\n",
       "      <td>0.366569</td>\n",
       "      <td>0.315315</td>\n",
       "      <td>-0.494894</td>\n",
       "      <td>-0.371629</td>\n",
       "      <td>0.680827</td>\n",
       "      <td>0.359217</td>\n",
       "      <td>-0.524845</td>\n",
       "      <td>-0.592792</td>\n",
       "      <td>0.613437</td>\n",
       "      <td>0.653317</td>\n",
       "      <td>0.712962</td>\n",
       "      <td>0.734127</td>\n",
       "      <td>0.673490</td>\n",
       "      <td>0.585018</td>\n",
       "      <td>0.651968</td>\n",
       "      <td>1.000000</td>\n",
       "      <td>0.637226</td>\n",
       "    </tr>\n",
       "    <tr>\n",
       "      <th>Weight</th>\n",
       "      <td>0.666554</td>\n",
       "      <td>0.647179</td>\n",
       "      <td>0.605142</td>\n",
       "      <td>-0.843139</td>\n",
       "      <td>-0.810658</td>\n",
       "      <td>0.845075</td>\n",
       "      <td>0.738798</td>\n",
       "      <td>-0.427931</td>\n",
       "      <td>-0.735264</td>\n",
       "      <td>0.894018</td>\n",
       "      <td>0.553273</td>\n",
       "      <td>0.806274</td>\n",
       "      <td>0.871895</td>\n",
       "      <td>0.874961</td>\n",
       "      <td>0.778043</td>\n",
       "      <td>0.526250</td>\n",
       "      <td>0.637226</td>\n",
       "      <td>1.000000</td>\n",
       "    </tr>\n",
       "  </tbody>\n",
       "</table>\n",
       "</div>"
      ],
      "text/plain": [
       "                    Min.Price     Price  ...  Luggage.room    Weight\n",
       "Min.Price            1.000000  0.970601  ...      0.413485  0.666554\n",
       "Price                0.970601  1.000000  ...      0.366569  0.647179\n",
       "Max.Price            0.906756  0.981580  ...      0.315315  0.605142\n",
       "MPG.city            -0.622875 -0.594562  ...     -0.494894 -0.843139\n",
       "MPG.highway         -0.579966 -0.560680  ...     -0.371629 -0.810658\n",
       "EngineSize           0.645488  0.597425  ...      0.680827  0.845075\n",
       "Horsepower           0.802444  0.788218  ...      0.359217  0.738798\n",
       "RPM                 -0.042598 -0.004955  ...     -0.524845 -0.427931\n",
       "Rev.per.mile        -0.470395 -0.426395  ...     -0.592792 -0.735264\n",
       "Fuel.tank.capacity   0.635369  0.619480  ...      0.613437  0.894018\n",
       "Passengers           0.061236  0.057860  ...      0.653317  0.553273\n",
       "Length               0.553859  0.503628  ...      0.712962  0.806274\n",
       "Wheelbase            0.516758  0.500864  ...      0.734127  0.871895\n",
       "Width                0.492878  0.456028  ...      0.673490  0.874961\n",
       "Turn.circle          0.428603  0.392590  ...      0.585018  0.778043\n",
       "Rear.seat.room       0.376642  0.311499  ...      0.651968  0.526250\n",
       "Luggage.room         0.413485  0.366569  ...      1.000000  0.637226\n",
       "Weight               0.666554  0.647179  ...      0.637226  1.000000\n",
       "\n",
       "[18 rows x 18 columns]"
      ]
     },
     "execution_count": 5,
     "metadata": {
      "tags": []
     },
     "output_type": "execute_result"
    }
   ],
   "source": [
    "A.corr()"
   ]
  },
  {
   "cell_type": "code",
   "execution_count": null,
   "metadata": {
    "colab": {
     "base_uri": "https://localhost:8080/",
     "height": 223
    },
    "colab_type": "code",
    "executionInfo": {
     "elapsed": 1013,
     "status": "ok",
     "timestamp": 1591056904462,
     "user": {
      "displayName": "Mahesh Anand",
      "photoUrl": "https://lh3.googleusercontent.com/a-/AOh14GiAxRvO4nLPhI4SJLaIoUVmhr8lm1tddyCLyKOj=s64",
      "userId": "06788086636039591358"
     },
     "user_tz": -330
    },
    "id": "PrYqtLLc1-Wz",
    "outputId": "56f8b694-2b9e-4ca8-9bbf-4d1d6b6c50c5"
   },
   "outputs": [
    {
     "data": {
      "text/plain": [
       "Cadillac Seville      1\n",
       "Ford Tempo            1\n",
       "Suzuki Swift          1\n",
       "Ford Taurus           1\n",
       "BMW 535i              1\n",
       "                     ..\n",
       "Chevrolet Lumina      1\n",
       "Chevrolet Cavalier    1\n",
       "Chevrolet Corsica     1\n",
       "Toyota Tercel         1\n",
       "Nissan Altima         1\n",
       "Name: Make, Length: 93, dtype: int64"
      ]
     },
     "execution_count": 12,
     "metadata": {
      "tags": []
     },
     "output_type": "execute_result"
    }
   ],
   "source": [
    "A['Make'].value_counts()"
   ]
  },
  {
   "cell_type": "code",
   "execution_count": null,
   "metadata": {
    "colab": {
     "base_uri": "https://localhost:8080/",
     "height": 318
    },
    "colab_type": "code",
    "executionInfo": {
     "elapsed": 984,
     "status": "ok",
     "timestamp": 1591079003344,
     "user": {
      "displayName": "Mahesh Anand",
      "photoUrl": "https://lh3.googleusercontent.com/a-/AOh14GiAxRvO4nLPhI4SJLaIoUVmhr8lm1tddyCLyKOj=s64",
      "userId": "06788086636039591358"
     },
     "user_tz": -330
    },
    "id": "CEG1IVai0Etc",
    "outputId": "5573fdce-0616-4cb1-cc8c-2c665b4b6a57"
   },
   "outputs": [
    {
     "data": {
      "text/plain": [
       "<matplotlib.axes._subplots.AxesSubplot at 0x7f8f66b31550>"
      ]
     },
     "execution_count": 158,
     "metadata": {
      "tags": []
     },
     "output_type": "execute_result"
    },
    {
     "data": {
      "image/png": "[encoded data removed]",
      "text/plain": [
       "<Figure size 432x288 with 1 Axes>"
      ]
     },
     "metadata": {
      "needs_background": "light",
      "tags": []
     },
     "output_type": "display_data"
    }
   ],
   "source": [
    "A.boxplot(column='Price',by='Passengers')"
   ]
  },
  {
   "cell_type": "code",
   "execution_count": null,
   "metadata": {
    "colab": {
     "base_uri": "https://localhost:8080/",
     "height": 318
    },
    "colab_type": "code",
    "executionInfo": {
     "elapsed": 1031,
     "status": "ok",
     "timestamp": 1591079159319,
     "user": {
      "displayName": "Mahesh Anand",
      "photoUrl": "https://lh3.googleusercontent.com/a-/AOh14GiAxRvO4nLPhI4SJLaIoUVmhr8lm1tddyCLyKOj=s64",
      "userId": "06788086636039591358"
     },
     "user_tz": -330
    },
    "id": "AyXS5o5PvRhJ",
    "outputId": "a04d3981-9d0d-4045-e20b-45f586a4f18d"
   },
   "outputs": [
    {
     "data": {
      "text/plain": [
       "<matplotlib.axes._subplots.AxesSubplot at 0x7f8f191fb320>"
      ]
     },
     "execution_count": 159,
     "metadata": {
      "tags": []
     },
     "output_type": "execute_result"
    },
    {
     "data": {
      "image/png": "[encoded data removed]",
      "text/plain": [
       "<Figure size 432x288 with 1 Axes>"
      ]
     },
     "metadata": {
      "needs_background": "light",
      "tags": []
     },
     "output_type": "display_data"
    }
   ],
   "source": [
    "B.boxplot(column='Price',by='Type')"
   ]
  },
  {
   "cell_type": "code",
   "execution_count": null,
   "metadata": {
    "colab": {
     "base_uri": "https://localhost:8080/",
     "height": 319
    },
    "colab_type": "code",
    "executionInfo": {
     "elapsed": 1312,
     "status": "ok",
     "timestamp": 1581939277403,
     "user": {
      "displayName": "Mahesh Anand",
      "photoUrl": "https://lh3.googleusercontent.com/a-/AAuE7mDwRqsBffQmzXsc6rHxDVmepWB7mxD_zfhcK5E1=s64",
      "userId": "06788086636039591358"
     },
     "user_tz": -330
    },
    "id": "RBdBc4Vt4oyB",
    "outputId": "1025b2c3-b5bf-4c07-a6a2-7de553e9f176"
   },
   "outputs": [
    {
     "data": {
      "text/plain": [
       "<matplotlib.axes._subplots.AxesSubplot at 0x7f2f94573eb8>"
      ]
     },
     "execution_count": 21,
     "metadata": {
      "tags": []
     },
     "output_type": "execute_result"
    },
    {
     "data": {
      "image/png": "[encoded data removed]",
      "text/plain": [
       "<Figure size 432x288 with 1 Axes>"
      ]
     },
     "metadata": {
      "tags": []
     },
     "output_type": "display_data"
    }
   ],
   "source": [
    "A.boxplot(column='Price',by='Cylinders')"
   ]
  },
  {
   "cell_type": "code",
   "execution_count": null,
   "metadata": {
    "colab": {
     "base_uri": "https://localhost:8080/",
     "height": 318
    },
    "colab_type": "code",
    "executionInfo": {
     "elapsed": 1146,
     "status": "ok",
     "timestamp": 1581485639533,
     "user": {
      "displayName": "Mahesh Anand",
      "photoUrl": "https://lh3.googleusercontent.com/a-/AAuE7mDwRqsBffQmzXsc6rHxDVmepWB7mxD_zfhcK5E1=s64",
      "userId": "06788086636039591358"
     },
     "user_tz": -330
    },
    "id": "t8vHmV_kQgoy",
    "outputId": "a99acfd2-34c9-4f1e-e30e-16e4c5fc9d9a"
   },
   "outputs": [
    {
     "data": {
      "text/plain": [
       "<matplotlib.axes._subplots.AxesSubplot at 0x7f1b2318fbe0>"
      ]
     },
     "execution_count": 23,
     "metadata": {
      "tags": []
     },
     "output_type": "execute_result"
    },
    {
     "data": {
      "image/png": "[encoded data removed]",
      "text/plain": [
       "<Figure size 432x288 with 1 Axes>"
      ]
     },
     "metadata": {
      "tags": []
     },
     "output_type": "display_data"
    }
   ],
   "source": [
    "A.boxplot(column='Price',by='Origin')"
   ]
  },
  {
   "cell_type": "code",
   "execution_count": 6,
   "metadata": {
    "colab": {
     "base_uri": "https://localhost:8080/",
     "height": 318
    },
    "colab_type": "code",
    "executionInfo": {
     "elapsed": 1006,
     "status": "ok",
     "timestamp": 1594114820603,
     "user": {
      "displayName": "Mahesh Anand",
      "photoUrl": "https://lh3.googleusercontent.com/a-/AOh14GiAxRvO4nLPhI4SJLaIoUVmhr8lm1tddyCLyKOj=s64",
      "userId": "06788086636039591358"
     },
     "user_tz": -330
    },
    "id": "FN1eujBU6qFJ",
    "outputId": "a466bccb-f560-467e-9ea2-70e827170155"
   },
   "outputs": [
    {
     "data": {
      "text/plain": [
       "<matplotlib.axes._subplots.AxesSubplot at 0x7fc88b0f46a0>"
      ]
     },
     "execution_count": 6,
     "metadata": {
      "tags": []
     },
     "output_type": "execute_result"
    },
    {
     "data": {
      "image/png": "[encoded data removed]",
      "text/plain": [
       "<Figure size 432x288 with 1 Axes>"
      ]
     },
     "metadata": {
      "needs_background": "light",
      "tags": []
     },
     "output_type": "display_data"
    }
   ],
   "source": [
    "A.boxplot(column='Price',by='AirBags')"
   ]
  },
  {
   "cell_type": "code",
   "execution_count": null,
   "metadata": {
    "colab": {
     "base_uri": "https://localhost:8080/",
     "height": 72
    },
    "colab_type": "code",
    "executionInfo": {
     "elapsed": 1174,
     "status": "ok",
     "timestamp": 1571208591797,
     "user": {
      "displayName": "Mahesh Anand",
      "photoUrl": "https://lh3.googleusercontent.com/a-/AAuE7mDwRqsBffQmzXsc6rHxDVmepWB7mxD_zfhcK5E1=s64",
      "userId": "06788086636039591358"
     },
     "user_tz": -330
    },
    "id": "Faw_1PCJUD9h",
    "outputId": "a8f42d22-da33-4c7e-955b-83b1ea36a7a5"
   },
   "outputs": [
    {
     "data": {
      "text/plain": [
       "Yes    61\n",
       "No     32\n",
       "Name: Man.trans.avail, dtype: int64"
      ]
     },
     "execution_count": 18,
     "metadata": {
      "tags": []
     },
     "output_type": "execute_result"
    }
   ],
   "source": [
    "A['Man.trans.avail'].value_counts()"
   ]
  },
  {
   "cell_type": "code",
   "execution_count": null,
   "metadata": {
    "colab": {
     "base_uri": "https://localhost:8080/",
     "height": 318
    },
    "colab_type": "code",
    "executionInfo": {
     "elapsed": 1165,
     "status": "ok",
     "timestamp": 1591079459132,
     "user": {
      "displayName": "Mahesh Anand",
      "photoUrl": "https://lh3.googleusercontent.com/a-/AOh14GiAxRvO4nLPhI4SJLaIoUVmhr8lm1tddyCLyKOj=s64",
      "userId": "06788086636039591358"
     },
     "user_tz": -330
    },
    "id": "hlwNQ0EKuYda",
    "outputId": "a3d25ed1-cb23-4243-bbef-29b176f2c2b0"
   },
   "outputs": [
    {
     "data": {
      "text/plain": [
       "<matplotlib.axes._subplots.AxesSubplot at 0x7f8f18288080>"
      ]
     },
     "execution_count": 160,
     "metadata": {
      "tags": []
     },
     "output_type": "execute_result"
    },
    {
     "data": {
      "image/png": "[encoded data removed]",
      "text/plain": [
       "<Figure size 432x288 with 1 Axes>"
      ]
     },
     "metadata": {
      "needs_background": "light",
      "tags": []
     },
     "output_type": "display_data"
    }
   ],
   "source": [
    "A.boxplot(column='Price',by='Man.trans.avail')"
   ]
  },
  {
   "cell_type": "code",
   "execution_count": null,
   "metadata": {
    "colab": {
     "base_uri": "https://localhost:8080/",
     "height": 318
    },
    "colab_type": "code",
    "executionInfo": {
     "elapsed": 1128,
     "status": "ok",
     "timestamp": 1582009955124,
     "user": {
      "displayName": "Mahesh Anand",
      "photoUrl": "https://lh3.googleusercontent.com/a-/AAuE7mDwRqsBffQmzXsc6rHxDVmepWB7mxD_zfhcK5E1=s64",
      "userId": "06788086636039591358"
     },
     "user_tz": -330
    },
    "id": "ym3Hn2M4BVk-",
    "outputId": "94571220-f498-4f46-c06f-813790134a37"
   },
   "outputs": [
    {
     "data": {
      "text/plain": [
       "<matplotlib.axes._subplots.AxesSubplot at 0x7f915ecda400>"
      ]
     },
     "execution_count": 32,
     "metadata": {
      "tags": []
     },
     "output_type": "execute_result"
    },
    {
     "data": {
      "image/png": "[encoded data removed]",
      "text/plain": [
       "<Figure size 432x288 with 1 Axes>"
      ]
     },
     "metadata": {
      "tags": []
     },
     "output_type": "display_data"
    }
   ],
   "source": [
    "A.boxplot(column='Price',by='DriveTrain')"
   ]
  },
  {
   "cell_type": "code",
   "execution_count": null,
   "metadata": {
    "colab": {},
    "colab_type": "code",
    "id": "jzj3gDTu5Q7H"
   },
   "outputs": [],
   "source": [
    "A.boxplot(column='Price',by='Man.trans.avail')"
   ]
  },
  {
   "cell_type": "code",
   "execution_count": null,
   "metadata": {
    "colab": {
     "base_uri": "https://localhost:8080/",
     "height": 319
    },
    "colab_type": "code",
    "executionInfo": {
     "elapsed": 1266,
     "status": "ok",
     "timestamp": 1571207618581,
     "user": {
      "displayName": "Mahesh Anand",
      "photoUrl": "https://lh3.googleusercontent.com/a-/AAuE7mDwRqsBffQmzXsc6rHxDVmepWB7mxD_zfhcK5E1=s64",
      "userId": "06788086636039591358"
     },
     "user_tz": -330
    },
    "id": "3QUWyzrHRXrH",
    "outputId": "0b6c7219-90c7-445d-fd7c-746608d2eb05"
   },
   "outputs": [
    {
     "data": {
      "text/plain": [
       "<matplotlib.axes._subplots.AxesSubplot at 0x7f4d7bd50c50>"
      ]
     },
     "execution_count": 12,
     "metadata": {
      "tags": []
     },
     "output_type": "execute_result"
    },
    {
     "data": {
      "image/png": "[encoded data removed]",
      "text/plain": [
       "<Figure size 432x288 with 1 Axes>"
      ]
     },
     "metadata": {
      "tags": []
     },
     "output_type": "display_data"
    }
   ],
   "source": [
    "A.boxplot(column='Price',by='AirBags')"
   ]
  },
  {
   "cell_type": "code",
   "execution_count": 7,
   "metadata": {
    "colab": {
     "base_uri": "https://localhost:8080/",
     "height": 615
    },
    "colab_type": "code",
    "executionInfo": {
     "elapsed": 1057,
     "status": "ok",
     "timestamp": 1594118737347,
     "user": {
      "displayName": "Mahesh Anand",
      "photoUrl": "https://lh3.googleusercontent.com/a-/AOh14GiAxRvO4nLPhI4SJLaIoUVmhr8lm1tddyCLyKOj=s64",
      "userId": "06788086636039591358"
     },
     "user_tz": -330
    },
    "id": "cNWdkesO4d1m",
    "outputId": "fae02982-d4b2-46fe-eb8e-f9f9a3f23f57"
   },
   "outputs": [
    {
     "name": "stdout",
     "output_type": "stream",
     "text": [
      "<class 'pandas.core.frame.DataFrame'>\n",
      "Int64Index: 93 entries, 1 to 93\n",
      "Data columns (total 27 columns):\n",
      " #   Column              Non-Null Count  Dtype  \n",
      "---  ------              --------------  -----  \n",
      " 0   Manufacturer        93 non-null     object \n",
      " 1   Model               93 non-null     object \n",
      " 2   Type                93 non-null     object \n",
      " 3   Min.Price           93 non-null     float64\n",
      " 4   Price               93 non-null     float64\n",
      " 5   Max.Price           93 non-null     float64\n",
      " 6   MPG.city            93 non-null     int64  \n",
      " 7   MPG.highway         93 non-null     int64  \n",
      " 8   AirBags             93 non-null     object \n",
      " 9   DriveTrain          93 non-null     object \n",
      " 10  Cylinders           93 non-null     object \n",
      " 11  EngineSize          93 non-null     float64\n",
      " 12  Horsepower          93 non-null     int64  \n",
      " 13  RPM                 93 non-null     int64  \n",
      " 14  Rev.per.mile        93 non-null     int64  \n",
      " 15  Man.trans.avail     93 non-null     object \n",
      " 16  Fuel.tank.capacity  93 non-null     float64\n",
      " 17  Passengers          93 non-null     int64  \n",
      " 18  Length              93 non-null     int64  \n",
      " 19  Wheelbase           93 non-null     int64  \n",
      " 20  Width               93 non-null     int64  \n",
      " 21  Turn.circle         93 non-null     int64  \n",
      " 22  Rear.seat.room      91 non-null     float64\n",
      " 23  Luggage.room        82 non-null     float64\n",
      " 24  Weight              93 non-null     int64  \n",
      " 25  Origin              93 non-null     object \n",
      " 26  Make                93 non-null     object \n",
      "dtypes: float64(7), int64(11), object(9)\n",
      "memory usage: 20.3+ KB\n"
     ]
    }
   ],
   "source": [
    "A.info()"
   ]
  },
  {
   "cell_type": "code",
   "execution_count": null,
   "metadata": {
    "colab": {},
    "colab_type": "code",
    "id": "zy-kgFs_bPyL"
   },
   "outputs": [],
   "source": [
    "#Bigdata (10K to 100K) = dropna\n",
    "#Dataset size (500-2000)upto 5-10% of size of n = Median Imputation or random sampling\n",
    "#Dataset around 1000, 10-20% of record is missing = KNN Imputer (preserve your distribution)"
   ]
  },
  {
   "cell_type": "code",
   "execution_count": 12,
   "metadata": {
    "colab": {},
    "colab_type": "code",
    "executionInfo": {
     "elapsed": 950,
     "status": "ok",
     "timestamp": 1594119839862,
     "user": {
      "displayName": "Mahesh Anand",
      "photoUrl": "https://lh3.googleusercontent.com/a-/AOh14GiAxRvO4nLPhI4SJLaIoUVmhr8lm1tddyCLyKOj=s64",
      "userId": "06788086636039591358"
     },
     "user_tz": -330
    },
    "id": "_ydpIPZhalLO"
   },
   "outputs": [],
   "source": [
    "A['Rear.seat.room'].fillna(A['Rear.seat.room'].median(),inplace=True)\n",
    "A['Luggage.room'].fillna(A['Luggage.room'].median(),inplace=True)"
   ]
  },
  {
   "cell_type": "code",
   "execution_count": 9,
   "metadata": {
    "colab": {
     "base_uri": "https://localhost:8080/",
     "height": 203
    },
    "colab_type": "code",
    "executionInfo": {
     "elapsed": 1022,
     "status": "ok",
     "timestamp": 1594119133645,
     "user": {
      "displayName": "Mahesh Anand",
      "photoUrl": "https://lh3.googleusercontent.com/a-/AOh14GiAxRvO4nLPhI4SJLaIoUVmhr8lm1tddyCLyKOj=s64",
      "userId": "06788086636039591358"
     },
     "user_tz": -330
    },
    "id": "eJ6aZhc0dlDS",
    "outputId": "285eefe3-f69a-4aa0-97cf-c77b85ab53cd"
   },
   "outputs": [
    {
     "data": {
      "text/html": [
       "<div>\n",
       "<style scoped>\n",
       "    .dataframe tbody tr th:only-of-type {\n",
       "        vertical-align: middle;\n",
       "    }\n",
       "\n",
       "    .dataframe tbody tr th {\n",
       "        vertical-align: top;\n",
       "    }\n",
       "\n",
       "    .dataframe thead th {\n",
       "        text-align: right;\n",
       "    }\n",
       "</style>\n",
       "<table border=\"1\" class=\"dataframe\">\n",
       "  <thead>\n",
       "    <tr style=\"text-align: right;\">\n",
       "      <th></th>\n",
       "      <th>x1</th>\n",
       "      <th>x2</th>\n",
       "      <th>x3</th>\n",
       "    </tr>\n",
       "  </thead>\n",
       "  <tbody>\n",
       "    <tr>\n",
       "      <th>0</th>\n",
       "      <td>3.0</td>\n",
       "      <td>5</td>\n",
       "      <td>NaN</td>\n",
       "    </tr>\n",
       "    <tr>\n",
       "      <th>1</th>\n",
       "      <td>8.0</td>\n",
       "      <td>2</td>\n",
       "      <td>9.0</td>\n",
       "    </tr>\n",
       "    <tr>\n",
       "      <th>2</th>\n",
       "      <td>NaN</td>\n",
       "      <td>7</td>\n",
       "      <td>8.0</td>\n",
       "    </tr>\n",
       "    <tr>\n",
       "      <th>3</th>\n",
       "      <td>5.0</td>\n",
       "      <td>8</td>\n",
       "      <td>2.0</td>\n",
       "    </tr>\n",
       "    <tr>\n",
       "      <th>4</th>\n",
       "      <td>10.0</td>\n",
       "      <td>9</td>\n",
       "      <td>5.0</td>\n",
       "    </tr>\n",
       "  </tbody>\n",
       "</table>\n",
       "</div>"
      ],
      "text/plain": [
       "     x1  x2   x3\n",
       "0   3.0   5  NaN\n",
       "1   8.0   2  9.0\n",
       "2   NaN   7  8.0\n",
       "3   5.0   8  2.0\n",
       "4  10.0   9  5.0"
      ]
     },
     "execution_count": 9,
     "metadata": {
      "tags": []
     },
     "output_type": "execute_result"
    }
   ],
   "source": [
    "test=pd.DataFrame({'x1':[3,8,np.nan,5,10],'x2':[5,2,7,8,9],'x3':[np.nan,9,8,2,5]})\n",
    "test"
   ]
  },
  {
   "cell_type": "code",
   "execution_count": 10,
   "metadata": {
    "colab": {},
    "colab_type": "code",
    "executionInfo": {
     "elapsed": 1641,
     "status": "ok",
     "timestamp": 1594119153607,
     "user": {
      "displayName": "Mahesh Anand",
      "photoUrl": "https://lh3.googleusercontent.com/a-/AOh14GiAxRvO4nLPhI4SJLaIoUVmhr8lm1tddyCLyKOj=s64",
      "userId": "06788086636039591358"
     },
     "user_tz": -330
    },
    "id": "6WD3s_xkgWua"
   },
   "outputs": [],
   "source": [
    "from sklearn.impute import KNNImputer\n",
    "#by default it is recursive"
   ]
  },
  {
   "cell_type": "code",
   "execution_count": 11,
   "metadata": {
    "colab": {
     "base_uri": "https://localhost:8080/",
     "height": 105
    },
    "colab_type": "code",
    "executionInfo": {
     "elapsed": 14897,
     "status": "ok",
     "timestamp": 1594119643779,
     "user": {
      "displayName": "Mahesh Anand",
      "photoUrl": "https://lh3.googleusercontent.com/a-/AOh14GiAxRvO4nLPhI4SJLaIoUVmhr8lm1tddyCLyKOj=s64",
      "userId": "06788086636039591358"
     },
     "user_tz": -330
    },
    "id": "LBF1P524gdXZ",
    "outputId": "67b2a8a9-9f43-43a6-d8d9-8f910a36de4d"
   },
   "outputs": [
    {
     "data": {
      "text/plain": [
       "array([[ 3. ,  5. ,  5. ],\n",
       "       [ 8. ,  2. ,  9. ],\n",
       "       [ 6.5,  7. ,  8. ],\n",
       "       [ 5. ,  8. ,  2. ],\n",
       "       [10. ,  9. ,  5. ]])"
      ]
     },
     "execution_count": 11,
     "metadata": {
      "tags": []
     },
     "output_type": "execute_result"
    }
   ],
   "source": [
    "Imp=KNNImputer(n_neighbors=2)\n",
    "Imp.fit_transform(test)"
   ]
  },
  {
   "cell_type": "code",
   "execution_count": null,
   "metadata": {
    "colab": {},
    "colab_type": "code",
    "id": "rwXgwp9veHX4"
   },
   "outputs": [],
   "source": [
    "#using KNN imputer (n_neigh=2)\n",
    "#test-1=8\n",
    "#test-3=5\n",
    "#test-4=11"
   ]
  },
  {
   "cell_type": "code",
   "execution_count": null,
   "metadata": {
    "colab": {
     "base_uri": "https://localhost:8080/",
     "height": 308
    },
    "colab_type": "code",
    "executionInfo": {
     "elapsed": 725,
     "status": "ok",
     "timestamp": 1591697245837,
     "user": {
      "displayName": "Mahesh Anand",
      "photoUrl": "https://lh3.googleusercontent.com/a-/AOh14GiAxRvO4nLPhI4SJLaIoUVmhr8lm1tddyCLyKOj=s64",
      "userId": "06788086636039591358"
     },
     "user_tz": -330
    },
    "id": "FmYz1upQX4kK",
    "outputId": "accde407-0664-4b85-9031-7f7ff41a92d8"
   },
   "outputs": [
    {
     "data": {
      "text/html": [
       "<div>\n",
       "<style scoped>\n",
       "    .dataframe tbody tr th:only-of-type {\n",
       "        vertical-align: middle;\n",
       "    }\n",
       "\n",
       "    .dataframe tbody tr th {\n",
       "        vertical-align: top;\n",
       "    }\n",
       "\n",
       "    .dataframe thead th {\n",
       "        text-align: right;\n",
       "    }\n",
       "</style>\n",
       "<table border=\"1\" class=\"dataframe\">\n",
       "  <thead>\n",
       "    <tr style=\"text-align: right;\">\n",
       "      <th></th>\n",
       "      <th>Type</th>\n",
       "      <th>Price</th>\n",
       "      <th>MPG.city</th>\n",
       "      <th>MPG.highway</th>\n",
       "      <th>AirBags</th>\n",
       "      <th>DriveTrain</th>\n",
       "      <th>Cylinders</th>\n",
       "      <th>EngineSize</th>\n",
       "      <th>Horsepower</th>\n",
       "      <th>RPM</th>\n",
       "      <th>Rev.per.mile</th>\n",
       "      <th>Man.trans.avail</th>\n",
       "      <th>Fuel.tank.capacity</th>\n",
       "      <th>Passengers</th>\n",
       "      <th>Length</th>\n",
       "      <th>Wheelbase</th>\n",
       "      <th>Width</th>\n",
       "      <th>Turn.circle</th>\n",
       "      <th>Rear.seat.room</th>\n",
       "      <th>Luggage.room</th>\n",
       "      <th>Weight</th>\n",
       "      <th>Origin</th>\n",
       "    </tr>\n",
       "  </thead>\n",
       "  <tbody>\n",
       "    <tr>\n",
       "      <th>1</th>\n",
       "      <td>Small</td>\n",
       "      <td>15.9</td>\n",
       "      <td>25</td>\n",
       "      <td>31</td>\n",
       "      <td>None</td>\n",
       "      <td>Front</td>\n",
       "      <td>4</td>\n",
       "      <td>1.8</td>\n",
       "      <td>140</td>\n",
       "      <td>6300</td>\n",
       "      <td>2890</td>\n",
       "      <td>Yes</td>\n",
       "      <td>13.2</td>\n",
       "      <td>5</td>\n",
       "      <td>177</td>\n",
       "      <td>102</td>\n",
       "      <td>68</td>\n",
       "      <td>37</td>\n",
       "      <td>26.5</td>\n",
       "      <td>11.0</td>\n",
       "      <td>2705</td>\n",
       "      <td>non-USA</td>\n",
       "    </tr>\n",
       "    <tr>\n",
       "      <th>2</th>\n",
       "      <td>Midsize</td>\n",
       "      <td>33.9</td>\n",
       "      <td>18</td>\n",
       "      <td>25</td>\n",
       "      <td>Driver &amp; Passenger</td>\n",
       "      <td>Front</td>\n",
       "      <td>6</td>\n",
       "      <td>3.2</td>\n",
       "      <td>200</td>\n",
       "      <td>5500</td>\n",
       "      <td>2335</td>\n",
       "      <td>Yes</td>\n",
       "      <td>18.0</td>\n",
       "      <td>5</td>\n",
       "      <td>195</td>\n",
       "      <td>115</td>\n",
       "      <td>71</td>\n",
       "      <td>38</td>\n",
       "      <td>30.0</td>\n",
       "      <td>15.0</td>\n",
       "      <td>3560</td>\n",
       "      <td>non-USA</td>\n",
       "    </tr>\n",
       "    <tr>\n",
       "      <th>3</th>\n",
       "      <td>Compact</td>\n",
       "      <td>29.1</td>\n",
       "      <td>20</td>\n",
       "      <td>26</td>\n",
       "      <td>Driver only</td>\n",
       "      <td>Front</td>\n",
       "      <td>6</td>\n",
       "      <td>2.8</td>\n",
       "      <td>172</td>\n",
       "      <td>5500</td>\n",
       "      <td>2280</td>\n",
       "      <td>Yes</td>\n",
       "      <td>16.9</td>\n",
       "      <td>5</td>\n",
       "      <td>180</td>\n",
       "      <td>102</td>\n",
       "      <td>67</td>\n",
       "      <td>37</td>\n",
       "      <td>28.0</td>\n",
       "      <td>14.0</td>\n",
       "      <td>3375</td>\n",
       "      <td>non-USA</td>\n",
       "    </tr>\n",
       "    <tr>\n",
       "      <th>4</th>\n",
       "      <td>Midsize</td>\n",
       "      <td>37.7</td>\n",
       "      <td>19</td>\n",
       "      <td>26</td>\n",
       "      <td>Driver &amp; Passenger</td>\n",
       "      <td>Front</td>\n",
       "      <td>6</td>\n",
       "      <td>2.8</td>\n",
       "      <td>172</td>\n",
       "      <td>5500</td>\n",
       "      <td>2535</td>\n",
       "      <td>Yes</td>\n",
       "      <td>21.1</td>\n",
       "      <td>6</td>\n",
       "      <td>193</td>\n",
       "      <td>106</td>\n",
       "      <td>70</td>\n",
       "      <td>37</td>\n",
       "      <td>31.0</td>\n",
       "      <td>17.0</td>\n",
       "      <td>3405</td>\n",
       "      <td>non-USA</td>\n",
       "    </tr>\n",
       "    <tr>\n",
       "      <th>5</th>\n",
       "      <td>Midsize</td>\n",
       "      <td>30.0</td>\n",
       "      <td>22</td>\n",
       "      <td>30</td>\n",
       "      <td>Driver only</td>\n",
       "      <td>Rear</td>\n",
       "      <td>4</td>\n",
       "      <td>3.5</td>\n",
       "      <td>208</td>\n",
       "      <td>5700</td>\n",
       "      <td>2545</td>\n",
       "      <td>Yes</td>\n",
       "      <td>21.1</td>\n",
       "      <td>4</td>\n",
       "      <td>186</td>\n",
       "      <td>109</td>\n",
       "      <td>69</td>\n",
       "      <td>39</td>\n",
       "      <td>27.0</td>\n",
       "      <td>13.0</td>\n",
       "      <td>3640</td>\n",
       "      <td>non-USA</td>\n",
       "    </tr>\n",
       "  </tbody>\n",
       "</table>\n",
       "</div>"
      ],
      "text/plain": [
       "      Type  Price  MPG.city  ...  Luggage.room Weight   Origin\n",
       "1    Small   15.9        25  ...          11.0   2705  non-USA\n",
       "2  Midsize   33.9        18  ...          15.0   3560  non-USA\n",
       "3  Compact   29.1        20  ...          14.0   3375  non-USA\n",
       "4  Midsize   37.7        19  ...          17.0   3405  non-USA\n",
       "5  Midsize   30.0        22  ...          13.0   3640  non-USA\n",
       "\n",
       "[5 rows x 22 columns]"
      ]
     },
     "execution_count": 16,
     "metadata": {
      "tags": []
     },
     "output_type": "execute_result"
    }
   ],
   "source": [
    "#Create a B data frame by dropping unwanted columns based on business context\n",
    "B=A.drop(['Manufacturer','Model','Min.Price','Max.Price','Make'],axis=1)\n",
    "B.head()"
   ]
  },
  {
   "cell_type": "code",
   "execution_count": null,
   "metadata": {
    "colab": {
     "base_uri": "https://localhost:8080/",
     "height": 326
    },
    "colab_type": "code",
    "executionInfo": {
     "elapsed": 978,
     "status": "ok",
     "timestamp": 1591697249560,
     "user": {
      "displayName": "Mahesh Anand",
      "photoUrl": "https://lh3.googleusercontent.com/a-/AOh14GiAxRvO4nLPhI4SJLaIoUVmhr8lm1tddyCLyKOj=s64",
      "userId": "06788086636039591358"
     },
     "user_tz": -330
    },
    "id": "AWPHAzAIJtEc",
    "outputId": "f7efd7f1-c76d-4cbf-edc0-c26c2f0af345"
   },
   "outputs": [
    {
     "data": {
      "text/html": [
       "<div>\n",
       "<style scoped>\n",
       "    .dataframe tbody tr th:only-of-type {\n",
       "        vertical-align: middle;\n",
       "    }\n",
       "\n",
       "    .dataframe tbody tr th {\n",
       "        vertical-align: top;\n",
       "    }\n",
       "\n",
       "    .dataframe thead th {\n",
       "        text-align: right;\n",
       "    }\n",
       "</style>\n",
       "<table border=\"1\" class=\"dataframe\">\n",
       "  <thead>\n",
       "    <tr style=\"text-align: right;\">\n",
       "      <th></th>\n",
       "      <th>Type</th>\n",
       "      <th>Price</th>\n",
       "      <th>MPG.city</th>\n",
       "      <th>MPG.highway</th>\n",
       "      <th>AirBags</th>\n",
       "      <th>DriveTrain</th>\n",
       "      <th>Cylinders</th>\n",
       "      <th>EngineSize</th>\n",
       "      <th>Horsepower</th>\n",
       "      <th>RPM</th>\n",
       "      <th>Rev.per.mile</th>\n",
       "      <th>Man.trans.avail</th>\n",
       "      <th>Fuel.tank.capacity</th>\n",
       "      <th>Passengers</th>\n",
       "      <th>Length</th>\n",
       "      <th>Wheelbase</th>\n",
       "      <th>Width</th>\n",
       "      <th>Turn.circle</th>\n",
       "      <th>Rear.seat.room</th>\n",
       "      <th>Luggage.room</th>\n",
       "      <th>Weight</th>\n",
       "      <th>Origin</th>\n",
       "      <th>Compact</th>\n",
       "      <th>Large</th>\n",
       "      <th>Midsize</th>\n",
       "      <th>Small</th>\n",
       "      <th>Sporty</th>\n",
       "      <th>Van</th>\n",
       "      <th>Driver &amp; Passenger</th>\n",
       "      <th>Driver only</th>\n",
       "      <th>None</th>\n",
       "      <th>4WD</th>\n",
       "      <th>Front</th>\n",
       "      <th>Rear</th>\n",
       "      <th>3</th>\n",
       "      <th>4</th>\n",
       "      <th>5</th>\n",
       "      <th>6</th>\n",
       "      <th>8</th>\n",
       "      <th>rotary</th>\n",
       "      <th>2</th>\n",
       "      <th>4</th>\n",
       "      <th>5</th>\n",
       "      <th>6</th>\n",
       "      <th>7</th>\n",
       "      <th>8</th>\n",
       "    </tr>\n",
       "  </thead>\n",
       "  <tbody>\n",
       "    <tr>\n",
       "      <th>1</th>\n",
       "      <td>Small</td>\n",
       "      <td>15.9</td>\n",
       "      <td>25</td>\n",
       "      <td>31</td>\n",
       "      <td>None</td>\n",
       "      <td>Front</td>\n",
       "      <td>4</td>\n",
       "      <td>1.8</td>\n",
       "      <td>140</td>\n",
       "      <td>6300</td>\n",
       "      <td>2890</td>\n",
       "      <td>Yes</td>\n",
       "      <td>13.2</td>\n",
       "      <td>5</td>\n",
       "      <td>177</td>\n",
       "      <td>102</td>\n",
       "      <td>68</td>\n",
       "      <td>37</td>\n",
       "      <td>26.5</td>\n",
       "      <td>11.0</td>\n",
       "      <td>2705</td>\n",
       "      <td>non-USA</td>\n",
       "      <td>0</td>\n",
       "      <td>0</td>\n",
       "      <td>0</td>\n",
       "      <td>1</td>\n",
       "      <td>0</td>\n",
       "      <td>0</td>\n",
       "      <td>0</td>\n",
       "      <td>0</td>\n",
       "      <td>1</td>\n",
       "      <td>0</td>\n",
       "      <td>1</td>\n",
       "      <td>0</td>\n",
       "      <td>0</td>\n",
       "      <td>1</td>\n",
       "      <td>0</td>\n",
       "      <td>0</td>\n",
       "      <td>0</td>\n",
       "      <td>0</td>\n",
       "      <td>0</td>\n",
       "      <td>0</td>\n",
       "      <td>1</td>\n",
       "      <td>0</td>\n",
       "      <td>0</td>\n",
       "      <td>0</td>\n",
       "    </tr>\n",
       "    <tr>\n",
       "      <th>2</th>\n",
       "      <td>Midsize</td>\n",
       "      <td>33.9</td>\n",
       "      <td>18</td>\n",
       "      <td>25</td>\n",
       "      <td>Driver &amp; Passenger</td>\n",
       "      <td>Front</td>\n",
       "      <td>6</td>\n",
       "      <td>3.2</td>\n",
       "      <td>200</td>\n",
       "      <td>5500</td>\n",
       "      <td>2335</td>\n",
       "      <td>Yes</td>\n",
       "      <td>18.0</td>\n",
       "      <td>5</td>\n",
       "      <td>195</td>\n",
       "      <td>115</td>\n",
       "      <td>71</td>\n",
       "      <td>38</td>\n",
       "      <td>30.0</td>\n",
       "      <td>15.0</td>\n",
       "      <td>3560</td>\n",
       "      <td>non-USA</td>\n",
       "      <td>0</td>\n",
       "      <td>0</td>\n",
       "      <td>1</td>\n",
       "      <td>0</td>\n",
       "      <td>0</td>\n",
       "      <td>0</td>\n",
       "      <td>1</td>\n",
       "      <td>0</td>\n",
       "      <td>0</td>\n",
       "      <td>0</td>\n",
       "      <td>1</td>\n",
       "      <td>0</td>\n",
       "      <td>0</td>\n",
       "      <td>0</td>\n",
       "      <td>0</td>\n",
       "      <td>1</td>\n",
       "      <td>0</td>\n",
       "      <td>0</td>\n",
       "      <td>0</td>\n",
       "      <td>0</td>\n",
       "      <td>1</td>\n",
       "      <td>0</td>\n",
       "      <td>0</td>\n",
       "      <td>0</td>\n",
       "    </tr>\n",
       "    <tr>\n",
       "      <th>3</th>\n",
       "      <td>Compact</td>\n",
       "      <td>29.1</td>\n",
       "      <td>20</td>\n",
       "      <td>26</td>\n",
       "      <td>Driver only</td>\n",
       "      <td>Front</td>\n",
       "      <td>6</td>\n",
       "      <td>2.8</td>\n",
       "      <td>172</td>\n",
       "      <td>5500</td>\n",
       "      <td>2280</td>\n",
       "      <td>Yes</td>\n",
       "      <td>16.9</td>\n",
       "      <td>5</td>\n",
       "      <td>180</td>\n",
       "      <td>102</td>\n",
       "      <td>67</td>\n",
       "      <td>37</td>\n",
       "      <td>28.0</td>\n",
       "      <td>14.0</td>\n",
       "      <td>3375</td>\n",
       "      <td>non-USA</td>\n",
       "      <td>1</td>\n",
       "      <td>0</td>\n",
       "      <td>0</td>\n",
       "      <td>0</td>\n",
       "      <td>0</td>\n",
       "      <td>0</td>\n",
       "      <td>0</td>\n",
       "      <td>1</td>\n",
       "      <td>0</td>\n",
       "      <td>0</td>\n",
       "      <td>1</td>\n",
       "      <td>0</td>\n",
       "      <td>0</td>\n",
       "      <td>0</td>\n",
       "      <td>0</td>\n",
       "      <td>1</td>\n",
       "      <td>0</td>\n",
       "      <td>0</td>\n",
       "      <td>0</td>\n",
       "      <td>0</td>\n",
       "      <td>1</td>\n",
       "      <td>0</td>\n",
       "      <td>0</td>\n",
       "      <td>0</td>\n",
       "    </tr>\n",
       "    <tr>\n",
       "      <th>4</th>\n",
       "      <td>Midsize</td>\n",
       "      <td>37.7</td>\n",
       "      <td>19</td>\n",
       "      <td>26</td>\n",
       "      <td>Driver &amp; Passenger</td>\n",
       "      <td>Front</td>\n",
       "      <td>6</td>\n",
       "      <td>2.8</td>\n",
       "      <td>172</td>\n",
       "      <td>5500</td>\n",
       "      <td>2535</td>\n",
       "      <td>Yes</td>\n",
       "      <td>21.1</td>\n",
       "      <td>6</td>\n",
       "      <td>193</td>\n",
       "      <td>106</td>\n",
       "      <td>70</td>\n",
       "      <td>37</td>\n",
       "      <td>31.0</td>\n",
       "      <td>17.0</td>\n",
       "      <td>3405</td>\n",
       "      <td>non-USA</td>\n",
       "      <td>0</td>\n",
       "      <td>0</td>\n",
       "      <td>1</td>\n",
       "      <td>0</td>\n",
       "      <td>0</td>\n",
       "      <td>0</td>\n",
       "      <td>1</td>\n",
       "      <td>0</td>\n",
       "      <td>0</td>\n",
       "      <td>0</td>\n",
       "      <td>1</td>\n",
       "      <td>0</td>\n",
       "      <td>0</td>\n",
       "      <td>0</td>\n",
       "      <td>0</td>\n",
       "      <td>1</td>\n",
       "      <td>0</td>\n",
       "      <td>0</td>\n",
       "      <td>0</td>\n",
       "      <td>0</td>\n",
       "      <td>0</td>\n",
       "      <td>1</td>\n",
       "      <td>0</td>\n",
       "      <td>0</td>\n",
       "    </tr>\n",
       "    <tr>\n",
       "      <th>5</th>\n",
       "      <td>Midsize</td>\n",
       "      <td>30.0</td>\n",
       "      <td>22</td>\n",
       "      <td>30</td>\n",
       "      <td>Driver only</td>\n",
       "      <td>Rear</td>\n",
       "      <td>4</td>\n",
       "      <td>3.5</td>\n",
       "      <td>208</td>\n",
       "      <td>5700</td>\n",
       "      <td>2545</td>\n",
       "      <td>Yes</td>\n",
       "      <td>21.1</td>\n",
       "      <td>4</td>\n",
       "      <td>186</td>\n",
       "      <td>109</td>\n",
       "      <td>69</td>\n",
       "      <td>39</td>\n",
       "      <td>27.0</td>\n",
       "      <td>13.0</td>\n",
       "      <td>3640</td>\n",
       "      <td>non-USA</td>\n",
       "      <td>0</td>\n",
       "      <td>0</td>\n",
       "      <td>1</td>\n",
       "      <td>0</td>\n",
       "      <td>0</td>\n",
       "      <td>0</td>\n",
       "      <td>0</td>\n",
       "      <td>1</td>\n",
       "      <td>0</td>\n",
       "      <td>0</td>\n",
       "      <td>0</td>\n",
       "      <td>1</td>\n",
       "      <td>0</td>\n",
       "      <td>1</td>\n",
       "      <td>0</td>\n",
       "      <td>0</td>\n",
       "      <td>0</td>\n",
       "      <td>0</td>\n",
       "      <td>0</td>\n",
       "      <td>1</td>\n",
       "      <td>0</td>\n",
       "      <td>0</td>\n",
       "      <td>0</td>\n",
       "      <td>0</td>\n",
       "    </tr>\n",
       "  </tbody>\n",
       "</table>\n",
       "</div>"
      ],
      "text/plain": [
       "      Type  Price  MPG.city  MPG.highway             AirBags  ...  4  5  6  7  8\n",
       "1    Small   15.9        25           31                None  ...  0  1  0  0  0\n",
       "2  Midsize   33.9        18           25  Driver & Passenger  ...  0  1  0  0  0\n",
       "3  Compact   29.1        20           26         Driver only  ...  0  1  0  0  0\n",
       "4  Midsize   37.7        19           26  Driver & Passenger  ...  0  0  1  0  0\n",
       "5  Midsize   30.0        22           30         Driver only  ...  1  0  0  0  0\n",
       "\n",
       "[5 rows x 46 columns]"
      ]
     },
     "execution_count": 17,
     "metadata": {
      "tags": []
     },
     "output_type": "execute_result"
    }
   ],
   "source": [
    "#Create dummy columns to categorical columns\n",
    "B_Type=pd.get_dummies(B['Type'])\n",
    "B_airbags=pd.get_dummies(B['AirBags'])\n",
    "B_DT=pd.get_dummies(B['DriveTrain'])\n",
    "B_cyl=pd.get_dummies(B['Cylinders'])\n",
    "B_pas=pd.get_dummies(B['Passengers'])\n",
    "B_update=pd.concat([B,B_Type,B_airbags,B_DT,B_cyl,B_pas],axis=1)\n",
    "B_update.head()"
   ]
  },
  {
   "cell_type": "code",
   "execution_count": null,
   "metadata": {
    "colab": {},
    "colab_type": "code",
    "id": "7yAN66Coa8vz"
   },
   "outputs": [],
   "source": [
    "B_update['Origin']=B_update['Origin'].replace({'USA': 0, 'non-USA': 1})\n",
    "B_update['Man.trans.avail']=B_update['Man.trans.avail'].replace({'Yes': 0, 'No': 1})"
   ]
  },
  {
   "cell_type": "code",
   "execution_count": null,
   "metadata": {
    "colab": {
     "base_uri": "https://localhost:8080/",
     "height": 840
    },
    "colab_type": "code",
    "executionInfo": {
     "elapsed": 965,
     "status": "ok",
     "timestamp": 1591697257976,
     "user": {
      "displayName": "Mahesh Anand",
      "photoUrl": "https://lh3.googleusercontent.com/a-/AOh14GiAxRvO4nLPhI4SJLaIoUVmhr8lm1tddyCLyKOj=s64",
      "userId": "06788086636039591358"
     },
     "user_tz": -330
    },
    "id": "SnDwmSODaLgS",
    "outputId": "ec40f9a1-a315-46d9-a1ad-418f1ab9a4f7"
   },
   "outputs": [
    {
     "name": "stdout",
     "output_type": "stream",
     "text": [
      "<class 'pandas.core.frame.DataFrame'>\n",
      "Int64Index: 93 entries, 1 to 93\n",
      "Data columns (total 41 columns):\n",
      " #   Column              Non-Null Count  Dtype  \n",
      "---  ------              --------------  -----  \n",
      " 0   Price               93 non-null     float64\n",
      " 1   MPG.city            93 non-null     int64  \n",
      " 2   MPG.highway         93 non-null     int64  \n",
      " 3   EngineSize          93 non-null     float64\n",
      " 4   Horsepower          93 non-null     int64  \n",
      " 5   RPM                 93 non-null     int64  \n",
      " 6   Rev.per.mile        93 non-null     int64  \n",
      " 7   Man.trans.avail     93 non-null     int64  \n",
      " 8   Fuel.tank.capacity  93 non-null     float64\n",
      " 9   Length              93 non-null     int64  \n",
      " 10  Wheelbase           93 non-null     int64  \n",
      " 11  Width               93 non-null     int64  \n",
      " 12  Turn.circle         93 non-null     int64  \n",
      " 13  Rear.seat.room      93 non-null     float64\n",
      " 14  Luggage.room        93 non-null     float64\n",
      " 15  Weight              93 non-null     int64  \n",
      " 16  Origin              93 non-null     int64  \n",
      " 17  Compact             93 non-null     uint8  \n",
      " 18  Large               93 non-null     uint8  \n",
      " 19  Midsize             93 non-null     uint8  \n",
      " 20  Small               93 non-null     uint8  \n",
      " 21  Sporty              93 non-null     uint8  \n",
      " 22  Van                 93 non-null     uint8  \n",
      " 23  Driver & Passenger  93 non-null     uint8  \n",
      " 24  Driver only         93 non-null     uint8  \n",
      " 25  None                93 non-null     uint8  \n",
      " 26  4WD                 93 non-null     uint8  \n",
      " 27  Front               93 non-null     uint8  \n",
      " 28  Rear                93 non-null     uint8  \n",
      " 29  3                   93 non-null     uint8  \n",
      " 30  4                   93 non-null     uint8  \n",
      " 31  5                   93 non-null     uint8  \n",
      " 32  6                   93 non-null     uint8  \n",
      " 33  8                   93 non-null     uint8  \n",
      " 34  rotary              93 non-null     uint8  \n",
      " 35  2                   93 non-null     uint8  \n",
      " 36  4                   93 non-null     uint8  \n",
      " 37  5                   93 non-null     uint8  \n",
      " 38  6                   93 non-null     uint8  \n",
      " 39  7                   93 non-null     uint8  \n",
      " 40  8                   93 non-null     uint8  \n",
      "dtypes: float64(5), int64(12), uint8(24)\n",
      "memory usage: 15.3 KB\n"
     ]
    }
   ],
   "source": [
    "df=B_update.drop(['Type','AirBags','DriveTrain','Cylinders','Passengers'],axis=1)\n",
    "df.info()"
   ]
  },
  {
   "cell_type": "code",
   "execution_count": null,
   "metadata": {
    "colab": {
     "base_uri": "https://localhost:8080/",
     "height": 1000
    },
    "colab_type": "code",
    "executionInfo": {
     "elapsed": 951,
     "status": "ok",
     "timestamp": 1591697285790,
     "user": {
      "displayName": "Mahesh Anand",
      "photoUrl": "https://lh3.googleusercontent.com/a-/AOh14GiAxRvO4nLPhI4SJLaIoUVmhr8lm1tddyCLyKOj=s64",
      "userId": "06788086636039591358"
     },
     "user_tz": -330
    },
    "id": "_zvr6SqsbOnE",
    "outputId": "f14ec9a5-0159-4dbe-a705-3870b7617a3c"
   },
   "outputs": [
    {
     "data": {
      "text/html": [
       "<div>\n",
       "<style scoped>\n",
       "    .dataframe tbody tr th:only-of-type {\n",
       "        vertical-align: middle;\n",
       "    }\n",
       "\n",
       "    .dataframe tbody tr th {\n",
       "        vertical-align: top;\n",
       "    }\n",
       "\n",
       "    .dataframe thead th {\n",
       "        text-align: right;\n",
       "    }\n",
       "</style>\n",
       "<table border=\"1\" class=\"dataframe\">\n",
       "  <thead>\n",
       "    <tr style=\"text-align: right;\">\n",
       "      <th></th>\n",
       "      <th>Price</th>\n",
       "      <th>MPG.city</th>\n",
       "      <th>MPG.highway</th>\n",
       "      <th>EngineSize</th>\n",
       "      <th>Horsepower</th>\n",
       "      <th>RPM</th>\n",
       "      <th>Rev.per.mile</th>\n",
       "      <th>Man.trans.avail</th>\n",
       "      <th>Fuel.tank.capacity</th>\n",
       "      <th>Length</th>\n",
       "      <th>Wheelbase</th>\n",
       "      <th>Width</th>\n",
       "      <th>Turn.circle</th>\n",
       "      <th>Rear.seat.room</th>\n",
       "      <th>Luggage.room</th>\n",
       "      <th>Weight</th>\n",
       "      <th>Origin</th>\n",
       "      <th>Compact</th>\n",
       "      <th>Large</th>\n",
       "      <th>Midsize</th>\n",
       "      <th>Small</th>\n",
       "      <th>Sporty</th>\n",
       "      <th>Van</th>\n",
       "      <th>Driver &amp; Passenger</th>\n",
       "      <th>Driver only</th>\n",
       "      <th>None</th>\n",
       "      <th>4WD</th>\n",
       "      <th>Front</th>\n",
       "      <th>Rear</th>\n",
       "      <th>3</th>\n",
       "      <th>4</th>\n",
       "      <th>5</th>\n",
       "      <th>6</th>\n",
       "      <th>8</th>\n",
       "      <th>rotary</th>\n",
       "      <th>2</th>\n",
       "      <th>4</th>\n",
       "      <th>5</th>\n",
       "      <th>6</th>\n",
       "      <th>7</th>\n",
       "      <th>8</th>\n",
       "    </tr>\n",
       "  </thead>\n",
       "  <tbody>\n",
       "    <tr>\n",
       "      <th>Price</th>\n",
       "      <td>1.000000</td>\n",
       "      <td>-0.594562</td>\n",
       "      <td>-0.560680</td>\n",
       "      <td>0.597425</td>\n",
       "      <td>0.788218</td>\n",
       "      <td>-0.004955</td>\n",
       "      <td>-0.426395</td>\n",
       "      <td>0.326504</td>\n",
       "      <td>0.619480</td>\n",
       "      <td>0.503628</td>\n",
       "      <td>0.500864</td>\n",
       "      <td>0.456028</td>\n",
       "      <td>0.392590</td>\n",
       "      <td>0.297898</td>\n",
       "      <td>0.355827</td>\n",
       "      <td>0.647179</td>\n",
       "      <td>0.100702</td>\n",
       "      <td>-0.061547</td>\n",
       "      <td>0.182621</td>\n",
       "      <td>0.446630</td>\n",
       "      <td>-0.525202</td>\n",
       "      <td>-0.005119</td>\n",
       "      <td>-0.013958</td>\n",
       "      <td>0.420338</td>\n",
       "      <td>0.165405</td>\n",
       "      <td>-0.500651</td>\n",
       "      <td>-0.067911</td>\n",
       "      <td>-0.329809</td>\n",
       "      <td>0.447917</td>\n",
       "      <td>-0.209857</td>\n",
       "      <td>-0.533908</td>\n",
       "      <td>0.056945</td>\n",
       "      <td>0.358506</td>\n",
       "      <td>0.423939</td>\n",
       "      <td>0.140969</td>\n",
       "      <td>0.242887</td>\n",
       "      <td>-0.243124</td>\n",
       "      <td>0.003389</td>\n",
       "      <td>0.182511</td>\n",
       "      <td>-0.003103</td>\n",
       "      <td>-0.031575</td>\n",
       "    </tr>\n",
       "    <tr>\n",
       "      <th>MPG.city</th>\n",
       "      <td>-0.594562</td>\n",
       "      <td>1.000000</td>\n",
       "      <td>0.943936</td>\n",
       "      <td>-0.710003</td>\n",
       "      <td>-0.672636</td>\n",
       "      <td>0.363045</td>\n",
       "      <td>0.695857</td>\n",
       "      <td>-0.444210</td>\n",
       "      <td>-0.813144</td>\n",
       "      <td>-0.666239</td>\n",
       "      <td>-0.667108</td>\n",
       "      <td>-0.720534</td>\n",
       "      <td>-0.666389</td>\n",
       "      <td>-0.378071</td>\n",
       "      <td>-0.466621</td>\n",
       "      <td>-0.843139</td>\n",
       "      <td>0.260024</td>\n",
       "      <td>0.026253</td>\n",
       "      <td>-0.262233</td>\n",
       "      <td>-0.280852</td>\n",
       "      <td>0.723837</td>\n",
       "      <td>-0.043673</td>\n",
       "      <td>-0.314214</td>\n",
       "      <td>-0.228601</td>\n",
       "      <td>-0.122390</td>\n",
       "      <td>0.305857</td>\n",
       "      <td>-0.115852</td>\n",
       "      <td>0.332226</td>\n",
       "      <td>-0.299960</td>\n",
       "      <td>0.554229</td>\n",
       "      <td>0.470400</td>\n",
       "      <td>-0.102526</td>\n",
       "      <td>-0.499222</td>\n",
       "      <td>-0.273869</td>\n",
       "      <td>-0.100081</td>\n",
       "      <td>-0.142311</td>\n",
       "      <td>0.430677</td>\n",
       "      <td>0.069785</td>\n",
       "      <td>-0.270634</td>\n",
       "      <td>-0.280774</td>\n",
       "      <td>-0.137385</td>\n",
       "    </tr>\n",
       "    <tr>\n",
       "      <th>MPG.highway</th>\n",
       "      <td>-0.560680</td>\n",
       "      <td>0.943936</td>\n",
       "      <td>1.000000</td>\n",
       "      <td>-0.626795</td>\n",
       "      <td>-0.619044</td>\n",
       "      <td>0.313469</td>\n",
       "      <td>0.587497</td>\n",
       "      <td>-0.404419</td>\n",
       "      <td>-0.786039</td>\n",
       "      <td>-0.542897</td>\n",
       "      <td>-0.615384</td>\n",
       "      <td>-0.640359</td>\n",
       "      <td>-0.593683</td>\n",
       "      <td>-0.362379</td>\n",
       "      <td>-0.333507</td>\n",
       "      <td>-0.810658</td>\n",
       "      <td>0.183109</td>\n",
       "      <td>0.067820</td>\n",
       "      <td>-0.162911</td>\n",
       "      <td>-0.247596</td>\n",
       "      <td>0.650782</td>\n",
       "      <td>-0.023839</td>\n",
       "      <td>-0.444243</td>\n",
       "      <td>-0.168569</td>\n",
       "      <td>-0.116715</td>\n",
       "      <td>0.252936</td>\n",
       "      <td>-0.215085</td>\n",
       "      <td>0.348962</td>\n",
       "      <td>-0.238411</td>\n",
       "      <td>0.490515</td>\n",
       "      <td>0.470227</td>\n",
       "      <td>-0.128207</td>\n",
       "      <td>-0.501822</td>\n",
       "      <td>-0.219827</td>\n",
       "      <td>-0.080332</td>\n",
       "      <td>-0.114229</td>\n",
       "      <td>0.413671</td>\n",
       "      <td>0.083612</td>\n",
       "      <td>-0.182445</td>\n",
       "      <td>-0.402706</td>\n",
       "      <td>-0.178632</td>\n",
       "    </tr>\n",
       "    <tr>\n",
       "      <th>EngineSize</th>\n",
       "      <td>0.597425</td>\n",
       "      <td>-0.710003</td>\n",
       "      <td>-0.626795</td>\n",
       "      <td>1.000000</td>\n",
       "      <td>0.732120</td>\n",
       "      <td>-0.547898</td>\n",
       "      <td>-0.824009</td>\n",
       "      <td>0.634686</td>\n",
       "      <td>0.759306</td>\n",
       "      <td>0.780283</td>\n",
       "      <td>0.732484</td>\n",
       "      <td>0.867110</td>\n",
       "      <td>0.778464</td>\n",
       "      <td>0.471733</td>\n",
       "      <td>0.620915</td>\n",
       "      <td>0.845075</td>\n",
       "      <td>-0.399321</td>\n",
       "      <td>-0.148664</td>\n",
       "      <td>0.547151</td>\n",
       "      <td>0.211136</td>\n",
       "      <td>-0.561383</td>\n",
       "      <td>-0.071354</td>\n",
       "      <td>0.168858</td>\n",
       "      <td>0.271051</td>\n",
       "      <td>0.154409</td>\n",
       "      <td>-0.372273</td>\n",
       "      <td>-0.032882</td>\n",
       "      <td>-0.346901</td>\n",
       "      <td>0.439490</td>\n",
       "      <td>-0.265619</td>\n",
       "      <td>-0.662090</td>\n",
       "      <td>-0.031286</td>\n",
       "      <td>0.504052</td>\n",
       "      <td>0.601449</td>\n",
       "      <td>-0.138206</td>\n",
       "      <td>0.119583</td>\n",
       "      <td>-0.325077</td>\n",
       "      <td>-0.215728</td>\n",
       "      <td>0.455837</td>\n",
       "      <td>0.117377</td>\n",
       "      <td>0.164935</td>\n",
       "    </tr>\n",
       "    <tr>\n",
       "      <th>Horsepower</th>\n",
       "      <td>0.788218</td>\n",
       "      <td>-0.672636</td>\n",
       "      <td>-0.619044</td>\n",
       "      <td>0.732120</td>\n",
       "      <td>1.000000</td>\n",
       "      <td>0.036688</td>\n",
       "      <td>-0.600314</td>\n",
       "      <td>0.353033</td>\n",
       "      <td>0.711790</td>\n",
       "      <td>0.550865</td>\n",
       "      <td>0.486854</td>\n",
       "      <td>0.644413</td>\n",
       "      <td>0.561216</td>\n",
       "      <td>0.230654</td>\n",
       "      <td>0.331115</td>\n",
       "      <td>0.738798</td>\n",
       "      <td>-0.073216</td>\n",
       "      <td>-0.112254</td>\n",
       "      <td>0.250491</td>\n",
       "      <td>0.312701</td>\n",
       "      <td>-0.547691</td>\n",
       "      <td>0.131845</td>\n",
       "      <td>0.035292</td>\n",
       "      <td>0.352081</td>\n",
       "      <td>0.141756</td>\n",
       "      <td>-0.422675</td>\n",
       "      <td>-0.005517</td>\n",
       "      <td>-0.336896</td>\n",
       "      <td>0.405132</td>\n",
       "      <td>-0.272774</td>\n",
       "      <td>-0.615009</td>\n",
       "      <td>-0.015163</td>\n",
       "      <td>0.431017</td>\n",
       "      <td>0.497768</td>\n",
       "      <td>0.222500</td>\n",
       "      <td>0.380420</td>\n",
       "      <td>-0.214356</td>\n",
       "      <td>-0.061509</td>\n",
       "      <td>0.145297</td>\n",
       "      <td>0.021626</td>\n",
       "      <td>0.042374</td>\n",
       "    </tr>\n",
       "    <tr>\n",
       "      <th>RPM</th>\n",
       "      <td>-0.004955</td>\n",
       "      <td>0.363045</td>\n",
       "      <td>0.313469</td>\n",
       "      <td>-0.547898</td>\n",
       "      <td>0.036688</td>\n",
       "      <td>1.000000</td>\n",
       "      <td>0.494764</td>\n",
       "      <td>-0.430192</td>\n",
       "      <td>-0.333345</td>\n",
       "      <td>-0.441249</td>\n",
       "      <td>-0.467812</td>\n",
       "      <td>-0.539721</td>\n",
       "      <td>-0.505651</td>\n",
       "      <td>-0.335709</td>\n",
       "      <td>-0.484468</td>\n",
       "      <td>-0.427931</td>\n",
       "      <td>0.504674</td>\n",
       "      <td>0.062868</td>\n",
       "      <td>-0.375148</td>\n",
       "      <td>0.052258</td>\n",
       "      <td>0.320924</td>\n",
       "      <td>0.079590</td>\n",
       "      <td>-0.295718</td>\n",
       "      <td>0.034066</td>\n",
       "      <td>-0.116923</td>\n",
       "      <td>0.094350</td>\n",
       "      <td>-0.093950</td>\n",
       "      <td>0.254192</td>\n",
       "      <td>-0.225147</td>\n",
       "      <td>0.149508</td>\n",
       "      <td>0.292047</td>\n",
       "      <td>0.017324</td>\n",
       "      <td>-0.307455</td>\n",
       "      <td>-0.196708</td>\n",
       "      <td>0.214193</td>\n",
       "      <td>0.117237</td>\n",
       "      <td>0.174059</td>\n",
       "      <td>0.309930</td>\n",
       "      <td>-0.401319</td>\n",
       "      <td>-0.229060</td>\n",
       "      <td>-0.224959</td>\n",
       "    </tr>\n",
       "    <tr>\n",
       "      <th>Rev.per.mile</th>\n",
       "      <td>-0.426395</td>\n",
       "      <td>0.695857</td>\n",
       "      <td>0.587497</td>\n",
       "      <td>-0.824009</td>\n",
       "      <td>-0.600314</td>\n",
       "      <td>0.494764</td>\n",
       "      <td>1.000000</td>\n",
       "      <td>-0.599297</td>\n",
       "      <td>-0.609710</td>\n",
       "      <td>-0.690233</td>\n",
       "      <td>-0.636824</td>\n",
       "      <td>-0.780460</td>\n",
       "      <td>-0.733160</td>\n",
       "      <td>-0.368190</td>\n",
       "      <td>-0.559548</td>\n",
       "      <td>-0.735264</td>\n",
       "      <td>0.446418</td>\n",
       "      <td>0.132388</td>\n",
       "      <td>-0.523165</td>\n",
       "      <td>-0.124941</td>\n",
       "      <td>0.530598</td>\n",
       "      <td>-0.015275</td>\n",
       "      <td>-0.149862</td>\n",
       "      <td>-0.175688</td>\n",
       "      <td>-0.202410</td>\n",
       "      <td>0.347233</td>\n",
       "      <td>0.023403</td>\n",
       "      <td>0.280786</td>\n",
       "      <td>-0.353092</td>\n",
       "      <td>0.368896</td>\n",
       "      <td>0.552205</td>\n",
       "      <td>0.084146</td>\n",
       "      <td>-0.526025</td>\n",
       "      <td>-0.397842</td>\n",
       "      <td>-0.001521</td>\n",
       "      <td>-0.133502</td>\n",
       "      <td>0.327497</td>\n",
       "      <td>0.171022</td>\n",
       "      <td>-0.411402</td>\n",
       "      <td>-0.115910</td>\n",
       "      <td>-0.114470</td>\n",
       "    </tr>\n",
       "    <tr>\n",
       "      <th>Man.trans.avail</th>\n",
       "      <td>0.326504</td>\n",
       "      <td>-0.444210</td>\n",
       "      <td>-0.404419</td>\n",
       "      <td>0.634686</td>\n",
       "      <td>0.353033</td>\n",
       "      <td>-0.430192</td>\n",
       "      <td>-0.599297</td>\n",
       "      <td>1.000000</td>\n",
       "      <td>0.483223</td>\n",
       "      <td>0.645906</td>\n",
       "      <td>0.653101</td>\n",
       "      <td>0.626017</td>\n",
       "      <td>0.616887</td>\n",
       "      <td>0.459300</td>\n",
       "      <td>0.567016</td>\n",
       "      <td>0.612110</td>\n",
       "      <td>-0.429538</td>\n",
       "      <td>-0.210219</td>\n",
       "      <td>0.505684</td>\n",
       "      <td>0.289208</td>\n",
       "      <td>-0.391159</td>\n",
       "      <td>-0.304902</td>\n",
       "      <td>0.222261</td>\n",
       "      <td>0.149604</td>\n",
       "      <td>0.054671</td>\n",
       "      <td>-0.173841</td>\n",
       "      <td>-0.032211</td>\n",
       "      <td>-0.053145</td>\n",
       "      <td>0.089633</td>\n",
       "      <td>-0.132236</td>\n",
       "      <td>-0.492331</td>\n",
       "      <td>-0.107375</td>\n",
       "      <td>0.448129</td>\n",
       "      <td>0.308112</td>\n",
       "      <td>-0.075512</td>\n",
       "      <td>-0.107375</td>\n",
       "      <td>-0.415169</td>\n",
       "      <td>-0.187253</td>\n",
       "      <td>0.561808</td>\n",
       "      <td>0.181406</td>\n",
       "      <td>0.143945</td>\n",
       "    </tr>\n",
       "    <tr>\n",
       "      <th>Fuel.tank.capacity</th>\n",
       "      <td>0.619480</td>\n",
       "      <td>-0.813144</td>\n",
       "      <td>-0.786039</td>\n",
       "      <td>0.759306</td>\n",
       "      <td>0.711790</td>\n",
       "      <td>-0.333345</td>\n",
       "      <td>-0.609710</td>\n",
       "      <td>0.483223</td>\n",
       "      <td>1.000000</td>\n",
       "      <td>0.690461</td>\n",
       "      <td>0.757674</td>\n",
       "      <td>0.798719</td>\n",
       "      <td>0.671343</td>\n",
       "      <td>0.501265</td>\n",
       "      <td>0.534164</td>\n",
       "      <td>0.894018</td>\n",
       "      <td>-0.122721</td>\n",
       "      <td>-0.083262</td>\n",
       "      <td>0.272463</td>\n",
       "      <td>0.304716</td>\n",
       "      <td>-0.669837</td>\n",
       "      <td>-0.092219</td>\n",
       "      <td>0.429512</td>\n",
       "      <td>0.202365</td>\n",
       "      <td>0.132412</td>\n",
       "      <td>-0.295672</td>\n",
       "      <td>0.185752</td>\n",
       "      <td>-0.398303</td>\n",
       "      <td>0.321158</td>\n",
       "      <td>-0.365585</td>\n",
       "      <td>-0.566271</td>\n",
       "      <td>0.160694</td>\n",
       "      <td>0.476242</td>\n",
       "      <td>0.335488</td>\n",
       "      <td>0.106616</td>\n",
       "      <td>0.151604</td>\n",
       "      <td>-0.383450</td>\n",
       "      <td>-0.168954</td>\n",
       "      <td>0.253990</td>\n",
       "      <td>0.331362</td>\n",
       "      <td>0.330365</td>\n",
       "    </tr>\n",
       "    <tr>\n",
       "      <th>Length</th>\n",
       "      <td>0.503628</td>\n",
       "      <td>-0.666239</td>\n",
       "      <td>-0.542897</td>\n",
       "      <td>0.780283</td>\n",
       "      <td>0.550865</td>\n",
       "      <td>-0.441249</td>\n",
       "      <td>-0.690233</td>\n",
       "      <td>0.645906</td>\n",
       "      <td>0.690461</td>\n",
       "      <td>1.000000</td>\n",
       "      <td>0.823650</td>\n",
       "      <td>0.822148</td>\n",
       "      <td>0.738955</td>\n",
       "      <td>0.548276</td>\n",
       "      <td>0.699806</td>\n",
       "      <td>0.806274</td>\n",
       "      <td>-0.363250</td>\n",
       "      <td>-0.033875</td>\n",
       "      <td>0.545062</td>\n",
       "      <td>0.358019</td>\n",
       "      <td>-0.595473</td>\n",
       "      <td>-0.231591</td>\n",
       "      <td>0.055496</td>\n",
       "      <td>0.315296</td>\n",
       "      <td>0.141387</td>\n",
       "      <td>-0.393466</td>\n",
       "      <td>-0.136329</td>\n",
       "      <td>-0.194148</td>\n",
       "      <td>0.342759</td>\n",
       "      <td>-0.383883</td>\n",
       "      <td>-0.443390</td>\n",
       "      <td>0.023433</td>\n",
       "      <td>0.390539</td>\n",
       "      <td>0.425342</td>\n",
       "      <td>-0.101965</td>\n",
       "      <td>-0.093953</td>\n",
       "      <td>-0.464513</td>\n",
       "      <td>-0.043805</td>\n",
       "      <td>0.555292</td>\n",
       "      <td>0.030010</td>\n",
       "      <td>0.077496</td>\n",
       "    </tr>\n",
       "    <tr>\n",
       "      <th>Wheelbase</th>\n",
       "      <td>0.500864</td>\n",
       "      <td>-0.667108</td>\n",
       "      <td>-0.615384</td>\n",
       "      <td>0.732484</td>\n",
       "      <td>0.486854</td>\n",
       "      <td>-0.467812</td>\n",
       "      <td>-0.636824</td>\n",
       "      <td>0.653101</td>\n",
       "      <td>0.757674</td>\n",
       "      <td>0.823650</td>\n",
       "      <td>1.000000</td>\n",
       "      <td>0.807213</td>\n",
       "      <td>0.723324</td>\n",
       "      <td>0.659856</td>\n",
       "      <td>0.656924</td>\n",
       "      <td>0.871895</td>\n",
       "      <td>-0.271477</td>\n",
       "      <td>-0.080393</td>\n",
       "      <td>0.503607</td>\n",
       "      <td>0.284184</td>\n",
       "      <td>-0.587189</td>\n",
       "      <td>-0.360177</td>\n",
       "      <td>0.410103</td>\n",
       "      <td>0.276632</td>\n",
       "      <td>0.112275</td>\n",
       "      <td>-0.333027</td>\n",
       "      <td>0.043690</td>\n",
       "      <td>-0.223941</td>\n",
       "      <td>0.230428</td>\n",
       "      <td>-0.321554</td>\n",
       "      <td>-0.512354</td>\n",
       "      <td>0.132313</td>\n",
       "      <td>0.469678</td>\n",
       "      <td>0.320726</td>\n",
       "      <td>-0.122138</td>\n",
       "      <td>-0.173676</td>\n",
       "      <td>-0.473112</td>\n",
       "      <td>-0.152609</td>\n",
       "      <td>0.465323</td>\n",
       "      <td>0.392534</td>\n",
       "      <td>0.108420</td>\n",
       "    </tr>\n",
       "    <tr>\n",
       "      <th>Width</th>\n",
       "      <td>0.456028</td>\n",
       "      <td>-0.720534</td>\n",
       "      <td>-0.640359</td>\n",
       "      <td>0.867110</td>\n",
       "      <td>0.644413</td>\n",
       "      <td>-0.539721</td>\n",
       "      <td>-0.780460</td>\n",
       "      <td>0.626017</td>\n",
       "      <td>0.798719</td>\n",
       "      <td>0.822148</td>\n",
       "      <td>0.807213</td>\n",
       "      <td>1.000000</td>\n",
       "      <td>0.817854</td>\n",
       "      <td>0.460330</td>\n",
       "      <td>0.622023</td>\n",
       "      <td>0.874961</td>\n",
       "      <td>-0.434700</td>\n",
       "      <td>-0.257882</td>\n",
       "      <td>0.521424</td>\n",
       "      <td>0.186609</td>\n",
       "      <td>-0.587768</td>\n",
       "      <td>-0.010151</td>\n",
       "      <td>0.334926</td>\n",
       "      <td>0.303035</td>\n",
       "      <td>0.119447</td>\n",
       "      <td>-0.361143</td>\n",
       "      <td>0.020654</td>\n",
       "      <td>-0.320097</td>\n",
       "      <td>0.363675</td>\n",
       "      <td>-0.358305</td>\n",
       "      <td>-0.615627</td>\n",
       "      <td>0.044320</td>\n",
       "      <td>0.536068</td>\n",
       "      <td>0.426865</td>\n",
       "      <td>-0.010439</td>\n",
       "      <td>0.083763</td>\n",
       "      <td>-0.335884</td>\n",
       "      <td>-0.284820</td>\n",
       "      <td>0.443343</td>\n",
       "      <td>0.265162</td>\n",
       "      <td>0.239205</td>\n",
       "    </tr>\n",
       "    <tr>\n",
       "      <th>Turn.circle</th>\n",
       "      <td>0.392590</td>\n",
       "      <td>-0.666389</td>\n",
       "      <td>-0.593683</td>\n",
       "      <td>0.778464</td>\n",
       "      <td>0.561216</td>\n",
       "      <td>-0.505651</td>\n",
       "      <td>-0.733160</td>\n",
       "      <td>0.616887</td>\n",
       "      <td>0.671343</td>\n",
       "      <td>0.738955</td>\n",
       "      <td>0.723324</td>\n",
       "      <td>0.817854</td>\n",
       "      <td>1.000000</td>\n",
       "      <td>0.460523</td>\n",
       "      <td>0.542541</td>\n",
       "      <td>0.778043</td>\n",
       "      <td>-0.490378</td>\n",
       "      <td>-0.100526</td>\n",
       "      <td>0.420354</td>\n",
       "      <td>0.212671</td>\n",
       "      <td>-0.642526</td>\n",
       "      <td>-0.013111</td>\n",
       "      <td>0.288007</td>\n",
       "      <td>0.237173</td>\n",
       "      <td>0.241165</td>\n",
       "      <td>-0.435540</td>\n",
       "      <td>0.026311</td>\n",
       "      <td>-0.195197</td>\n",
       "      <td>0.210512</td>\n",
       "      <td>-0.320265</td>\n",
       "      <td>-0.469524</td>\n",
       "      <td>-0.044254</td>\n",
       "      <td>0.436387</td>\n",
       "      <td>0.372509</td>\n",
       "      <td>-0.063642</td>\n",
       "      <td>0.048232</td>\n",
       "      <td>-0.318813</td>\n",
       "      <td>-0.244796</td>\n",
       "      <td>0.422561</td>\n",
       "      <td>0.267276</td>\n",
       "      <td>0.098960</td>\n",
       "    </tr>\n",
       "    <tr>\n",
       "      <th>Rear.seat.room</th>\n",
       "      <td>0.297898</td>\n",
       "      <td>-0.378071</td>\n",
       "      <td>-0.362379</td>\n",
       "      <td>0.471733</td>\n",
       "      <td>0.230654</td>\n",
       "      <td>-0.335709</td>\n",
       "      <td>-0.368190</td>\n",
       "      <td>0.459300</td>\n",
       "      <td>0.501265</td>\n",
       "      <td>0.548276</td>\n",
       "      <td>0.659856</td>\n",
       "      <td>0.460330</td>\n",
       "      <td>0.460523</td>\n",
       "      <td>1.000000</td>\n",
       "      <td>0.591162</td>\n",
       "      <td>0.524878</td>\n",
       "      <td>-0.102548</td>\n",
       "      <td>0.017813</td>\n",
       "      <td>0.452332</td>\n",
       "      <td>0.141129</td>\n",
       "      <td>-0.251625</td>\n",
       "      <td>-0.547184</td>\n",
       "      <td>0.298006</td>\n",
       "      <td>0.134065</td>\n",
       "      <td>-0.017387</td>\n",
       "      <td>-0.087064</td>\n",
       "      <td>-0.038074</td>\n",
       "      <td>0.052036</td>\n",
       "      <td>-0.030626</td>\n",
       "      <td>-0.102802</td>\n",
       "      <td>-0.335451</td>\n",
       "      <td>0.210586</td>\n",
       "      <td>0.186149</td>\n",
       "      <td>0.259742</td>\n",
       "      <td>-0.011436</td>\n",
       "      <td>-0.016261</td>\n",
       "      <td>-0.575582</td>\n",
       "      <td>-0.071624</td>\n",
       "      <td>0.501542</td>\n",
       "      <td>0.240185</td>\n",
       "      <td>0.201272</td>\n",
       "    </tr>\n",
       "    <tr>\n",
       "      <th>Luggage.room</th>\n",
       "      <td>0.355827</td>\n",
       "      <td>-0.466621</td>\n",
       "      <td>-0.333507</td>\n",
       "      <td>0.620915</td>\n",
       "      <td>0.331115</td>\n",
       "      <td>-0.484468</td>\n",
       "      <td>-0.559548</td>\n",
       "      <td>0.567016</td>\n",
       "      <td>0.534164</td>\n",
       "      <td>0.699806</td>\n",
       "      <td>0.656924</td>\n",
       "      <td>0.622023</td>\n",
       "      <td>0.542541</td>\n",
       "      <td>0.591162</td>\n",
       "      <td>1.000000</td>\n",
       "      <td>0.578581</td>\n",
       "      <td>-0.320240</td>\n",
       "      <td>-0.035144</td>\n",
       "      <td>0.571951</td>\n",
       "      <td>0.218191</td>\n",
       "      <td>-0.367342</td>\n",
       "      <td>-0.318576</td>\n",
       "      <td>0.011321</td>\n",
       "      <td>0.137949</td>\n",
       "      <td>0.178518</td>\n",
       "      <td>-0.292922</td>\n",
       "      <td>-0.136856</td>\n",
       "      <td>-0.081484</td>\n",
       "      <td>0.209223</td>\n",
       "      <td>-0.254683</td>\n",
       "      <td>-0.379132</td>\n",
       "      <td>0.031619</td>\n",
       "      <td>0.269014</td>\n",
       "      <td>0.388582</td>\n",
       "      <td>0.003606</td>\n",
       "      <td>0.005127</td>\n",
       "      <td>-0.443332</td>\n",
       "      <td>-0.108610</td>\n",
       "      <td>0.610279</td>\n",
       "      <td>0.010610</td>\n",
       "      <td>0.003606</td>\n",
       "    </tr>\n",
       "    <tr>\n",
       "      <th>Weight</th>\n",
       "      <td>0.647179</td>\n",
       "      <td>-0.843139</td>\n",
       "      <td>-0.810658</td>\n",
       "      <td>0.845075</td>\n",
       "      <td>0.738798</td>\n",
       "      <td>-0.427931</td>\n",
       "      <td>-0.735264</td>\n",
       "      <td>0.612110</td>\n",
       "      <td>0.894018</td>\n",
       "      <td>0.806274</td>\n",
       "      <td>0.871895</td>\n",
       "      <td>0.874961</td>\n",
       "      <td>0.778043</td>\n",
       "      <td>0.524878</td>\n",
       "      <td>0.578581</td>\n",
       "      <td>1.000000</td>\n",
       "      <td>-0.215477</td>\n",
       "      <td>-0.120253</td>\n",
       "      <td>0.388630</td>\n",
       "      <td>0.310335</td>\n",
       "      <td>-0.699608</td>\n",
       "      <td>-0.124314</td>\n",
       "      <td>0.422691</td>\n",
       "      <td>0.278656</td>\n",
       "      <td>0.165785</td>\n",
       "      <td>-0.390010</td>\n",
       "      <td>0.137310</td>\n",
       "      <td>-0.366487</td>\n",
       "      <td>0.323087</td>\n",
       "      <td>-0.364465</td>\n",
       "      <td>-0.652731</td>\n",
       "      <td>0.133817</td>\n",
       "      <td>0.586074</td>\n",
       "      <td>0.370927</td>\n",
       "      <td>-0.031613</td>\n",
       "      <td>0.016322</td>\n",
       "      <td>-0.397027</td>\n",
       "      <td>-0.193757</td>\n",
       "      <td>0.354763</td>\n",
       "      <td>0.383457</td>\n",
       "      <td>0.169184</td>\n",
       "    </tr>\n",
       "    <tr>\n",
       "      <th>Origin</th>\n",
       "      <td>0.100702</td>\n",
       "      <td>0.260024</td>\n",
       "      <td>0.183109</td>\n",
       "      <td>-0.399321</td>\n",
       "      <td>-0.073216</td>\n",
       "      <td>0.504674</td>\n",
       "      <td>0.446418</td>\n",
       "      <td>-0.429538</td>\n",
       "      <td>-0.122721</td>\n",
       "      <td>-0.363250</td>\n",
       "      <td>-0.271477</td>\n",
       "      <td>-0.434700</td>\n",
       "      <td>-0.490378</td>\n",
       "      <td>-0.102548</td>\n",
       "      <td>-0.320240</td>\n",
       "      <td>-0.215477</td>\n",
       "      <td>1.000000</td>\n",
       "      <td>0.071722</td>\n",
       "      <td>-0.354630</td>\n",
       "      <td>0.068597</td>\n",
       "      <td>0.197545</td>\n",
       "      <td>-0.046583</td>\n",
       "      <td>-0.025824</td>\n",
       "      <td>-0.042298</td>\n",
       "      <td>-0.034803</td>\n",
       "      <td>0.069178</td>\n",
       "      <td>0.011203</td>\n",
       "      <td>0.027838</td>\n",
       "      <td>-0.042298</td>\n",
       "      <td>0.188562</td>\n",
       "      <td>0.141798</td>\n",
       "      <td>0.153112</td>\n",
       "      <td>-0.182574</td>\n",
       "      <td>-0.194683</td>\n",
       "      <td>0.107676</td>\n",
       "      <td>0.004785</td>\n",
       "      <td>0.143176</td>\n",
       "      <td>0.223677</td>\n",
       "      <td>-0.419880</td>\n",
       "      <td>0.009901</td>\n",
       "      <td>-0.100947</td>\n",
       "    </tr>\n",
       "    <tr>\n",
       "      <th>Compact</th>\n",
       "      <td>-0.061547</td>\n",
       "      <td>0.026253</td>\n",
       "      <td>0.067820</td>\n",
       "      <td>-0.148664</td>\n",
       "      <td>-0.112254</td>\n",
       "      <td>0.062868</td>\n",
       "      <td>0.132388</td>\n",
       "      <td>-0.210219</td>\n",
       "      <td>-0.083262</td>\n",
       "      <td>-0.033875</td>\n",
       "      <td>-0.080393</td>\n",
       "      <td>-0.257882</td>\n",
       "      <td>-0.100526</td>\n",
       "      <td>0.017813</td>\n",
       "      <td>-0.035144</td>\n",
       "      <td>-0.120253</td>\n",
       "      <td>0.071722</td>\n",
       "      <td>1.000000</td>\n",
       "      <td>-0.166957</td>\n",
       "      <td>-0.253745</td>\n",
       "      <td>-0.246183</td>\n",
       "      <td>-0.191896</td>\n",
       "      <td>-0.149209</td>\n",
       "      <td>-0.056818</td>\n",
       "      <td>0.091551</td>\n",
       "      <td>-0.050252</td>\n",
       "      <td>-0.066257</td>\n",
       "      <td>0.093517</td>\n",
       "      <td>-0.056818</td>\n",
       "      <td>-0.083225</td>\n",
       "      <td>0.374897</td>\n",
       "      <td>-0.067579</td>\n",
       "      <td>-0.261892</td>\n",
       "      <td>-0.130051</td>\n",
       "      <td>-0.047525</td>\n",
       "      <td>-0.067579</td>\n",
       "      <td>-0.195261</td>\n",
       "      <td>0.341213</td>\n",
       "      <td>-0.079091</td>\n",
       "      <td>-0.139846</td>\n",
       "      <td>-0.047525</td>\n",
       "    </tr>\n",
       "    <tr>\n",
       "      <th>Large</th>\n",
       "      <td>0.182621</td>\n",
       "      <td>-0.262233</td>\n",
       "      <td>-0.162911</td>\n",
       "      <td>0.547151</td>\n",
       "      <td>0.250491</td>\n",
       "      <td>-0.375148</td>\n",
       "      <td>-0.523165</td>\n",
       "      <td>0.505684</td>\n",
       "      <td>0.272463</td>\n",
       "      <td>0.545062</td>\n",
       "      <td>0.503607</td>\n",
       "      <td>0.521424</td>\n",
       "      <td>0.420354</td>\n",
       "      <td>0.452332</td>\n",
       "      <td>0.571951</td>\n",
       "      <td>0.388630</td>\n",
       "      <td>-0.354630</td>\n",
       "      <td>-0.166957</td>\n",
       "      <td>1.000000</td>\n",
       "      <td>-0.203879</td>\n",
       "      <td>-0.197803</td>\n",
       "      <td>-0.154184</td>\n",
       "      <td>-0.119887</td>\n",
       "      <td>0.185929</td>\n",
       "      <td>0.127820</td>\n",
       "      <td>-0.278037</td>\n",
       "      <td>-0.127131</td>\n",
       "      <td>-0.068607</td>\n",
       "      <td>0.185929</td>\n",
       "      <td>-0.066870</td>\n",
       "      <td>-0.386510</td>\n",
       "      <td>-0.054298</td>\n",
       "      <td>0.235441</td>\n",
       "      <td>0.400332</td>\n",
       "      <td>-0.038185</td>\n",
       "      <td>-0.054298</td>\n",
       "      <td>-0.209944</td>\n",
       "      <td>-0.325222</td>\n",
       "      <td>0.747625</td>\n",
       "      <td>-0.112363</td>\n",
       "      <td>-0.038185</td>\n",
       "    </tr>\n",
       "    <tr>\n",
       "      <th>Midsize</th>\n",
       "      <td>0.446630</td>\n",
       "      <td>-0.280852</td>\n",
       "      <td>-0.247596</td>\n",
       "      <td>0.211136</td>\n",
       "      <td>0.312701</td>\n",
       "      <td>0.052258</td>\n",
       "      <td>-0.124941</td>\n",
       "      <td>0.289208</td>\n",
       "      <td>0.304716</td>\n",
       "      <td>0.358019</td>\n",
       "      <td>0.284184</td>\n",
       "      <td>0.186609</td>\n",
       "      <td>0.212671</td>\n",
       "      <td>0.141129</td>\n",
       "      <td>0.218191</td>\n",
       "      <td>0.310335</td>\n",
       "      <td>0.068597</td>\n",
       "      <td>-0.253745</td>\n",
       "      <td>-0.203879</td>\n",
       "      <td>1.000000</td>\n",
       "      <td>-0.300625</td>\n",
       "      <td>-0.234333</td>\n",
       "      <td>-0.182206</td>\n",
       "      <td>0.215539</td>\n",
       "      <td>0.042018</td>\n",
       "      <td>-0.212413</td>\n",
       "      <td>-0.193216</td>\n",
       "      <td>0.064866</td>\n",
       "      <td>0.081458</td>\n",
       "      <td>-0.101630</td>\n",
       "      <td>-0.232682</td>\n",
       "      <td>0.091901</td>\n",
       "      <td>0.250480</td>\n",
       "      <td>0.033000</td>\n",
       "      <td>-0.058035</td>\n",
       "      <td>-0.082523</td>\n",
       "      <td>-0.201789</td>\n",
       "      <td>0.270155</td>\n",
       "      <td>0.047516</td>\n",
       "      <td>-0.170772</td>\n",
       "      <td>-0.058035</td>\n",
       "    </tr>\n",
       "    <tr>\n",
       "      <th>Small</th>\n",
       "      <td>-0.525202</td>\n",
       "      <td>0.723837</td>\n",
       "      <td>0.650782</td>\n",
       "      <td>-0.561383</td>\n",
       "      <td>-0.547691</td>\n",
       "      <td>0.320924</td>\n",
       "      <td>0.530598</td>\n",
       "      <td>-0.391159</td>\n",
       "      <td>-0.669837</td>\n",
       "      <td>-0.595473</td>\n",
       "      <td>-0.587189</td>\n",
       "      <td>-0.587768</td>\n",
       "      <td>-0.642526</td>\n",
       "      <td>-0.251625</td>\n",
       "      <td>-0.367342</td>\n",
       "      <td>-0.699608</td>\n",
       "      <td>0.197545</td>\n",
       "      <td>-0.246183</td>\n",
       "      <td>-0.197803</td>\n",
       "      <td>-0.300625</td>\n",
       "      <td>1.000000</td>\n",
       "      <td>-0.227349</td>\n",
       "      <td>-0.176777</td>\n",
       "      <td>-0.246183</td>\n",
       "      <td>-0.242929</td>\n",
       "      <td>0.444426</td>\n",
       "      <td>-0.021424</td>\n",
       "      <td>0.221821</td>\n",
       "      <td>-0.246183</td>\n",
       "      <td>0.338062</td>\n",
       "      <td>0.357239</td>\n",
       "      <td>-0.080064</td>\n",
       "      <td>-0.381881</td>\n",
       "      <td>-0.154079</td>\n",
       "      <td>-0.056305</td>\n",
       "      <td>-0.080064</td>\n",
       "      <td>0.167283</td>\n",
       "      <td>0.193825</td>\n",
       "      <td>-0.264575</td>\n",
       "      <td>-0.165683</td>\n",
       "      <td>-0.056305</td>\n",
       "    </tr>\n",
       "    <tr>\n",
       "      <th>Sporty</th>\n",
       "      <td>-0.005119</td>\n",
       "      <td>-0.043673</td>\n",
       "      <td>-0.023839</td>\n",
       "      <td>-0.071354</td>\n",
       "      <td>0.131845</td>\n",
       "      <td>0.079590</td>\n",
       "      <td>-0.015275</td>\n",
       "      <td>-0.304902</td>\n",
       "      <td>-0.092219</td>\n",
       "      <td>-0.231591</td>\n",
       "      <td>-0.360177</td>\n",
       "      <td>-0.010151</td>\n",
       "      <td>-0.013111</td>\n",
       "      <td>-0.547184</td>\n",
       "      <td>-0.318576</td>\n",
       "      <td>-0.124314</td>\n",
       "      <td>-0.046583</td>\n",
       "      <td>-0.191896</td>\n",
       "      <td>-0.154184</td>\n",
       "      <td>-0.234333</td>\n",
       "      <td>-0.227349</td>\n",
       "      <td>1.000000</td>\n",
       "      <td>-0.137795</td>\n",
       "      <td>0.047117</td>\n",
       "      <td>0.092086</td>\n",
       "      <td>-0.132258</td>\n",
       "      <td>0.048011</td>\n",
       "      <td>-0.206767</td>\n",
       "      <td>0.206459</td>\n",
       "      <td>-0.076858</td>\n",
       "      <td>0.037560</td>\n",
       "      <td>-0.062409</td>\n",
       "      <td>-0.042524</td>\n",
       "      <td>-0.006128</td>\n",
       "      <td>0.247660</td>\n",
       "      <td>0.352163</td>\n",
       "      <td>0.595018</td>\n",
       "      <td>-0.373801</td>\n",
       "      <td>-0.206232</td>\n",
       "      <td>-0.129147</td>\n",
       "      <td>-0.043889</td>\n",
       "    </tr>\n",
       "    <tr>\n",
       "      <th>Van</th>\n",
       "      <td>-0.013958</td>\n",
       "      <td>-0.314214</td>\n",
       "      <td>-0.444243</td>\n",
       "      <td>0.168858</td>\n",
       "      <td>0.035292</td>\n",
       "      <td>-0.295718</td>\n",
       "      <td>-0.149862</td>\n",
       "      <td>0.222261</td>\n",
       "      <td>0.429512</td>\n",
       "      <td>0.055496</td>\n",
       "      <td>0.410103</td>\n",
       "      <td>0.334926</td>\n",
       "      <td>0.288007</td>\n",
       "      <td>0.298006</td>\n",
       "      <td>0.011321</td>\n",
       "      <td>0.422691</td>\n",
       "      <td>-0.025824</td>\n",
       "      <td>-0.149209</td>\n",
       "      <td>-0.119887</td>\n",
       "      <td>-0.182206</td>\n",
       "      <td>-0.176777</td>\n",
       "      <td>-0.137795</td>\n",
       "      <td>1.000000</td>\n",
       "      <td>-0.149209</td>\n",
       "      <td>-0.084712</td>\n",
       "      <td>0.204632</td>\n",
       "      <td>0.473403</td>\n",
       "      <td>-0.201292</td>\n",
       "      <td>-0.149209</td>\n",
       "      <td>-0.059761</td>\n",
       "      <td>-0.272580</td>\n",
       "      <td>0.202192</td>\n",
       "      <td>0.308607</td>\n",
       "      <td>-0.093386</td>\n",
       "      <td>-0.034126</td>\n",
       "      <td>-0.048526</td>\n",
       "      <td>-0.187628</td>\n",
       "      <td>-0.290651</td>\n",
       "      <td>-0.160357</td>\n",
       "      <td>0.937247</td>\n",
       "      <td>0.318511</td>\n",
       "    </tr>\n",
       "    <tr>\n",
       "      <th>Driver &amp; Passenger</th>\n",
       "      <td>0.420338</td>\n",
       "      <td>-0.228601</td>\n",
       "      <td>-0.168569</td>\n",
       "      <td>0.271051</td>\n",
       "      <td>0.352081</td>\n",
       "      <td>0.034066</td>\n",
       "      <td>-0.175688</td>\n",
       "      <td>0.149604</td>\n",
       "      <td>0.202365</td>\n",
       "      <td>0.315296</td>\n",
       "      <td>0.276632</td>\n",
       "      <td>0.303035</td>\n",
       "      <td>0.237173</td>\n",
       "      <td>0.134065</td>\n",
       "      <td>0.137949</td>\n",
       "      <td>0.278656</td>\n",
       "      <td>-0.042298</td>\n",
       "      <td>-0.056818</td>\n",
       "      <td>0.185929</td>\n",
       "      <td>0.215539</td>\n",
       "      <td>-0.246183</td>\n",
       "      <td>0.047117</td>\n",
       "      <td>-0.149209</td>\n",
       "      <td>1.000000</td>\n",
       "      <td>-0.422731</td>\n",
       "      <td>-0.346041</td>\n",
       "      <td>-0.158225</td>\n",
       "      <td>-0.033448</td>\n",
       "      <td>0.169643</td>\n",
       "      <td>-0.083225</td>\n",
       "      <td>-0.309857</td>\n",
       "      <td>0.128822</td>\n",
       "      <td>0.282038</td>\n",
       "      <td>0.085927</td>\n",
       "      <td>-0.047525</td>\n",
       "      <td>-0.067579</td>\n",
       "      <td>0.068874</td>\n",
       "      <td>-0.175234</td>\n",
       "      <td>0.281471</td>\n",
       "      <td>-0.139846</td>\n",
       "      <td>-0.047525</td>\n",
       "    </tr>\n",
       "    <tr>\n",
       "      <th>Driver only</th>\n",
       "      <td>0.165405</td>\n",
       "      <td>-0.122390</td>\n",
       "      <td>-0.116715</td>\n",
       "      <td>0.154409</td>\n",
       "      <td>0.141756</td>\n",
       "      <td>-0.116923</td>\n",
       "      <td>-0.202410</td>\n",
       "      <td>0.054671</td>\n",
       "      <td>0.132412</td>\n",
       "      <td>0.141387</td>\n",
       "      <td>0.112275</td>\n",
       "      <td>0.119447</td>\n",
       "      <td>0.241165</td>\n",
       "      <td>-0.017387</td>\n",
       "      <td>0.178518</td>\n",
       "      <td>0.165785</td>\n",
       "      <td>-0.034803</td>\n",
       "      <td>0.091551</td>\n",
       "      <td>0.127820</td>\n",
       "      <td>0.042018</td>\n",
       "      <td>-0.242929</td>\n",
       "      <td>0.092086</td>\n",
       "      <td>-0.084712</td>\n",
       "      <td>-0.422731</td>\n",
       "      <td>1.000000</td>\n",
       "      <td>-0.703984</td>\n",
       "      <td>0.026201</td>\n",
       "      <td>-0.143132</td>\n",
       "      <td>0.148693</td>\n",
       "      <td>-0.169312</td>\n",
       "      <td>0.058059</td>\n",
       "      <td>-0.137481</td>\n",
       "      <td>-0.060999</td>\n",
       "      <td>0.144154</td>\n",
       "      <td>0.112423</td>\n",
       "      <td>0.159862</td>\n",
       "      <td>-0.131684</td>\n",
       "      <td>0.045306</td>\n",
       "      <td>0.091567</td>\n",
       "      <td>-0.053758</td>\n",
       "      <td>-0.096684</td>\n",
       "    </tr>\n",
       "    <tr>\n",
       "      <th>None</th>\n",
       "      <td>-0.500651</td>\n",
       "      <td>0.305857</td>\n",
       "      <td>0.252936</td>\n",
       "      <td>-0.372273</td>\n",
       "      <td>-0.422675</td>\n",
       "      <td>0.094350</td>\n",
       "      <td>0.347233</td>\n",
       "      <td>-0.173841</td>\n",
       "      <td>-0.295672</td>\n",
       "      <td>-0.393466</td>\n",
       "      <td>-0.333027</td>\n",
       "      <td>-0.361143</td>\n",
       "      <td>-0.435540</td>\n",
       "      <td>-0.087064</td>\n",
       "      <td>-0.292922</td>\n",
       "      <td>-0.390010</td>\n",
       "      <td>0.069178</td>\n",
       "      <td>-0.050252</td>\n",
       "      <td>-0.278037</td>\n",
       "      <td>-0.212413</td>\n",
       "      <td>0.444426</td>\n",
       "      <td>-0.132258</td>\n",
       "      <td>0.204632</td>\n",
       "      <td>-0.346041</td>\n",
       "      <td>-0.703984</td>\n",
       "      <td>1.000000</td>\n",
       "      <td>0.096874</td>\n",
       "      <td>0.174393</td>\n",
       "      <td>-0.286884</td>\n",
       "      <td>0.240506</td>\n",
       "      <td>0.182723</td>\n",
       "      <td>0.041375</td>\n",
       "      <td>-0.157877</td>\n",
       "      <td>-0.216577</td>\n",
       "      <td>-0.079144</td>\n",
       "      <td>-0.112540</td>\n",
       "      <td>0.082354</td>\n",
       "      <td>0.090424</td>\n",
       "      <td>-0.315381</td>\n",
       "      <td>0.165248</td>\n",
       "      <td>0.137339</td>\n",
       "    </tr>\n",
       "    <tr>\n",
       "      <th>4WD</th>\n",
       "      <td>-0.067911</td>\n",
       "      <td>-0.115852</td>\n",
       "      <td>-0.215085</td>\n",
       "      <td>-0.032882</td>\n",
       "      <td>-0.005517</td>\n",
       "      <td>-0.093950</td>\n",
       "      <td>0.023403</td>\n",
       "      <td>-0.032211</td>\n",
       "      <td>0.185752</td>\n",
       "      <td>-0.136329</td>\n",
       "      <td>0.043690</td>\n",
       "      <td>0.020654</td>\n",
       "      <td>0.026311</td>\n",
       "      <td>-0.038074</td>\n",
       "      <td>-0.136856</td>\n",
       "      <td>0.137310</td>\n",
       "      <td>0.011203</td>\n",
       "      <td>-0.066257</td>\n",
       "      <td>-0.127131</td>\n",
       "      <td>-0.193216</td>\n",
       "      <td>-0.021424</td>\n",
       "      <td>0.048011</td>\n",
       "      <td>0.473403</td>\n",
       "      <td>-0.158225</td>\n",
       "      <td>0.026201</td>\n",
       "      <td>0.096874</td>\n",
       "      <td>1.000000</td>\n",
       "      <td>-0.557201</td>\n",
       "      <td>-0.158225</td>\n",
       "      <td>0.133082</td>\n",
       "      <td>-0.088210</td>\n",
       "      <td>-0.051458</td>\n",
       "      <td>0.122720</td>\n",
       "      <td>-0.099029</td>\n",
       "      <td>-0.036188</td>\n",
       "      <td>-0.051458</td>\n",
       "      <td>0.042388</td>\n",
       "      <td>-0.168390</td>\n",
       "      <td>-0.170046</td>\n",
       "      <td>0.388677</td>\n",
       "      <td>0.300362</td>\n",
       "    </tr>\n",
       "    <tr>\n",
       "      <th>Front</th>\n",
       "      <td>-0.329809</td>\n",
       "      <td>0.332226</td>\n",
       "      <td>0.348962</td>\n",
       "      <td>-0.346901</td>\n",
       "      <td>-0.336896</td>\n",
       "      <td>0.254192</td>\n",
       "      <td>0.280786</td>\n",
       "      <td>-0.053145</td>\n",
       "      <td>-0.398303</td>\n",
       "      <td>-0.194148</td>\n",
       "      <td>-0.223941</td>\n",
       "      <td>-0.320097</td>\n",
       "      <td>-0.195197</td>\n",
       "      <td>0.052036</td>\n",
       "      <td>-0.081484</td>\n",
       "      <td>-0.366487</td>\n",
       "      <td>0.027838</td>\n",
       "      <td>0.093517</td>\n",
       "      <td>-0.068607</td>\n",
       "      <td>0.064866</td>\n",
       "      <td>0.221821</td>\n",
       "      <td>-0.206767</td>\n",
       "      <td>-0.201292</td>\n",
       "      <td>-0.033448</td>\n",
       "      <td>-0.143132</td>\n",
       "      <td>0.174393</td>\n",
       "      <td>-0.557201</td>\n",
       "      <td>1.000000</td>\n",
       "      <td>-0.731754</td>\n",
       "      <td>-0.021872</td>\n",
       "      <td>0.273481</td>\n",
       "      <td>0.092351</td>\n",
       "      <td>-0.118593</td>\n",
       "      <td>-0.276353</td>\n",
       "      <td>-0.167362</td>\n",
       "      <td>-0.237983</td>\n",
       "      <td>-0.087180</td>\n",
       "      <td>0.215343</td>\n",
       "      <td>0.062601</td>\n",
       "      <td>-0.150683</td>\n",
       "      <td>-0.167362</td>\n",
       "    </tr>\n",
       "    <tr>\n",
       "      <th>Rear</th>\n",
       "      <td>0.447917</td>\n",
       "      <td>-0.299960</td>\n",
       "      <td>-0.238411</td>\n",
       "      <td>0.439490</td>\n",
       "      <td>0.405132</td>\n",
       "      <td>-0.225147</td>\n",
       "      <td>-0.353092</td>\n",
       "      <td>0.089633</td>\n",
       "      <td>0.321158</td>\n",
       "      <td>0.342759</td>\n",
       "      <td>0.230428</td>\n",
       "      <td>0.363675</td>\n",
       "      <td>0.210512</td>\n",
       "      <td>-0.030626</td>\n",
       "      <td>0.209223</td>\n",
       "      <td>0.323087</td>\n",
       "      <td>-0.042298</td>\n",
       "      <td>-0.056818</td>\n",
       "      <td>0.185929</td>\n",
       "      <td>0.081458</td>\n",
       "      <td>-0.246183</td>\n",
       "      <td>0.206459</td>\n",
       "      <td>-0.149209</td>\n",
       "      <td>0.169643</td>\n",
       "      <td>0.148693</td>\n",
       "      <td>-0.286884</td>\n",
       "      <td>-0.158225</td>\n",
       "      <td>-0.731754</td>\n",
       "      <td>1.000000</td>\n",
       "      <td>-0.083225</td>\n",
       "      <td>-0.252794</td>\n",
       "      <td>-0.067579</td>\n",
       "      <td>0.040291</td>\n",
       "      <td>0.409894</td>\n",
       "      <td>0.228713</td>\n",
       "      <td>0.325222</td>\n",
       "      <td>0.068874</td>\n",
       "      <td>-0.117851</td>\n",
       "      <td>0.065134</td>\n",
       "      <td>-0.139846</td>\n",
       "      <td>-0.047525</td>\n",
       "    </tr>\n",
       "    <tr>\n",
       "      <th>3</th>\n",
       "      <td>-0.209857</td>\n",
       "      <td>0.554229</td>\n",
       "      <td>0.490515</td>\n",
       "      <td>-0.265619</td>\n",
       "      <td>-0.272774</td>\n",
       "      <td>0.149508</td>\n",
       "      <td>0.368896</td>\n",
       "      <td>-0.132236</td>\n",
       "      <td>-0.365585</td>\n",
       "      <td>-0.383883</td>\n",
       "      <td>-0.321554</td>\n",
       "      <td>-0.358305</td>\n",
       "      <td>-0.320265</td>\n",
       "      <td>-0.102802</td>\n",
       "      <td>-0.254683</td>\n",
       "      <td>-0.364465</td>\n",
       "      <td>0.188562</td>\n",
       "      <td>-0.083225</td>\n",
       "      <td>-0.066870</td>\n",
       "      <td>-0.101630</td>\n",
       "      <td>0.338062</td>\n",
       "      <td>-0.076858</td>\n",
       "      <td>-0.059761</td>\n",
       "      <td>-0.083225</td>\n",
       "      <td>-0.169312</td>\n",
       "      <td>0.240506</td>\n",
       "      <td>0.133082</td>\n",
       "      <td>-0.021872</td>\n",
       "      <td>-0.083225</td>\n",
       "      <td>1.000000</td>\n",
       "      <td>-0.192669</td>\n",
       "      <td>-0.027067</td>\n",
       "      <td>-0.129099</td>\n",
       "      <td>-0.052088</td>\n",
       "      <td>-0.019035</td>\n",
       "      <td>-0.027067</td>\n",
       "      <td>0.318511</td>\n",
       "      <td>-0.162117</td>\n",
       "      <td>-0.089443</td>\n",
       "      <td>-0.056011</td>\n",
       "      <td>-0.019035</td>\n",
       "    </tr>\n",
       "    <tr>\n",
       "      <th>4</th>\n",
       "      <td>-0.533908</td>\n",
       "      <td>0.470400</td>\n",
       "      <td>0.470227</td>\n",
       "      <td>-0.662090</td>\n",
       "      <td>-0.615009</td>\n",
       "      <td>0.292047</td>\n",
       "      <td>0.552205</td>\n",
       "      <td>-0.492331</td>\n",
       "      <td>-0.566271</td>\n",
       "      <td>-0.443390</td>\n",
       "      <td>-0.512354</td>\n",
       "      <td>-0.615627</td>\n",
       "      <td>-0.469524</td>\n",
       "      <td>-0.335451</td>\n",
       "      <td>-0.379132</td>\n",
       "      <td>-0.652731</td>\n",
       "      <td>0.141798</td>\n",
       "      <td>0.374897</td>\n",
       "      <td>-0.386510</td>\n",
       "      <td>-0.232682</td>\n",
       "      <td>0.357239</td>\n",
       "      <td>0.037560</td>\n",
       "      <td>-0.272580</td>\n",
       "      <td>-0.309857</td>\n",
       "      <td>0.058059</td>\n",
       "      <td>0.182723</td>\n",
       "      <td>-0.088210</td>\n",
       "      <td>0.273481</td>\n",
       "      <td>-0.252794</td>\n",
       "      <td>-0.192669</td>\n",
       "      <td>1.000000</td>\n",
       "      <td>-0.156447</td>\n",
       "      <td>-0.746203</td>\n",
       "      <td>-0.301073</td>\n",
       "      <td>-0.110022</td>\n",
       "      <td>-0.156447</td>\n",
       "      <td>0.143846</td>\n",
       "      <td>0.277523</td>\n",
       "      <td>-0.244425</td>\n",
       "      <td>-0.246941</td>\n",
       "      <td>-0.110022</td>\n",
       "    </tr>\n",
       "    <tr>\n",
       "      <th>5</th>\n",
       "      <td>0.056945</td>\n",
       "      <td>-0.102526</td>\n",
       "      <td>-0.128207</td>\n",
       "      <td>-0.031286</td>\n",
       "      <td>-0.015163</td>\n",
       "      <td>0.017324</td>\n",
       "      <td>0.084146</td>\n",
       "      <td>-0.107375</td>\n",
       "      <td>0.160694</td>\n",
       "      <td>0.023433</td>\n",
       "      <td>0.132313</td>\n",
       "      <td>0.044320</td>\n",
       "      <td>-0.044254</td>\n",
       "      <td>0.210586</td>\n",
       "      <td>0.031619</td>\n",
       "      <td>0.133817</td>\n",
       "      <td>0.153112</td>\n",
       "      <td>-0.067579</td>\n",
       "      <td>-0.054298</td>\n",
       "      <td>0.091901</td>\n",
       "      <td>-0.080064</td>\n",
       "      <td>-0.062409</td>\n",
       "      <td>0.202192</td>\n",
       "      <td>0.128822</td>\n",
       "      <td>-0.137481</td>\n",
       "      <td>0.041375</td>\n",
       "      <td>-0.051458</td>\n",
       "      <td>0.092351</td>\n",
       "      <td>-0.067579</td>\n",
       "      <td>-0.027067</td>\n",
       "      <td>-0.156447</td>\n",
       "      <td>1.000000</td>\n",
       "      <td>-0.104828</td>\n",
       "      <td>-0.042295</td>\n",
       "      <td>-0.015456</td>\n",
       "      <td>-0.021978</td>\n",
       "      <td>-0.084979</td>\n",
       "      <td>0.017659</td>\n",
       "      <td>-0.072627</td>\n",
       "      <td>0.218877</td>\n",
       "      <td>-0.015456</td>\n",
       "    </tr>\n",
       "    <tr>\n",
       "      <th>6</th>\n",
       "      <td>0.358506</td>\n",
       "      <td>-0.499222</td>\n",
       "      <td>-0.501822</td>\n",
       "      <td>0.504052</td>\n",
       "      <td>0.431017</td>\n",
       "      <td>-0.307455</td>\n",
       "      <td>-0.526025</td>\n",
       "      <td>0.448129</td>\n",
       "      <td>0.476242</td>\n",
       "      <td>0.390539</td>\n",
       "      <td>0.469678</td>\n",
       "      <td>0.536068</td>\n",
       "      <td>0.436387</td>\n",
       "      <td>0.186149</td>\n",
       "      <td>0.269014</td>\n",
       "      <td>0.586074</td>\n",
       "      <td>-0.182574</td>\n",
       "      <td>-0.261892</td>\n",
       "      <td>0.235441</td>\n",
       "      <td>0.250480</td>\n",
       "      <td>-0.381881</td>\n",
       "      <td>-0.042524</td>\n",
       "      <td>0.308607</td>\n",
       "      <td>0.282038</td>\n",
       "      <td>-0.060999</td>\n",
       "      <td>-0.157877</td>\n",
       "      <td>0.122720</td>\n",
       "      <td>-0.118593</td>\n",
       "      <td>0.040291</td>\n",
       "      <td>-0.129099</td>\n",
       "      <td>-0.746203</td>\n",
       "      <td>-0.104828</td>\n",
       "      <td>1.000000</td>\n",
       "      <td>-0.201737</td>\n",
       "      <td>-0.073721</td>\n",
       "      <td>-0.104828</td>\n",
       "      <td>-0.140981</td>\n",
       "      <td>-0.168455</td>\n",
       "      <td>0.173205</td>\n",
       "      <td>0.271163</td>\n",
       "      <td>0.147442</td>\n",
       "    </tr>\n",
       "    <tr>\n",
       "      <th>8</th>\n",
       "      <td>0.423939</td>\n",
       "      <td>-0.273869</td>\n",
       "      <td>-0.219827</td>\n",
       "      <td>0.601449</td>\n",
       "      <td>0.497768</td>\n",
       "      <td>-0.196708</td>\n",
       "      <td>-0.397842</td>\n",
       "      <td>0.308112</td>\n",
       "      <td>0.335488</td>\n",
       "      <td>0.425342</td>\n",
       "      <td>0.320726</td>\n",
       "      <td>0.426865</td>\n",
       "      <td>0.372509</td>\n",
       "      <td>0.259742</td>\n",
       "      <td>0.388582</td>\n",
       "      <td>0.370927</td>\n",
       "      <td>-0.194683</td>\n",
       "      <td>-0.130051</td>\n",
       "      <td>0.400332</td>\n",
       "      <td>0.033000</td>\n",
       "      <td>-0.154079</td>\n",
       "      <td>-0.006128</td>\n",
       "      <td>-0.093386</td>\n",
       "      <td>0.085927</td>\n",
       "      <td>0.144154</td>\n",
       "      <td>-0.216577</td>\n",
       "      <td>-0.099029</td>\n",
       "      <td>-0.276353</td>\n",
       "      <td>0.409894</td>\n",
       "      <td>-0.052088</td>\n",
       "      <td>-0.301073</td>\n",
       "      <td>-0.042295</td>\n",
       "      <td>-0.201737</td>\n",
       "      <td>1.000000</td>\n",
       "      <td>-0.029744</td>\n",
       "      <td>0.238667</td>\n",
       "      <td>-0.163536</td>\n",
       "      <td>-0.089152</td>\n",
       "      <td>0.272879</td>\n",
       "      <td>-0.087526</td>\n",
       "      <td>-0.029744</td>\n",
       "    </tr>\n",
       "    <tr>\n",
       "      <th>rotary</th>\n",
       "      <td>0.140969</td>\n",
       "      <td>-0.100081</td>\n",
       "      <td>-0.080332</td>\n",
       "      <td>-0.138206</td>\n",
       "      <td>0.222500</td>\n",
       "      <td>0.214193</td>\n",
       "      <td>-0.001521</td>\n",
       "      <td>-0.075512</td>\n",
       "      <td>0.106616</td>\n",
       "      <td>-0.101965</td>\n",
       "      <td>-0.122138</td>\n",
       "      <td>-0.010439</td>\n",
       "      <td>-0.063642</td>\n",
       "      <td>-0.011436</td>\n",
       "      <td>0.003606</td>\n",
       "      <td>-0.031613</td>\n",
       "      <td>0.107676</td>\n",
       "      <td>-0.047525</td>\n",
       "      <td>-0.038185</td>\n",
       "      <td>-0.058035</td>\n",
       "      <td>-0.056305</td>\n",
       "      <td>0.247660</td>\n",
       "      <td>-0.034126</td>\n",
       "      <td>-0.047525</td>\n",
       "      <td>0.112423</td>\n",
       "      <td>-0.079144</td>\n",
       "      <td>-0.036188</td>\n",
       "      <td>-0.167362</td>\n",
       "      <td>0.228713</td>\n",
       "      <td>-0.019035</td>\n",
       "      <td>-0.110022</td>\n",
       "      <td>-0.015456</td>\n",
       "      <td>-0.073721</td>\n",
       "      <td>-0.029744</td>\n",
       "      <td>1.000000</td>\n",
       "      <td>0.703253</td>\n",
       "      <td>-0.059761</td>\n",
       "      <td>-0.092576</td>\n",
       "      <td>-0.051075</td>\n",
       "      <td>-0.031985</td>\n",
       "      <td>-0.010870</td>\n",
       "    </tr>\n",
       "    <tr>\n",
       "      <th>2</th>\n",
       "      <td>0.242887</td>\n",
       "      <td>-0.142311</td>\n",
       "      <td>-0.114229</td>\n",
       "      <td>0.119583</td>\n",
       "      <td>0.380420</td>\n",
       "      <td>0.117237</td>\n",
       "      <td>-0.133502</td>\n",
       "      <td>-0.107375</td>\n",
       "      <td>0.151604</td>\n",
       "      <td>-0.093953</td>\n",
       "      <td>-0.173676</td>\n",
       "      <td>0.083763</td>\n",
       "      <td>0.048232</td>\n",
       "      <td>-0.016261</td>\n",
       "      <td>0.005127</td>\n",
       "      <td>0.016322</td>\n",
       "      <td>0.004785</td>\n",
       "      <td>-0.067579</td>\n",
       "      <td>-0.054298</td>\n",
       "      <td>-0.082523</td>\n",
       "      <td>-0.080064</td>\n",
       "      <td>0.352163</td>\n",
       "      <td>-0.048526</td>\n",
       "      <td>-0.067579</td>\n",
       "      <td>0.159862</td>\n",
       "      <td>-0.112540</td>\n",
       "      <td>-0.051458</td>\n",
       "      <td>-0.237983</td>\n",
       "      <td>0.325222</td>\n",
       "      <td>-0.027067</td>\n",
       "      <td>-0.156447</td>\n",
       "      <td>-0.021978</td>\n",
       "      <td>-0.104828</td>\n",
       "      <td>0.238667</td>\n",
       "      <td>0.703253</td>\n",
       "      <td>1.000000</td>\n",
       "      <td>-0.084979</td>\n",
       "      <td>-0.131639</td>\n",
       "      <td>-0.072627</td>\n",
       "      <td>-0.045481</td>\n",
       "      <td>-0.015456</td>\n",
       "    </tr>\n",
       "    <tr>\n",
       "      <th>4</th>\n",
       "      <td>-0.243124</td>\n",
       "      <td>0.430677</td>\n",
       "      <td>0.413671</td>\n",
       "      <td>-0.325077</td>\n",
       "      <td>-0.214356</td>\n",
       "      <td>0.174059</td>\n",
       "      <td>0.327497</td>\n",
       "      <td>-0.415169</td>\n",
       "      <td>-0.383450</td>\n",
       "      <td>-0.464513</td>\n",
       "      <td>-0.473112</td>\n",
       "      <td>-0.335884</td>\n",
       "      <td>-0.318813</td>\n",
       "      <td>-0.575582</td>\n",
       "      <td>-0.443332</td>\n",
       "      <td>-0.397027</td>\n",
       "      <td>0.143176</td>\n",
       "      <td>-0.195261</td>\n",
       "      <td>-0.209944</td>\n",
       "      <td>-0.201789</td>\n",
       "      <td>0.167283</td>\n",
       "      <td>0.595018</td>\n",
       "      <td>-0.187628</td>\n",
       "      <td>0.068874</td>\n",
       "      <td>-0.131684</td>\n",
       "      <td>0.082354</td>\n",
       "      <td>0.042388</td>\n",
       "      <td>-0.087180</td>\n",
       "      <td>0.068874</td>\n",
       "      <td>0.318511</td>\n",
       "      <td>0.143846</td>\n",
       "      <td>-0.084979</td>\n",
       "      <td>-0.140981</td>\n",
       "      <td>-0.163536</td>\n",
       "      <td>-0.059761</td>\n",
       "      <td>-0.084979</td>\n",
       "      <td>1.000000</td>\n",
       "      <td>-0.508985</td>\n",
       "      <td>-0.280815</td>\n",
       "      <td>-0.175853</td>\n",
       "      <td>-0.059761</td>\n",
       "    </tr>\n",
       "    <tr>\n",
       "      <th>5</th>\n",
       "      <td>0.003389</td>\n",
       "      <td>0.069785</td>\n",
       "      <td>0.083612</td>\n",
       "      <td>-0.215728</td>\n",
       "      <td>-0.061509</td>\n",
       "      <td>0.309930</td>\n",
       "      <td>0.171022</td>\n",
       "      <td>-0.187253</td>\n",
       "      <td>-0.168954</td>\n",
       "      <td>-0.043805</td>\n",
       "      <td>-0.152609</td>\n",
       "      <td>-0.284820</td>\n",
       "      <td>-0.244796</td>\n",
       "      <td>-0.071624</td>\n",
       "      <td>-0.108610</td>\n",
       "      <td>-0.193757</td>\n",
       "      <td>0.223677</td>\n",
       "      <td>0.341213</td>\n",
       "      <td>-0.325222</td>\n",
       "      <td>0.270155</td>\n",
       "      <td>0.193825</td>\n",
       "      <td>-0.373801</td>\n",
       "      <td>-0.290651</td>\n",
       "      <td>-0.175234</td>\n",
       "      <td>0.045306</td>\n",
       "      <td>0.090424</td>\n",
       "      <td>-0.168390</td>\n",
       "      <td>0.215343</td>\n",
       "      <td>-0.117851</td>\n",
       "      <td>-0.162117</td>\n",
       "      <td>0.277523</td>\n",
       "      <td>0.017659</td>\n",
       "      <td>-0.168455</td>\n",
       "      <td>-0.089152</td>\n",
       "      <td>-0.092576</td>\n",
       "      <td>-0.131639</td>\n",
       "      <td>-0.508985</td>\n",
       "      <td>1.000000</td>\n",
       "      <td>-0.435007</td>\n",
       "      <td>-0.272412</td>\n",
       "      <td>-0.092576</td>\n",
       "    </tr>\n",
       "    <tr>\n",
       "      <th>6</th>\n",
       "      <td>0.182511</td>\n",
       "      <td>-0.270634</td>\n",
       "      <td>-0.182445</td>\n",
       "      <td>0.455837</td>\n",
       "      <td>0.145297</td>\n",
       "      <td>-0.401319</td>\n",
       "      <td>-0.411402</td>\n",
       "      <td>0.561808</td>\n",
       "      <td>0.253990</td>\n",
       "      <td>0.555292</td>\n",
       "      <td>0.465323</td>\n",
       "      <td>0.443343</td>\n",
       "      <td>0.422561</td>\n",
       "      <td>0.501542</td>\n",
       "      <td>0.610279</td>\n",
       "      <td>0.354763</td>\n",
       "      <td>-0.419880</td>\n",
       "      <td>-0.079091</td>\n",
       "      <td>0.747625</td>\n",
       "      <td>0.047516</td>\n",
       "      <td>-0.264575</td>\n",
       "      <td>-0.206232</td>\n",
       "      <td>-0.160357</td>\n",
       "      <td>0.281471</td>\n",
       "      <td>0.091567</td>\n",
       "      <td>-0.315381</td>\n",
       "      <td>-0.170046</td>\n",
       "      <td>0.062601</td>\n",
       "      <td>0.065134</td>\n",
       "      <td>-0.089443</td>\n",
       "      <td>-0.244425</td>\n",
       "      <td>-0.072627</td>\n",
       "      <td>0.173205</td>\n",
       "      <td>0.272879</td>\n",
       "      <td>-0.051075</td>\n",
       "      <td>-0.072627</td>\n",
       "      <td>-0.280815</td>\n",
       "      <td>-0.435007</td>\n",
       "      <td>1.000000</td>\n",
       "      <td>-0.150294</td>\n",
       "      <td>-0.051075</td>\n",
       "    </tr>\n",
       "    <tr>\n",
       "      <th>7</th>\n",
       "      <td>-0.003103</td>\n",
       "      <td>-0.280774</td>\n",
       "      <td>-0.402706</td>\n",
       "      <td>0.117377</td>\n",
       "      <td>0.021626</td>\n",
       "      <td>-0.229060</td>\n",
       "      <td>-0.115910</td>\n",
       "      <td>0.181406</td>\n",
       "      <td>0.331362</td>\n",
       "      <td>0.030010</td>\n",
       "      <td>0.392534</td>\n",
       "      <td>0.265162</td>\n",
       "      <td>0.267276</td>\n",
       "      <td>0.240185</td>\n",
       "      <td>0.010610</td>\n",
       "      <td>0.383457</td>\n",
       "      <td>0.009901</td>\n",
       "      <td>-0.139846</td>\n",
       "      <td>-0.112363</td>\n",
       "      <td>-0.170772</td>\n",
       "      <td>-0.165683</td>\n",
       "      <td>-0.129147</td>\n",
       "      <td>0.937247</td>\n",
       "      <td>-0.139846</td>\n",
       "      <td>-0.053758</td>\n",
       "      <td>0.165248</td>\n",
       "      <td>0.388677</td>\n",
       "      <td>-0.150683</td>\n",
       "      <td>-0.139846</td>\n",
       "      <td>-0.056011</td>\n",
       "      <td>-0.246941</td>\n",
       "      <td>0.218877</td>\n",
       "      <td>0.271163</td>\n",
       "      <td>-0.087526</td>\n",
       "      <td>-0.031985</td>\n",
       "      <td>-0.045481</td>\n",
       "      <td>-0.175853</td>\n",
       "      <td>-0.272412</td>\n",
       "      <td>-0.150294</td>\n",
       "      <td>1.000000</td>\n",
       "      <td>-0.031985</td>\n",
       "    </tr>\n",
       "    <tr>\n",
       "      <th>8</th>\n",
       "      <td>-0.031575</td>\n",
       "      <td>-0.137385</td>\n",
       "      <td>-0.178632</td>\n",
       "      <td>0.164935</td>\n",
       "      <td>0.042374</td>\n",
       "      <td>-0.224959</td>\n",
       "      <td>-0.114470</td>\n",
       "      <td>0.143945</td>\n",
       "      <td>0.330365</td>\n",
       "      <td>0.077496</td>\n",
       "      <td>0.108420</td>\n",
       "      <td>0.239205</td>\n",
       "      <td>0.098960</td>\n",
       "      <td>0.201272</td>\n",
       "      <td>0.003606</td>\n",
       "      <td>0.169184</td>\n",
       "      <td>-0.100947</td>\n",
       "      <td>-0.047525</td>\n",
       "      <td>-0.038185</td>\n",
       "      <td>-0.058035</td>\n",
       "      <td>-0.056305</td>\n",
       "      <td>-0.043889</td>\n",
       "      <td>0.318511</td>\n",
       "      <td>-0.047525</td>\n",
       "      <td>-0.096684</td>\n",
       "      <td>0.137339</td>\n",
       "      <td>0.300362</td>\n",
       "      <td>-0.167362</td>\n",
       "      <td>-0.047525</td>\n",
       "      <td>-0.019035</td>\n",
       "      <td>-0.110022</td>\n",
       "      <td>-0.015456</td>\n",
       "      <td>0.147442</td>\n",
       "      <td>-0.029744</td>\n",
       "      <td>-0.010870</td>\n",
       "      <td>-0.015456</td>\n",
       "      <td>-0.059761</td>\n",
       "      <td>-0.092576</td>\n",
       "      <td>-0.051075</td>\n",
       "      <td>-0.031985</td>\n",
       "      <td>1.000000</td>\n",
       "    </tr>\n",
       "  </tbody>\n",
       "</table>\n",
       "</div>"
      ],
      "text/plain": [
       "                       Price  MPG.city  ...         7         8\n",
       "Price               1.000000 -0.594562  ... -0.003103 -0.031575\n",
       "MPG.city           -0.594562  1.000000  ... -0.280774 -0.137385\n",
       "MPG.highway        -0.560680  0.943936  ... -0.402706 -0.178632\n",
       "EngineSize          0.597425 -0.710003  ...  0.117377  0.164935\n",
       "Horsepower          0.788218 -0.672636  ...  0.021626  0.042374\n",
       "RPM                -0.004955  0.363045  ... -0.229060 -0.224959\n",
       "Rev.per.mile       -0.426395  0.695857  ... -0.115910 -0.114470\n",
       "Man.trans.avail     0.326504 -0.444210  ...  0.181406  0.143945\n",
       "Fuel.tank.capacity  0.619480 -0.813144  ...  0.331362  0.330365\n",
       "Length              0.503628 -0.666239  ...  0.030010  0.077496\n",
       "Wheelbase           0.500864 -0.667108  ...  0.392534  0.108420\n",
       "Width               0.456028 -0.720534  ...  0.265162  0.239205\n",
       "Turn.circle         0.392590 -0.666389  ...  0.267276  0.098960\n",
       "Rear.seat.room      0.297898 -0.378071  ...  0.240185  0.201272\n",
       "Luggage.room        0.355827 -0.466621  ...  0.010610  0.003606\n",
       "Weight              0.647179 -0.843139  ...  0.383457  0.169184\n",
       "Origin              0.100702  0.260024  ...  0.009901 -0.100947\n",
       "Compact            -0.061547  0.026253  ... -0.139846 -0.047525\n",
       "Large               0.182621 -0.262233  ... -0.112363 -0.038185\n",
       "Midsize             0.446630 -0.280852  ... -0.170772 -0.058035\n",
       "Small              -0.525202  0.723837  ... -0.165683 -0.056305\n",
       "Sporty             -0.005119 -0.043673  ... -0.129147 -0.043889\n",
       "Van                -0.013958 -0.314214  ...  0.937247  0.318511\n",
       "Driver & Passenger  0.420338 -0.228601  ... -0.139846 -0.047525\n",
       "Driver only         0.165405 -0.122390  ... -0.053758 -0.096684\n",
       "None               -0.500651  0.305857  ...  0.165248  0.137339\n",
       "4WD                -0.067911 -0.115852  ...  0.388677  0.300362\n",
       "Front              -0.329809  0.332226  ... -0.150683 -0.167362\n",
       "Rear                0.447917 -0.299960  ... -0.139846 -0.047525\n",
       "3                  -0.209857  0.554229  ... -0.056011 -0.019035\n",
       "4                  -0.533908  0.470400  ... -0.246941 -0.110022\n",
       "5                   0.056945 -0.102526  ...  0.218877 -0.015456\n",
       "6                   0.358506 -0.499222  ...  0.271163  0.147442\n",
       "8                   0.423939 -0.273869  ... -0.087526 -0.029744\n",
       "rotary              0.140969 -0.100081  ... -0.031985 -0.010870\n",
       "2                   0.242887 -0.142311  ... -0.045481 -0.015456\n",
       "4                  -0.243124  0.430677  ... -0.175853 -0.059761\n",
       "5                   0.003389  0.069785  ... -0.272412 -0.092576\n",
       "6                   0.182511 -0.270634  ... -0.150294 -0.051075\n",
       "7                  -0.003103 -0.280774  ...  1.000000 -0.031985\n",
       "8                  -0.031575 -0.137385  ... -0.031985  1.000000\n",
       "\n",
       "[41 rows x 41 columns]"
      ]
     },
     "execution_count": 20,
     "metadata": {
      "tags": []
     },
     "output_type": "execute_result"
    }
   ],
   "source": [
    "df.corr()"
   ]
  },
  {
   "cell_type": "code",
   "execution_count": null,
   "metadata": {
    "colab": {},
    "colab_type": "code",
    "id": "HBfSKCPIBn8J"
   },
   "outputs": [],
   "source": [
    "X=df.drop('Price',axis=1)\n",
    "Y=df['Price']"
   ]
  },
  {
   "cell_type": "code",
   "execution_count": null,
   "metadata": {
    "colab": {
     "base_uri": "https://localhost:8080/",
     "height": 34
    },
    "colab_type": "code",
    "executionInfo": {
     "elapsed": 996,
     "status": "ok",
     "timestamp": 1591697394807,
     "user": {
      "displayName": "Mahesh Anand",
      "photoUrl": "https://lh3.googleusercontent.com/a-/AOh14GiAxRvO4nLPhI4SJLaIoUVmhr8lm1tddyCLyKOj=s64",
      "userId": "06788086636039591358"
     },
     "user_tz": -330
    },
    "id": "nBBlwfoVQld8",
    "outputId": "64a573ca-28f5-42d9-b5dc-ef227e0b11a4"
   },
   "outputs": [
    {
     "data": {
      "text/plain": [
       "((93, 40), (93,))"
      ]
     },
     "execution_count": 22,
     "metadata": {
      "tags": []
     },
     "output_type": "execute_result"
    }
   ],
   "source": [
    "X.shape,Y.shape"
   ]
  },
  {
   "cell_type": "code",
   "execution_count": null,
   "metadata": {
    "colab": {},
    "colab_type": "code",
    "id": "-6hvwLIcLpwj"
   },
   "outputs": [],
   "source": [
    "import statsmodels.api as sm\n",
    "from statsmodels.api import add_constant"
   ]
  },
  {
   "cell_type": "code",
   "execution_count": null,
   "metadata": {
    "colab": {},
    "colab_type": "code",
    "id": "K8-ecCkwNnaF"
   },
   "outputs": [],
   "source": [
    "Xc=sm.add_constant(X)"
   ]
  },
  {
   "cell_type": "code",
   "execution_count": null,
   "metadata": {
    "colab": {
     "base_uri": "https://localhost:8080/",
     "height": 1000
    },
    "colab_type": "code",
    "executionInfo": {
     "elapsed": 1612,
     "status": "ok",
     "timestamp": 1591698021556,
     "user": {
      "displayName": "Mahesh Anand",
      "photoUrl": "https://lh3.googleusercontent.com/a-/AOh14GiAxRvO4nLPhI4SJLaIoUVmhr8lm1tddyCLyKOj=s64",
      "userId": "06788086636039591358"
     },
     "user_tz": -330
    },
    "id": "obm7vyysk5re",
    "outputId": "c2b10e5f-a087-4848-f74f-bf8586da57f0"
   },
   "outputs": [
    {
     "data": {
      "text/html": [
       "<table class=\"simpletable\">\n",
       "<caption>OLS Regression Results</caption>\n",
       "<tr>\n",
       "  <th>Dep. Variable:</th>          <td>Price</td>      <th>  R-squared:         </th> <td>   0.855</td>\n",
       "</tr>\n",
       "<tr>\n",
       "  <th>Model:</th>                   <td>OLS</td>       <th>  Adj. R-squared:    </th> <td>   0.770</td>\n",
       "</tr>\n",
       "<tr>\n",
       "  <th>Method:</th>             <td>Least Squares</td>  <th>  F-statistic:       </th> <td>   10.06</td>\n",
       "</tr>\n",
       "<tr>\n",
       "  <th>Date:</th>             <td>Tue, 09 Jun 2020</td> <th>  Prob (F-statistic):</th> <td>2.77e-14</td>\n",
       "</tr>\n",
       "<tr>\n",
       "  <th>Time:</th>                 <td>10:20:23</td>     <th>  Log-Likelihood:    </th> <td> -252.59</td>\n",
       "</tr>\n",
       "<tr>\n",
       "  <th>No. Observations:</th>      <td>    93</td>      <th>  AIC:               </th> <td>   575.2</td>\n",
       "</tr>\n",
       "<tr>\n",
       "  <th>Df Residuals:</th>          <td>    58</td>      <th>  BIC:               </th> <td>   663.8</td>\n",
       "</tr>\n",
       "<tr>\n",
       "  <th>Df Model:</th>              <td>    34</td>      <th>                     </th>     <td> </td>   \n",
       "</tr>\n",
       "<tr>\n",
       "  <th>Covariance Type:</th>      <td>nonrobust</td>    <th>                     </th>     <td> </td>   \n",
       "</tr>\n",
       "</table>\n",
       "<table class=\"simpletable\">\n",
       "<tr>\n",
       "           <td></td>             <th>coef</th>     <th>std err</th>      <th>t</th>      <th>P>|t|</th>  <th>[0.025</th>    <th>0.975]</th>  \n",
       "</tr>\n",
       "<tr>\n",
       "  <th>const</th>              <td>   48.9084</td> <td>   16.859</td> <td>    2.901</td> <td> 0.005</td> <td>   15.161</td> <td>   82.656</td>\n",
       "</tr>\n",
       "<tr>\n",
       "  <th>MPG.city</th>           <td>   -0.3244</td> <td>    0.432</td> <td>   -0.750</td> <td> 0.456</td> <td>   -1.190</td> <td>    0.541</td>\n",
       "</tr>\n",
       "<tr>\n",
       "  <th>MPG.highway</th>        <td>    0.1691</td> <td>    0.398</td> <td>    0.425</td> <td> 0.672</td> <td>   -0.627</td> <td>    0.965</td>\n",
       "</tr>\n",
       "<tr>\n",
       "  <th>EngineSize</th>         <td>   -1.6774</td> <td>    2.828</td> <td>   -0.593</td> <td> 0.555</td> <td>   -7.337</td> <td>    3.983</td>\n",
       "</tr>\n",
       "<tr>\n",
       "  <th>Horsepower</th>         <td>    0.1388</td> <td>    0.045</td> <td>    3.088</td> <td> 0.003</td> <td>    0.049</td> <td>    0.229</td>\n",
       "</tr>\n",
       "<tr>\n",
       "  <th>RPM</th>                <td>   -0.0026</td> <td>    0.002</td> <td>   -1.169</td> <td> 0.247</td> <td>   -0.007</td> <td>    0.002</td>\n",
       "</tr>\n",
       "<tr>\n",
       "  <th>Rev.per.mile</th>       <td>    0.0017</td> <td>    0.002</td> <td>    0.771</td> <td> 0.444</td> <td>   -0.003</td> <td>    0.006</td>\n",
       "</tr>\n",
       "<tr>\n",
       "  <th>Man.trans.avail</th>    <td>    1.9656</td> <td>    2.167</td> <td>    0.907</td> <td> 0.368</td> <td>   -2.372</td> <td>    6.303</td>\n",
       "</tr>\n",
       "<tr>\n",
       "  <th>Fuel.tank.capacity</th> <td>    0.4672</td> <td>    0.540</td> <td>    0.865</td> <td> 0.391</td> <td>   -0.614</td> <td>    1.549</td>\n",
       "</tr>\n",
       "<tr>\n",
       "  <th>Length</th>             <td>    0.0485</td> <td>    0.110</td> <td>    0.443</td> <td> 0.660</td> <td>   -0.171</td> <td>    0.268</td>\n",
       "</tr>\n",
       "<tr>\n",
       "  <th>Wheelbase</th>          <td>    0.3850</td> <td>    0.274</td> <td>    1.407</td> <td> 0.165</td> <td>   -0.163</td> <td>    0.933</td>\n",
       "</tr>\n",
       "<tr>\n",
       "  <th>Width</th>              <td>   -1.9087</td> <td>    0.544</td> <td>   -3.511</td> <td> 0.001</td> <td>   -2.997</td> <td>   -0.820</td>\n",
       "</tr>\n",
       "<tr>\n",
       "  <th>Turn.circle</th>        <td>   -0.6224</td> <td>    0.365</td> <td>   -1.703</td> <td> 0.094</td> <td>   -1.354</td> <td>    0.109</td>\n",
       "</tr>\n",
       "<tr>\n",
       "  <th>Rear.seat.room</th>     <td>    0.3343</td> <td>    0.359</td> <td>    0.932</td> <td> 0.355</td> <td>   -0.384</td> <td>    1.053</td>\n",
       "</tr>\n",
       "<tr>\n",
       "  <th>Luggage.room</th>       <td>    0.2737</td> <td>    0.339</td> <td>    0.808</td> <td> 0.423</td> <td>   -0.405</td> <td>    0.952</td>\n",
       "</tr>\n",
       "<tr>\n",
       "  <th>Weight</th>             <td>   -0.0013</td> <td>    0.006</td> <td>   -0.237</td> <td> 0.813</td> <td>   -0.013</td> <td>    0.010</td>\n",
       "</tr>\n",
       "<tr>\n",
       "  <th>Origin</th>             <td>    0.8789</td> <td>    1.641</td> <td>    0.536</td> <td> 0.594</td> <td>   -2.406</td> <td>    4.164</td>\n",
       "</tr>\n",
       "<tr>\n",
       "  <th>Compact</th>            <td>    4.3319</td> <td>    2.252</td> <td>    1.924</td> <td> 0.059</td> <td>   -0.176</td> <td>    8.840</td>\n",
       "</tr>\n",
       "<tr>\n",
       "  <th>Large</th>              <td>    5.8686</td> <td>    4.637</td> <td>    1.265</td> <td> 0.211</td> <td>   -3.414</td> <td>   15.151</td>\n",
       "</tr>\n",
       "<tr>\n",
       "  <th>Midsize</th>            <td>    8.2641</td> <td>    3.026</td> <td>    2.731</td> <td> 0.008</td> <td>    2.208</td> <td>   14.320</td>\n",
       "</tr>\n",
       "<tr>\n",
       "  <th>Small</th>              <td>    5.5221</td> <td>    2.958</td> <td>    1.867</td> <td> 0.067</td> <td>   -0.399</td> <td>   11.443</td>\n",
       "</tr>\n",
       "<tr>\n",
       "  <th>Sporty</th>             <td>   10.8378</td> <td>    3.189</td> <td>    3.399</td> <td> 0.001</td> <td>    4.455</td> <td>   17.221</td>\n",
       "</tr>\n",
       "<tr>\n",
       "  <th>Van</th>                <td>   14.0839</td> <td>    6.266</td> <td>    2.248</td> <td> 0.028</td> <td>    1.542</td> <td>   26.626</td>\n",
       "</tr>\n",
       "<tr>\n",
       "  <th>Driver & Passenger</th> <td>   20.3152</td> <td>    6.263</td> <td>    3.244</td> <td> 0.002</td> <td>    7.779</td> <td>   32.851</td>\n",
       "</tr>\n",
       "<tr>\n",
       "  <th>Driver only</th>        <td>   16.5788</td> <td>    5.483</td> <td>    3.023</td> <td> 0.004</td> <td>    5.602</td> <td>   27.555</td>\n",
       "</tr>\n",
       "<tr>\n",
       "  <th>None</th>               <td>   12.0144</td> <td>    5.385</td> <td>    2.231</td> <td> 0.030</td> <td>    1.234</td> <td>   22.795</td>\n",
       "</tr>\n",
       "<tr>\n",
       "  <th>4WD</th>                <td>   13.1235</td> <td>    5.376</td> <td>    2.441</td> <td> 0.018</td> <td>    2.363</td> <td>   23.884</td>\n",
       "</tr>\n",
       "<tr>\n",
       "  <th>Front</th>              <td>   15.4041</td> <td>    5.871</td> <td>    2.624</td> <td> 0.011</td> <td>    3.653</td> <td>   27.156</td>\n",
       "</tr>\n",
       "<tr>\n",
       "  <th>Rear</th>               <td>   20.3808</td> <td>    6.122</td> <td>    3.329</td> <td> 0.002</td> <td>    8.126</td> <td>   32.636</td>\n",
       "</tr>\n",
       "<tr>\n",
       "  <th>3</th>                  <td>   10.9136</td> <td>    5.840</td> <td>    1.869</td> <td> 0.067</td> <td>   -0.777</td> <td>   22.604</td>\n",
       "</tr>\n",
       "<tr>\n",
       "  <th>4</th>                  <td>    8.7516</td> <td>    3.803</td> <td>    2.301</td> <td> 0.025</td> <td>    1.139</td> <td>   16.364</td>\n",
       "</tr>\n",
       "<tr>\n",
       "  <th>5</th>                  <td>    7.3170</td> <td>    4.646</td> <td>    1.575</td> <td> 0.121</td> <td>   -1.983</td> <td>   16.617</td>\n",
       "</tr>\n",
       "<tr>\n",
       "  <th>6</th>                  <td>   11.7320</td> <td>    3.510</td> <td>    3.343</td> <td> 0.001</td> <td>    4.707</td> <td>   18.757</td>\n",
       "</tr>\n",
       "<tr>\n",
       "  <th>8</th>                  <td>   14.3636</td> <td>    4.719</td> <td>    3.044</td> <td> 0.004</td> <td>    4.918</td> <td>   23.809</td>\n",
       "</tr>\n",
       "<tr>\n",
       "  <th>rotary</th>             <td>   -4.1694</td> <td>    9.715</td> <td>   -0.429</td> <td> 0.669</td> <td>  -23.616</td> <td>   15.277</td>\n",
       "</tr>\n",
       "<tr>\n",
       "  <th>2</th>                  <td>   11.2688</td> <td>    6.278</td> <td>    1.795</td> <td> 0.078</td> <td>   -1.298</td> <td>   23.835</td>\n",
       "</tr>\n",
       "<tr>\n",
       "  <th>4</th>                  <td>    5.7731</td> <td>    3.423</td> <td>    1.687</td> <td> 0.097</td> <td>   -1.078</td> <td>   12.624</td>\n",
       "</tr>\n",
       "<tr>\n",
       "  <th>5</th>                  <td>    8.8978</td> <td>    3.878</td> <td>    2.294</td> <td> 0.025</td> <td>    1.135</td> <td>   16.661</td>\n",
       "</tr>\n",
       "<tr>\n",
       "  <th>6</th>                  <td>    8.8848</td> <td>    4.220</td> <td>    2.106</td> <td> 0.040</td> <td>    0.438</td> <td>   17.332</td>\n",
       "</tr>\n",
       "<tr>\n",
       "  <th>7</th>                  <td>    5.5026</td> <td>    3.617</td> <td>    1.521</td> <td> 0.134</td> <td>   -1.737</td> <td>   12.742</td>\n",
       "</tr>\n",
       "<tr>\n",
       "  <th>8</th>                  <td>    8.5813</td> <td>    5.422</td> <td>    1.583</td> <td> 0.119</td> <td>   -2.272</td> <td>   19.435</td>\n",
       "</tr>\n",
       "</table>\n",
       "<table class=\"simpletable\">\n",
       "<tr>\n",
       "  <th>Omnibus:</th>       <td>13.833</td> <th>  Durbin-Watson:     </th> <td>   1.771</td>\n",
       "</tr>\n",
       "<tr>\n",
       "  <th>Prob(Omnibus):</th> <td> 0.001</td> <th>  Jarque-Bera (JB):  </th> <td>  21.576</td>\n",
       "</tr>\n",
       "<tr>\n",
       "  <th>Skew:</th>          <td> 0.628</td> <th>  Prob(JB):          </th> <td>2.06e-05</td>\n",
       "</tr>\n",
       "<tr>\n",
       "  <th>Kurtosis:</th>      <td> 4.997</td> <th>  Cond. No.          </th> <td>1.00e+16</td>\n",
       "</tr>\n",
       "</table><br/><br/>Warnings:<br/>[1] Standard Errors assume that the covariance matrix of the errors is correctly specified.<br/>[2] The smallest eigenvalue is 3.98e-23. This might indicate that there are<br/>strong multicollinearity problems or that the design matrix is singular."
      ],
      "text/plain": [
       "<class 'statsmodels.iolib.summary.Summary'>\n",
       "\"\"\"\n",
       "                            OLS Regression Results                            \n",
       "==============================================================================\n",
       "Dep. Variable:                  Price   R-squared:                       0.855\n",
       "Model:                            OLS   Adj. R-squared:                  0.770\n",
       "Method:                 Least Squares   F-statistic:                     10.06\n",
       "Date:                Tue, 09 Jun 2020   Prob (F-statistic):           2.77e-14\n",
       "Time:                        10:20:23   Log-Likelihood:                -252.59\n",
       "No. Observations:                  93   AIC:                             575.2\n",
       "Df Residuals:                      58   BIC:                             663.8\n",
       "Df Model:                          34                                         \n",
       "Covariance Type:            nonrobust                                         \n",
       "======================================================================================\n",
       "                         coef    std err          t      P>|t|      [0.025      0.975]\n",
       "--------------------------------------------------------------------------------------\n",
       "const                 48.9084     16.859      2.901      0.005      15.161      82.656\n",
       "MPG.city              -0.3244      0.432     -0.750      0.456      -1.190       0.541\n",
       "MPG.highway            0.1691      0.398      0.425      0.672      -0.627       0.965\n",
       "EngineSize            -1.6774      2.828     -0.593      0.555      -7.337       3.983\n",
       "Horsepower             0.1388      0.045      3.088      0.003       0.049       0.229\n",
       "RPM                   -0.0026      0.002     -1.169      0.247      -0.007       0.002\n",
       "Rev.per.mile           0.0017      0.002      0.771      0.444      -0.003       0.006\n",
       "Man.trans.avail        1.9656      2.167      0.907      0.368      -2.372       6.303\n",
       "Fuel.tank.capacity     0.4672      0.540      0.865      0.391      -0.614       1.549\n",
       "Length                 0.0485      0.110      0.443      0.660      -0.171       0.268\n",
       "Wheelbase              0.3850      0.274      1.407      0.165      -0.163       0.933\n",
       "Width                 -1.9087      0.544     -3.511      0.001      -2.997      -0.820\n",
       "Turn.circle           -0.6224      0.365     -1.703      0.094      -1.354       0.109\n",
       "Rear.seat.room         0.3343      0.359      0.932      0.355      -0.384       1.053\n",
       "Luggage.room           0.2737      0.339      0.808      0.423      -0.405       0.952\n",
       "Weight                -0.0013      0.006     -0.237      0.813      -0.013       0.010\n",
       "Origin                 0.8789      1.641      0.536      0.594      -2.406       4.164\n",
       "Compact                4.3319      2.252      1.924      0.059      -0.176       8.840\n",
       "Large                  5.8686      4.637      1.265      0.211      -3.414      15.151\n",
       "Midsize                8.2641      3.026      2.731      0.008       2.208      14.320\n",
       "Small                  5.5221      2.958      1.867      0.067      -0.399      11.443\n",
       "Sporty                10.8378      3.189      3.399      0.001       4.455      17.221\n",
       "Van                   14.0839      6.266      2.248      0.028       1.542      26.626\n",
       "Driver & Passenger    20.3152      6.263      3.244      0.002       7.779      32.851\n",
       "Driver only           16.5788      5.483      3.023      0.004       5.602      27.555\n",
       "None                  12.0144      5.385      2.231      0.030       1.234      22.795\n",
       "4WD                   13.1235      5.376      2.441      0.018       2.363      23.884\n",
       "Front                 15.4041      5.871      2.624      0.011       3.653      27.156\n",
       "Rear                  20.3808      6.122      3.329      0.002       8.126      32.636\n",
       "3                     10.9136      5.840      1.869      0.067      -0.777      22.604\n",
       "4                      8.7516      3.803      2.301      0.025       1.139      16.364\n",
       "5                      7.3170      4.646      1.575      0.121      -1.983      16.617\n",
       "6                     11.7320      3.510      3.343      0.001       4.707      18.757\n",
       "8                     14.3636      4.719      3.044      0.004       4.918      23.809\n",
       "rotary                -4.1694      9.715     -0.429      0.669     -23.616      15.277\n",
       "2                     11.2688      6.278      1.795      0.078      -1.298      23.835\n",
       "4                      5.7731      3.423      1.687      0.097      -1.078      12.624\n",
       "5                      8.8978      3.878      2.294      0.025       1.135      16.661\n",
       "6                      8.8848      4.220      2.106      0.040       0.438      17.332\n",
       "7                      5.5026      3.617      1.521      0.134      -1.737      12.742\n",
       "8                      8.5813      5.422      1.583      0.119      -2.272      19.435\n",
       "==============================================================================\n",
       "Omnibus:                       13.833   Durbin-Watson:                   1.771\n",
       "Prob(Omnibus):                  0.001   Jarque-Bera (JB):               21.576\n",
       "Skew:                           0.628   Prob(JB):                     2.06e-05\n",
       "Kurtosis:                       4.997   Cond. No.                     1.00e+16\n",
       "==============================================================================\n",
       "\n",
       "Warnings:\n",
       "[1] Standard Errors assume that the covariance matrix of the errors is correctly specified.\n",
       "[2] The smallest eigenvalue is 3.98e-23. This might indicate that there are\n",
       "strong multicollinearity problems or that the design matrix is singular.\n",
       "\"\"\""
      ]
     },
     "execution_count": 31,
     "metadata": {
      "tags": []
     },
     "output_type": "execute_result"
    }
   ],
   "source": [
    "model = sm.OLS(Y,Xc).fit()\n",
    "model.summary()"
   ]
  },
  {
   "cell_type": "code",
   "execution_count": null,
   "metadata": {
    "colab": {
     "base_uri": "https://localhost:8080/",
     "height": 240
    },
    "colab_type": "code",
    "executionInfo": {
     "elapsed": 1117,
     "status": "ok",
     "timestamp": 1591697566215,
     "user": {
      "displayName": "Mahesh Anand",
      "photoUrl": "https://lh3.googleusercontent.com/a-/AOh14GiAxRvO4nLPhI4SJLaIoUVmhr8lm1tddyCLyKOj=s64",
      "userId": "06788086636039591358"
     },
     "user_tz": -330
    },
    "id": "nnQ3CHSdiIG4",
    "outputId": "ebf80eb9-054d-49f9-cf0e-a403cf51f34e"
   },
   "outputs": [
    {
     "data": {
      "text/html": [
       "<div>\n",
       "<style scoped>\n",
       "    .dataframe tbody tr th:only-of-type {\n",
       "        vertical-align: middle;\n",
       "    }\n",
       "\n",
       "    .dataframe tbody tr th {\n",
       "        vertical-align: top;\n",
       "    }\n",
       "\n",
       "    .dataframe thead th {\n",
       "        text-align: right;\n",
       "    }\n",
       "</style>\n",
       "<table border=\"1\" class=\"dataframe\">\n",
       "  <thead>\n",
       "    <tr style=\"text-align: right;\">\n",
       "      <th></th>\n",
       "      <th>const</th>\n",
       "      <th>MPG.city</th>\n",
       "      <th>MPG.highway</th>\n",
       "      <th>EngineSize</th>\n",
       "      <th>Horsepower</th>\n",
       "      <th>RPM</th>\n",
       "      <th>Rev.per.mile</th>\n",
       "      <th>Man.trans.avail</th>\n",
       "      <th>Fuel.tank.capacity</th>\n",
       "      <th>Length</th>\n",
       "      <th>Wheelbase</th>\n",
       "      <th>Width</th>\n",
       "      <th>Turn.circle</th>\n",
       "      <th>Rear.seat.room</th>\n",
       "      <th>Luggage.room</th>\n",
       "      <th>Weight</th>\n",
       "      <th>Origin</th>\n",
       "      <th>Compact</th>\n",
       "      <th>Large</th>\n",
       "      <th>Midsize</th>\n",
       "      <th>Small</th>\n",
       "      <th>Sporty</th>\n",
       "      <th>Van</th>\n",
       "      <th>Driver &amp; Passenger</th>\n",
       "      <th>Driver only</th>\n",
       "      <th>None</th>\n",
       "      <th>4WD</th>\n",
       "      <th>Front</th>\n",
       "      <th>Rear</th>\n",
       "      <th>3</th>\n",
       "      <th>4</th>\n",
       "      <th>5</th>\n",
       "      <th>6</th>\n",
       "      <th>8</th>\n",
       "      <th>rotary</th>\n",
       "      <th>2</th>\n",
       "      <th>4</th>\n",
       "      <th>5</th>\n",
       "      <th>6</th>\n",
       "      <th>7</th>\n",
       "      <th>8</th>\n",
       "    </tr>\n",
       "  </thead>\n",
       "  <tbody>\n",
       "    <tr>\n",
       "      <th>1</th>\n",
       "      <td>1.0</td>\n",
       "      <td>25</td>\n",
       "      <td>31</td>\n",
       "      <td>1.8</td>\n",
       "      <td>140</td>\n",
       "      <td>6300</td>\n",
       "      <td>2890</td>\n",
       "      <td>0</td>\n",
       "      <td>13.2</td>\n",
       "      <td>177</td>\n",
       "      <td>102</td>\n",
       "      <td>68</td>\n",
       "      <td>37</td>\n",
       "      <td>26.5</td>\n",
       "      <td>11.0</td>\n",
       "      <td>2705</td>\n",
       "      <td>1</td>\n",
       "      <td>0</td>\n",
       "      <td>0</td>\n",
       "      <td>0</td>\n",
       "      <td>1</td>\n",
       "      <td>0</td>\n",
       "      <td>0</td>\n",
       "      <td>0</td>\n",
       "      <td>0</td>\n",
       "      <td>1</td>\n",
       "      <td>0</td>\n",
       "      <td>1</td>\n",
       "      <td>0</td>\n",
       "      <td>0</td>\n",
       "      <td>1</td>\n",
       "      <td>0</td>\n",
       "      <td>0</td>\n",
       "      <td>0</td>\n",
       "      <td>0</td>\n",
       "      <td>0</td>\n",
       "      <td>0</td>\n",
       "      <td>1</td>\n",
       "      <td>0</td>\n",
       "      <td>0</td>\n",
       "      <td>0</td>\n",
       "    </tr>\n",
       "    <tr>\n",
       "      <th>2</th>\n",
       "      <td>1.0</td>\n",
       "      <td>18</td>\n",
       "      <td>25</td>\n",
       "      <td>3.2</td>\n",
       "      <td>200</td>\n",
       "      <td>5500</td>\n",
       "      <td>2335</td>\n",
       "      <td>0</td>\n",
       "      <td>18.0</td>\n",
       "      <td>195</td>\n",
       "      <td>115</td>\n",
       "      <td>71</td>\n",
       "      <td>38</td>\n",
       "      <td>30.0</td>\n",
       "      <td>15.0</td>\n",
       "      <td>3560</td>\n",
       "      <td>1</td>\n",
       "      <td>0</td>\n",
       "      <td>0</td>\n",
       "      <td>1</td>\n",
       "      <td>0</td>\n",
       "      <td>0</td>\n",
       "      <td>0</td>\n",
       "      <td>1</td>\n",
       "      <td>0</td>\n",
       "      <td>0</td>\n",
       "      <td>0</td>\n",
       "      <td>1</td>\n",
       "      <td>0</td>\n",
       "      <td>0</td>\n",
       "      <td>0</td>\n",
       "      <td>0</td>\n",
       "      <td>1</td>\n",
       "      <td>0</td>\n",
       "      <td>0</td>\n",
       "      <td>0</td>\n",
       "      <td>0</td>\n",
       "      <td>1</td>\n",
       "      <td>0</td>\n",
       "      <td>0</td>\n",
       "      <td>0</td>\n",
       "    </tr>\n",
       "    <tr>\n",
       "      <th>3</th>\n",
       "      <td>1.0</td>\n",
       "      <td>20</td>\n",
       "      <td>26</td>\n",
       "      <td>2.8</td>\n",
       "      <td>172</td>\n",
       "      <td>5500</td>\n",
       "      <td>2280</td>\n",
       "      <td>0</td>\n",
       "      <td>16.9</td>\n",
       "      <td>180</td>\n",
       "      <td>102</td>\n",
       "      <td>67</td>\n",
       "      <td>37</td>\n",
       "      <td>28.0</td>\n",
       "      <td>14.0</td>\n",
       "      <td>3375</td>\n",
       "      <td>1</td>\n",
       "      <td>1</td>\n",
       "      <td>0</td>\n",
       "      <td>0</td>\n",
       "      <td>0</td>\n",
       "      <td>0</td>\n",
       "      <td>0</td>\n",
       "      <td>0</td>\n",
       "      <td>1</td>\n",
       "      <td>0</td>\n",
       "      <td>0</td>\n",
       "      <td>1</td>\n",
       "      <td>0</td>\n",
       "      <td>0</td>\n",
       "      <td>0</td>\n",
       "      <td>0</td>\n",
       "      <td>1</td>\n",
       "      <td>0</td>\n",
       "      <td>0</td>\n",
       "      <td>0</td>\n",
       "      <td>0</td>\n",
       "      <td>1</td>\n",
       "      <td>0</td>\n",
       "      <td>0</td>\n",
       "      <td>0</td>\n",
       "    </tr>\n",
       "    <tr>\n",
       "      <th>4</th>\n",
       "      <td>1.0</td>\n",
       "      <td>19</td>\n",
       "      <td>26</td>\n",
       "      <td>2.8</td>\n",
       "      <td>172</td>\n",
       "      <td>5500</td>\n",
       "      <td>2535</td>\n",
       "      <td>0</td>\n",
       "      <td>21.1</td>\n",
       "      <td>193</td>\n",
       "      <td>106</td>\n",
       "      <td>70</td>\n",
       "      <td>37</td>\n",
       "      <td>31.0</td>\n",
       "      <td>17.0</td>\n",
       "      <td>3405</td>\n",
       "      <td>1</td>\n",
       "      <td>0</td>\n",
       "      <td>0</td>\n",
       "      <td>1</td>\n",
       "      <td>0</td>\n",
       "      <td>0</td>\n",
       "      <td>0</td>\n",
       "      <td>1</td>\n",
       "      <td>0</td>\n",
       "      <td>0</td>\n",
       "      <td>0</td>\n",
       "      <td>1</td>\n",
       "      <td>0</td>\n",
       "      <td>0</td>\n",
       "      <td>0</td>\n",
       "      <td>0</td>\n",
       "      <td>1</td>\n",
       "      <td>0</td>\n",
       "      <td>0</td>\n",
       "      <td>0</td>\n",
       "      <td>0</td>\n",
       "      <td>0</td>\n",
       "      <td>1</td>\n",
       "      <td>0</td>\n",
       "      <td>0</td>\n",
       "    </tr>\n",
       "    <tr>\n",
       "      <th>5</th>\n",
       "      <td>1.0</td>\n",
       "      <td>22</td>\n",
       "      <td>30</td>\n",
       "      <td>3.5</td>\n",
       "      <td>208</td>\n",
       "      <td>5700</td>\n",
       "      <td>2545</td>\n",
       "      <td>0</td>\n",
       "      <td>21.1</td>\n",
       "      <td>186</td>\n",
       "      <td>109</td>\n",
       "      <td>69</td>\n",
       "      <td>39</td>\n",
       "      <td>27.0</td>\n",
       "      <td>13.0</td>\n",
       "      <td>3640</td>\n",
       "      <td>1</td>\n",
       "      <td>0</td>\n",
       "      <td>0</td>\n",
       "      <td>1</td>\n",
       "      <td>0</td>\n",
       "      <td>0</td>\n",
       "      <td>0</td>\n",
       "      <td>0</td>\n",
       "      <td>1</td>\n",
       "      <td>0</td>\n",
       "      <td>0</td>\n",
       "      <td>0</td>\n",
       "      <td>1</td>\n",
       "      <td>0</td>\n",
       "      <td>1</td>\n",
       "      <td>0</td>\n",
       "      <td>0</td>\n",
       "      <td>0</td>\n",
       "      <td>0</td>\n",
       "      <td>0</td>\n",
       "      <td>1</td>\n",
       "      <td>0</td>\n",
       "      <td>0</td>\n",
       "      <td>0</td>\n",
       "      <td>0</td>\n",
       "    </tr>\n",
       "  </tbody>\n",
       "</table>\n",
       "</div>"
      ],
      "text/plain": [
       "   const  MPG.city  MPG.highway  EngineSize  Horsepower   RPM  ...  2  4  5  6  7  8\n",
       "1    1.0        25           31         1.8         140  6300  ...  0  0  1  0  0  0\n",
       "2    1.0        18           25         3.2         200  5500  ...  0  0  1  0  0  0\n",
       "3    1.0        20           26         2.8         172  5500  ...  0  0  1  0  0  0\n",
       "4    1.0        19           26         2.8         172  5500  ...  0  0  0  1  0  0\n",
       "5    1.0        22           30         3.5         208  5700  ...  0  1  0  0  0  0\n",
       "\n",
       "[5 rows x 41 columns]"
      ]
     },
     "execution_count": 26,
     "metadata": {
      "tags": []
     },
     "output_type": "execute_result"
    }
   ],
   "source": [
    "Xc.head()"
   ]
  },
  {
   "cell_type": "code",
   "execution_count": null,
   "metadata": {
    "colab": {
     "base_uri": "https://localhost:8080/",
     "height": 34
    },
    "colab_type": "code",
    "executionInfo": {
     "elapsed": 1316,
     "status": "ok",
     "timestamp": 1591698111006,
     "user": {
      "displayName": "Mahesh Anand",
      "photoUrl": "https://lh3.googleusercontent.com/a-/AOh14GiAxRvO4nLPhI4SJLaIoUVmhr8lm1tddyCLyKOj=s64",
      "userId": "06788086636039591358"
     },
     "user_tz": -330
    },
    "id": "_zJ0kPdfm8Rl",
    "outputId": "e5b05f1e-762b-4597-f46b-1f4ece66815f"
   },
   "outputs": [
    {
     "name": "stdout",
     "output_type": "stream",
     "text": [
      "['Horsepower', 'Wheelbase', 'Width', 'Midsize', 'Driver & Passenger', 'Driver only', 'Rear']\n"
     ]
    }
   ],
   "source": [
    "#Feature Selection by Recursive Backward Elimination\n",
    "cols = list(X.columns)\n",
    "pmax = 1\n",
    "while (len(cols)>0):\n",
    "    p= []\n",
    "    X = X[cols]\n",
    "    Xc = sm.add_constant(X)\n",
    "    model = sm.OLS(Y,Xc).fit()\n",
    "    p = pd.Series(model.pvalues.values[1:],index = cols)      \n",
    "    pmax = max(p)\n",
    "    feature_with_p_max = p.idxmax()\n",
    "    if(pmax>0.05):\n",
    "        cols.remove(feature_with_p_max)\n",
    "    else:\n",
    "        break\n",
    "selected_features = cols\n",
    "print(selected_features)\n"
   ]
  },
  {
   "cell_type": "code",
   "execution_count": null,
   "metadata": {
    "colab": {
     "base_uri": "https://localhost:8080/",
     "height": 203
    },
    "colab_type": "code",
    "executionInfo": {
     "elapsed": 890,
     "status": "ok",
     "timestamp": 1591698119650,
     "user": {
      "displayName": "Mahesh Anand",
      "photoUrl": "https://lh3.googleusercontent.com/a-/AOh14GiAxRvO4nLPhI4SJLaIoUVmhr8lm1tddyCLyKOj=s64",
      "userId": "06788086636039591358"
     },
     "user_tz": -330
    },
    "id": "bx94NkvZcuPN",
    "outputId": "88533d32-5fef-4de5-9af3-d8b8df8f7ff2"
   },
   "outputs": [
    {
     "data": {
      "text/html": [
       "<div>\n",
       "<style scoped>\n",
       "    .dataframe tbody tr th:only-of-type {\n",
       "        vertical-align: middle;\n",
       "    }\n",
       "\n",
       "    .dataframe tbody tr th {\n",
       "        vertical-align: top;\n",
       "    }\n",
       "\n",
       "    .dataframe thead th {\n",
       "        text-align: right;\n",
       "    }\n",
       "</style>\n",
       "<table border=\"1\" class=\"dataframe\">\n",
       "  <thead>\n",
       "    <tr style=\"text-align: right;\">\n",
       "      <th></th>\n",
       "      <th>Horsepower</th>\n",
       "      <th>Wheelbase</th>\n",
       "      <th>Width</th>\n",
       "      <th>Midsize</th>\n",
       "      <th>Driver &amp; Passenger</th>\n",
       "      <th>Driver only</th>\n",
       "      <th>Rear</th>\n",
       "    </tr>\n",
       "  </thead>\n",
       "  <tbody>\n",
       "    <tr>\n",
       "      <th>1</th>\n",
       "      <td>140</td>\n",
       "      <td>102</td>\n",
       "      <td>68</td>\n",
       "      <td>0</td>\n",
       "      <td>0</td>\n",
       "      <td>0</td>\n",
       "      <td>0</td>\n",
       "    </tr>\n",
       "    <tr>\n",
       "      <th>2</th>\n",
       "      <td>200</td>\n",
       "      <td>115</td>\n",
       "      <td>71</td>\n",
       "      <td>1</td>\n",
       "      <td>1</td>\n",
       "      <td>0</td>\n",
       "      <td>0</td>\n",
       "    </tr>\n",
       "    <tr>\n",
       "      <th>3</th>\n",
       "      <td>172</td>\n",
       "      <td>102</td>\n",
       "      <td>67</td>\n",
       "      <td>0</td>\n",
       "      <td>0</td>\n",
       "      <td>1</td>\n",
       "      <td>0</td>\n",
       "    </tr>\n",
       "    <tr>\n",
       "      <th>4</th>\n",
       "      <td>172</td>\n",
       "      <td>106</td>\n",
       "      <td>70</td>\n",
       "      <td>1</td>\n",
       "      <td>1</td>\n",
       "      <td>0</td>\n",
       "      <td>0</td>\n",
       "    </tr>\n",
       "    <tr>\n",
       "      <th>5</th>\n",
       "      <td>208</td>\n",
       "      <td>109</td>\n",
       "      <td>69</td>\n",
       "      <td>1</td>\n",
       "      <td>0</td>\n",
       "      <td>1</td>\n",
       "      <td>1</td>\n",
       "    </tr>\n",
       "  </tbody>\n",
       "</table>\n",
       "</div>"
      ],
      "text/plain": [
       "   Horsepower  Wheelbase  Width  Midsize  Driver & Passenger  Driver only  Rear\n",
       "1         140        102     68        0                   0            0     0\n",
       "2         200        115     71        1                   1            0     0\n",
       "3         172        102     67        0                   0            1     0\n",
       "4         172        106     70        1                   1            0     0\n",
       "5         208        109     69        1                   0            1     1"
      ]
     },
     "execution_count": 33,
     "metadata": {
      "tags": []
     },
     "output_type": "execute_result"
    }
   ],
   "source": [
    "X_new=X[selected_features]\n",
    "X_new.head()"
   ]
  },
  {
   "cell_type": "code",
   "execution_count": null,
   "metadata": {
    "colab": {},
    "colab_type": "code",
    "id": "Su8Ta6XRn2M-"
   },
   "outputs": [],
   "source": [
    "X_new_c=sm.add_constant(X_new)"
   ]
  },
  {
   "cell_type": "code",
   "execution_count": null,
   "metadata": {
    "colab": {},
    "colab_type": "code",
    "id": "Oce_pmf_n_kX"
   },
   "outputs": [],
   "source": [
    "model2=sm.OLS(Y,X_new_c).fit()"
   ]
  },
  {
   "cell_type": "code",
   "execution_count": null,
   "metadata": {
    "colab": {
     "base_uri": "https://localhost:8080/",
     "height": 582
    },
    "colab_type": "code",
    "executionInfo": {
     "elapsed": 1166,
     "status": "ok",
     "timestamp": 1591163924555,
     "user": {
      "displayName": "Mahesh Anand",
      "photoUrl": "https://lh3.googleusercontent.com/a-/AOh14GiAxRvO4nLPhI4SJLaIoUVmhr8lm1tddyCLyKOj=s64",
      "userId": "06788086636039591358"
     },
     "user_tz": -330
    },
    "id": "0n0LjPdJoDNn",
    "outputId": "cc6228e0-a253-43c9-a2f7-562b138be8bf"
   },
   "outputs": [
    {
     "data": {
      "text/html": [
       "<table class=\"simpletable\">\n",
       "<caption>OLS Regression Results</caption>\n",
       "<tr>\n",
       "  <th>Dep. Variable:</th>          <td>Price</td>      <th>  R-squared:         </th> <td>   0.782</td>\n",
       "</tr>\n",
       "<tr>\n",
       "  <th>Model:</th>                   <td>OLS</td>       <th>  Adj. R-squared:    </th> <td>   0.765</td>\n",
       "</tr>\n",
       "<tr>\n",
       "  <th>Method:</th>             <td>Least Squares</td>  <th>  F-statistic:       </th> <td>   43.67</td>\n",
       "</tr>\n",
       "<tr>\n",
       "  <th>Date:</th>             <td>Wed, 03 Jun 2020</td> <th>  Prob (F-statistic):</th> <td>1.52e-25</td>\n",
       "</tr>\n",
       "<tr>\n",
       "  <th>Time:</th>                 <td>05:58:43</td>     <th>  Log-Likelihood:    </th> <td> -271.45</td>\n",
       "</tr>\n",
       "<tr>\n",
       "  <th>No. Observations:</th>      <td>    93</td>      <th>  AIC:               </th> <td>   558.9</td>\n",
       "</tr>\n",
       "<tr>\n",
       "  <th>Df Residuals:</th>          <td>    85</td>      <th>  BIC:               </th> <td>   579.2</td>\n",
       "</tr>\n",
       "<tr>\n",
       "  <th>Df Model:</th>              <td>     7</td>      <th>                     </th>     <td> </td>   \n",
       "</tr>\n",
       "<tr>\n",
       "  <th>Covariance Type:</th>      <td>nonrobust</td>    <th>                     </th>     <td> </td>   \n",
       "</tr>\n",
       "</table>\n",
       "<table class=\"simpletable\">\n",
       "<tr>\n",
       "           <td></td>             <th>coef</th>     <th>std err</th>      <th>t</th>      <th>P>|t|</th>  <th>[0.025</th>    <th>0.975]</th>  \n",
       "</tr>\n",
       "<tr>\n",
       "  <th>const</th>              <td>   25.0843</td> <td>   10.986</td> <td>    2.283</td> <td> 0.025</td> <td>    3.240</td> <td>   46.928</td>\n",
       "</tr>\n",
       "<tr>\n",
       "  <th>Horsepower</th>         <td>    0.1287</td> <td>    0.014</td> <td>    9.517</td> <td> 0.000</td> <td>    0.102</td> <td>    0.156</td>\n",
       "</tr>\n",
       "<tr>\n",
       "  <th>Wheelbase</th>          <td>    0.5698</td> <td>    0.127</td> <td>    4.483</td> <td> 0.000</td> <td>    0.317</td> <td>    0.822</td>\n",
       "</tr>\n",
       "<tr>\n",
       "  <th>Width</th>              <td>   -1.2536</td> <td>    0.260</td> <td>   -4.818</td> <td> 0.000</td> <td>   -1.771</td> <td>   -0.736</td>\n",
       "</tr>\n",
       "<tr>\n",
       "  <th>Midsize</th>            <td>    3.1715</td> <td>    1.256</td> <td>    2.524</td> <td> 0.013</td> <td>    0.674</td> <td>    5.670</td>\n",
       "</tr>\n",
       "<tr>\n",
       "  <th>Driver & Passenger</th> <td>    5.2735</td> <td>    1.645</td> <td>    3.206</td> <td> 0.002</td> <td>    2.003</td> <td>    8.544</td>\n",
       "</tr>\n",
       "<tr>\n",
       "  <th>Driver only</th>        <td>    2.5852</td> <td>    1.168</td> <td>    2.214</td> <td> 0.030</td> <td>    0.263</td> <td>    4.907</td>\n",
       "</tr>\n",
       "<tr>\n",
       "  <th>Rear</th>               <td>    4.6918</td> <td>    1.445</td> <td>    3.246</td> <td> 0.002</td> <td>    1.818</td> <td>    7.565</td>\n",
       "</tr>\n",
       "</table>\n",
       "<table class=\"simpletable\">\n",
       "<tr>\n",
       "  <th>Omnibus:</th>       <td>23.269</td> <th>  Durbin-Watson:     </th> <td>   1.934</td>\n",
       "</tr>\n",
       "<tr>\n",
       "  <th>Prob(Omnibus):</th> <td> 0.000</td> <th>  Jarque-Bera (JB):  </th> <td>  48.440</td>\n",
       "</tr>\n",
       "<tr>\n",
       "  <th>Skew:</th>          <td> 0.919</td> <th>  Prob(JB):          </th> <td>3.03e-11</td>\n",
       "</tr>\n",
       "<tr>\n",
       "  <th>Kurtosis:</th>      <td> 6.021</td> <th>  Cond. No.          </th> <td>4.42e+03</td>\n",
       "</tr>\n",
       "</table><br/><br/>Warnings:<br/>[1] Standard Errors assume that the covariance matrix of the errors is correctly specified.<br/>[2] The condition number is large, 4.42e+03. This might indicate that there are<br/>strong multicollinearity or other numerical problems."
      ],
      "text/plain": [
       "<class 'statsmodels.iolib.summary.Summary'>\n",
       "\"\"\"\n",
       "                            OLS Regression Results                            \n",
       "==============================================================================\n",
       "Dep. Variable:                  Price   R-squared:                       0.782\n",
       "Model:                            OLS   Adj. R-squared:                  0.765\n",
       "Method:                 Least Squares   F-statistic:                     43.67\n",
       "Date:                Wed, 03 Jun 2020   Prob (F-statistic):           1.52e-25\n",
       "Time:                        05:58:43   Log-Likelihood:                -271.45\n",
       "No. Observations:                  93   AIC:                             558.9\n",
       "Df Residuals:                      85   BIC:                             579.2\n",
       "Df Model:                           7                                         \n",
       "Covariance Type:            nonrobust                                         \n",
       "======================================================================================\n",
       "                         coef    std err          t      P>|t|      [0.025      0.975]\n",
       "--------------------------------------------------------------------------------------\n",
       "const                 25.0843     10.986      2.283      0.025       3.240      46.928\n",
       "Horsepower             0.1287      0.014      9.517      0.000       0.102       0.156\n",
       "Wheelbase              0.5698      0.127      4.483      0.000       0.317       0.822\n",
       "Width                 -1.2536      0.260     -4.818      0.000      -1.771      -0.736\n",
       "Midsize                3.1715      1.256      2.524      0.013       0.674       5.670\n",
       "Driver & Passenger     5.2735      1.645      3.206      0.002       2.003       8.544\n",
       "Driver only            2.5852      1.168      2.214      0.030       0.263       4.907\n",
       "Rear                   4.6918      1.445      3.246      0.002       1.818       7.565\n",
       "==============================================================================\n",
       "Omnibus:                       23.269   Durbin-Watson:                   1.934\n",
       "Prob(Omnibus):                  0.000   Jarque-Bera (JB):               48.440\n",
       "Skew:                           0.919   Prob(JB):                     3.03e-11\n",
       "Kurtosis:                       6.021   Cond. No.                     4.42e+03\n",
       "==============================================================================\n",
       "\n",
       "Warnings:\n",
       "[1] Standard Errors assume that the covariance matrix of the errors is correctly specified.\n",
       "[2] The condition number is large, 4.42e+03. This might indicate that there are\n",
       "strong multicollinearity or other numerical problems.\n",
       "\"\"\""
      ]
     },
     "execution_count": 16,
     "metadata": {
      "tags": []
     },
     "output_type": "execute_result"
    }
   ],
   "source": [
    "model2.summary()"
   ]
  },
  {
   "cell_type": "code",
   "execution_count": null,
   "metadata": {
    "colab": {},
    "colab_type": "code",
    "id": "YIeQuy8OQtSd"
   },
   "outputs": [],
   "source": [
    "from sklearn.linear_model import LinearRegression\n",
    "from sklearn.neighbors import KNeighborsRegressor\n",
    "from sklearn.ensemble import BaggingRegressor,AdaBoostRegressor,GradientBoostingRegressor,RandomForestRegressor,VotingRegressor\n",
    "from sklearn.model_selection import cross_val_score,GridSearchCV\n"
   ]
  },
  {
   "cell_type": "code",
   "execution_count": null,
   "metadata": {
    "colab": {},
    "colab_type": "code",
    "id": "mmtlK0yDftJt"
   },
   "outputs": [],
   "source": [
    "GB_bias=[]\n",
    "GB_ve=[]\n",
    "for n in np.arange(1,100):\n",
    "  GB=GradientBoostingRegressor(n_estimators=n,random_state=0)\n",
    "  scores=cross_val_score(GB,X_new,Y,cv=3,scoring='neg_mean_squared_error')\n",
    "  rmse=np.sqrt(np.abs(scores))\n",
    "  GB_bias.append(np.mean(rmse))\n",
    "  GB_ve.append((np.std(rmse,ddof=1)))\n"
   ]
  },
  {
   "cell_type": "code",
   "execution_count": null,
   "metadata": {
    "colab": {
     "base_uri": "https://localhost:8080/",
     "height": 285
    },
    "colab_type": "code",
    "executionInfo": {
     "elapsed": 1009,
     "status": "ok",
     "timestamp": 1591698621527,
     "user": {
      "displayName": "Mahesh Anand",
      "photoUrl": "https://lh3.googleusercontent.com/a-/AOh14GiAxRvO4nLPhI4SJLaIoUVmhr8lm1tddyCLyKOj=s64",
      "userId": "06788086636039591358"
     },
     "user_tz": -330
    },
    "id": "uEoTnGNVsqOx",
    "outputId": "3b418723-bcd4-47d3-c64d-e6a60a6d7682"
   },
   "outputs": [
    {
     "data": {
      "text/plain": [
       "[<matplotlib.lines.Line2D at 0x7f686977efd0>]"
      ]
     },
     "execution_count": 36,
     "metadata": {
      "tags": []
     },
     "output_type": "execute_result"
    },
    {
     "data": {
      "image/png": "[encoded data removed]",
      "text/plain": [
       "<Figure size 432x288 with 1 Axes>"
      ]
     },
     "metadata": {
      "needs_background": "light",
      "tags": []
     },
     "output_type": "display_data"
    }
   ],
   "source": [
    "x_axis=np.arange(len(GB_bias))\n",
    "plt.plot(x_axis,GB_bias)"
   ]
  },
  {
   "cell_type": "code",
   "execution_count": null,
   "metadata": {
    "colab": {
     "base_uri": "https://localhost:8080/",
     "height": 34
    },
    "colab_type": "code",
    "executionInfo": {
     "elapsed": 997,
     "status": "ok",
     "timestamp": 1591062538189,
     "user": {
      "displayName": "Mahesh Anand",
      "photoUrl": "https://lh3.googleusercontent.com/a-/AOh14GiAxRvO4nLPhI4SJLaIoUVmhr8lm1tddyCLyKOj=s64",
      "userId": "06788086636039591358"
     },
     "user_tz": -330
    },
    "id": "zuAXDszas_WG",
    "outputId": "e9e75aa5-2463-422d-f811-d75169eaae08"
   },
   "outputs": [
    {
     "data": {
      "text/plain": [
       "34"
      ]
     },
     "execution_count": 70,
     "metadata": {
      "tags": []
     },
     "output_type": "execute_result"
    }
   ],
   "source": [
    "np.argmin(GB_bias)"
   ]
  },
  {
   "cell_type": "code",
   "execution_count": null,
   "metadata": {
    "colab": {},
    "colab_type": "code",
    "id": "h46pqOd3uA8L"
   },
   "outputs": [],
   "source": [
    "AB_bias=[]\n",
    "for n in np.arange(1,150):\n",
    "  AB=AdaBoostRegressor(n_estimators=n,random_state=0)\n",
    "  scores=cross_val_score(AB,X_new,Y,cv=3,scoring='neg_mean_squared_error')\n",
    "  rmse=np.sqrt(np.abs(scores))\n",
    "  AB_bias.append(np.mean(rmse))\n"
   ]
  },
  {
   "cell_type": "code",
   "execution_count": null,
   "metadata": {
    "colab": {},
    "colab_type": "code",
    "id": "7T4CdJrkr1rT"
   },
   "outputs": [],
   "source": [
    "LR=LinearRegression()"
   ]
  },
  {
   "cell_type": "code",
   "execution_count": null,
   "metadata": {
    "colab": {},
    "colab_type": "code",
    "id": "qbltQPgKrnXs"
   },
   "outputs": [],
   "source": [
    "ABLR_bias=[]\n",
    "for n in np.arange(1,150):\n",
    "  ABLR=AdaBoostRegressor(base_estimator=LR,n_estimators=n,random_state=0)\n",
    "  scores=cross_val_score(ABLR,X_new,Y,cv=3,scoring='neg_mean_squared_error')\n",
    "  rmse=np.sqrt(np.abs(scores))\n",
    "  ABLR_bias.append(np.mean(rmse))\n"
   ]
  },
  {
   "cell_type": "code",
   "execution_count": null,
   "metadata": {
    "colab": {
     "base_uri": "https://localhost:8080/",
     "height": 282
    },
    "colab_type": "code",
    "executionInfo": {
     "elapsed": 932,
     "status": "ok",
     "timestamp": 1591699585134,
     "user": {
      "displayName": "Mahesh Anand",
      "photoUrl": "https://lh3.googleusercontent.com/a-/AOh14GiAxRvO4nLPhI4SJLaIoUVmhr8lm1tddyCLyKOj=s64",
      "userId": "06788086636039591358"
     },
     "user_tz": -330
    },
    "id": "q9bKllXkuK6M",
    "outputId": "5b69cb1f-113c-490f-d196-c479e5c56641"
   },
   "outputs": [
    {
     "data": {
      "text/plain": [
       "[<matplotlib.lines.Line2D at 0x7f686916b940>]"
      ]
     },
     "execution_count": 44,
     "metadata": {
      "tags": []
     },
     "output_type": "execute_result"
    },
    {
     "data": {
      "image/png": "[encoded data removed]",
      "text/plain": [
       "<Figure size 432x288 with 1 Axes>"
      ]
     },
     "metadata": {
      "needs_background": "light",
      "tags": []
     },
     "output_type": "display_data"
    }
   ],
   "source": [
    "x_axis=np.arange(len(ABLR_bias))\n",
    "plt.plot(x_axis,ABLR_bias)"
   ]
  },
  {
   "cell_type": "code",
   "execution_count": null,
   "metadata": {
    "colab": {
     "base_uri": "https://localhost:8080/",
     "height": 34
    },
    "colab_type": "code",
    "executionInfo": {
     "elapsed": 1032,
     "status": "ok",
     "timestamp": 1591699643974,
     "user": {
      "displayName": "Mahesh Anand",
      "photoUrl": "https://lh3.googleusercontent.com/a-/AOh14GiAxRvO4nLPhI4SJLaIoUVmhr8lm1tddyCLyKOj=s64",
      "userId": "06788086636039591358"
     },
     "user_tz": -330
    },
    "id": "REqGElX6uVHG",
    "outputId": "df0e5da9-4ed8-42a0-bafe-8fcdfe25ee1a"
   },
   "outputs": [
    {
     "data": {
      "text/plain": [
       "(1, 4.971462549668522)"
      ]
     },
     "execution_count": 46,
     "metadata": {
      "tags": []
     },
     "output_type": "execute_result"
    }
   ],
   "source": [
    "np.argmin(ABLR_bias), ABLR_bias[1]"
   ]
  },
  {
   "cell_type": "code",
   "execution_count": null,
   "metadata": {
    "colab": {},
    "colab_type": "code",
    "id": "NbCz8055urL0"
   },
   "outputs": [],
   "source": [
    "Bag_bias=[]\n",
    "Bag_var=[]\n",
    "for n in np.arange(1,100):\n",
    "  Bag=BaggingRegressor(base_estimator=LR,n_estimators=n,random_state=0)\n",
    "  scores=cross_val_score(Bag,X_new,Y,cv=3,scoring='neg_mean_squared_error')\n",
    "  rmse=np.sqrt(np.abs(scores))\n",
    "  Bag_bias.append(np.mean(rmse))\n",
    "  Bag_var.append(np.std(rmse,ddof=1))\n"
   ]
  },
  {
   "cell_type": "code",
   "execution_count": null,
   "metadata": {
    "colab": {
     "base_uri": "https://localhost:8080/",
     "height": 34
    },
    "colab_type": "code",
    "executionInfo": {
     "elapsed": 899,
     "status": "ok",
     "timestamp": 1591699928748,
     "user": {
      "displayName": "Mahesh Anand",
      "photoUrl": "https://lh3.googleusercontent.com/a-/AOh14GiAxRvO4nLPhI4SJLaIoUVmhr8lm1tddyCLyKOj=s64",
      "userId": "06788086636039591358"
     },
     "user_tz": -330
    },
    "id": "GCuY3MWsu-mi",
    "outputId": "86f2dfbe-f86b-4f73-eea7-6d56da444729"
   },
   "outputs": [
    {
     "data": {
      "text/plain": [
       "(1.1105623537387594, 65, 5.083412445820228)"
      ]
     },
     "execution_count": 51,
     "metadata": {
      "tags": []
     },
     "output_type": "execute_result"
    }
   ],
   "source": [
    "np.min(Bag_var),np.argmin(Bag_var),Bag_bias[65]"
   ]
  },
  {
   "cell_type": "code",
   "execution_count": null,
   "metadata": {
    "colab": {
     "base_uri": "https://localhost:8080/",
     "height": 34
    },
    "colab_type": "code",
    "executionInfo": {
     "elapsed": 885,
     "status": "ok",
     "timestamp": 1591699955774,
     "user": {
      "displayName": "Mahesh Anand",
      "photoUrl": "https://lh3.googleusercontent.com/a-/AOh14GiAxRvO4nLPhI4SJLaIoUVmhr8lm1tddyCLyKOj=s64",
      "userId": "06788086636039591358"
     },
     "user_tz": -330
    },
    "id": "kLDtZBt4wCsw",
    "outputId": "b2a6c990-7d61-41c5-cbc5-4c5895f7e5e2"
   },
   "outputs": [
    {
     "data": {
      "text/plain": [
       "(5.074089662178369, 58, 1.140983721505519)"
      ]
     },
     "execution_count": 52,
     "metadata": {
      "tags": []
     },
     "output_type": "execute_result"
    }
   ],
   "source": [
    "np.min(Bag_bias),np.argmin(Bag_bias),Bag_var[58]"
   ]
  },
  {
   "cell_type": "code",
   "execution_count": null,
   "metadata": {
    "colab": {
     "base_uri": "https://localhost:8080/",
     "height": 34
    },
    "colab_type": "code",
    "executionInfo": {
     "elapsed": 915,
     "status": "ok",
     "timestamp": 1591700031121,
     "user": {
      "displayName": "Mahesh Anand",
      "photoUrl": "https://lh3.googleusercontent.com/a-/AOh14GiAxRvO4nLPhI4SJLaIoUVmhr8lm1tddyCLyKOj=s64",
      "userId": "06788086636039591358"
     },
     "user_tz": -330
    },
    "id": "X9kPIZxptrc9",
    "outputId": "01d58bbf-5e5e-4fcc-c62a-c1aa15551de8"
   },
   "outputs": [
    {
     "data": {
      "text/plain": [
       "0.001968503937007832"
      ]
     },
     "execution_count": 53,
     "metadata": {
      "tags": []
     },
     "output_type": "execute_result"
    }
   ],
   "source": [
    "(5.08-5.07)/5.08"
   ]
  },
  {
   "cell_type": "code",
   "execution_count": null,
   "metadata": {
    "colab": {
     "base_uri": "https://localhost:8080/",
     "height": 34
    },
    "colab_type": "code",
    "executionInfo": {
     "elapsed": 1182,
     "status": "ok",
     "timestamp": 1591700066958,
     "user": {
      "displayName": "Mahesh Anand",
      "photoUrl": "https://lh3.googleusercontent.com/a-/AOh14GiAxRvO4nLPhI4SJLaIoUVmhr8lm1tddyCLyKOj=s64",
      "userId": "06788086636039591358"
     },
     "user_tz": -330
    },
    "id": "a6JA7RHPt1WE",
    "outputId": "6fdb7190-3eb8-43d7-96a1-0213d7b6caa5"
   },
   "outputs": [
    {
     "data": {
      "text/plain": [
       "0.026315789473684043"
      ]
     },
     "execution_count": 54,
     "metadata": {
      "tags": []
     },
     "output_type": "execute_result"
    }
   ],
   "source": [
    "(1.14-1.11)/1.14"
   ]
  },
  {
   "cell_type": "code",
   "execution_count": null,
   "metadata": {
    "colab": {},
    "colab_type": "code",
    "id": "6O1kEhOkvEKT"
   },
   "outputs": [],
   "source": [
    "RF_bias=[]\n",
    "RF_var=[]\n",
    "for n in np.arange(1,100):\n",
    "  RF=RandomForestRegressor(criterion='mse',n_estimators=n,random_state=0)\n",
    "  scores=cross_val_score(RF,X_new,Y,cv=3,scoring='neg_mean_squared_error')\n",
    "  rmse=np.sqrt(np.abs(scores))\n",
    "  RF_bias.append(np.mean(rmse))\n",
    "  RF_var.append(np.std(rmse,ddof=1))\n"
   ]
  },
  {
   "cell_type": "code",
   "execution_count": null,
   "metadata": {
    "colab": {
     "base_uri": "https://localhost:8080/",
     "height": 34
    },
    "colab_type": "code",
    "executionInfo": {
     "elapsed": 1147,
     "status": "ok",
     "timestamp": 1591700528480,
     "user": {
      "displayName": "Mahesh Anand",
      "photoUrl": "https://lh3.googleusercontent.com/a-/AOh14GiAxRvO4nLPhI4SJLaIoUVmhr8lm1tddyCLyKOj=s64",
      "userId": "06788086636039591358"
     },
     "user_tz": -330
    },
    "id": "L1REsTxzy7nl",
    "outputId": "79090d6c-1dff-4eb5-aafe-c75c0a289189"
   },
   "outputs": [
    {
     "data": {
      "text/plain": [
       "(28, 6.382761196205711, 1.716628041424876)"
      ]
     },
     "execution_count": 57,
     "metadata": {
      "tags": []
     },
     "output_type": "execute_result"
    }
   ],
   "source": [
    "np.argmin(RF_bias),np.min(RF_bias),RF_var[28]"
   ]
  },
  {
   "cell_type": "code",
   "execution_count": null,
   "metadata": {
    "colab": {
     "base_uri": "https://localhost:8080/",
     "height": 34
    },
    "colab_type": "code",
    "executionInfo": {
     "elapsed": 928,
     "status": "ok",
     "timestamp": 1591700623899,
     "user": {
      "displayName": "Mahesh Anand",
      "photoUrl": "https://lh3.googleusercontent.com/a-/AOh14GiAxRvO4nLPhI4SJLaIoUVmhr8lm1tddyCLyKOj=s64",
      "userId": "06788086636039591358"
     },
     "user_tz": -330
    },
    "id": "7h8VhI8QvuK3",
    "outputId": "a003a03c-1359-4350-ea8e-4dd216932feb"
   },
   "outputs": [
    {
     "data": {
      "text/plain": [
       "(0, 0.5486360109794219, 7.8744161133274675)"
      ]
     },
     "execution_count": 59,
     "metadata": {
      "tags": []
     },
     "output_type": "execute_result"
    }
   ],
   "source": [
    "np.argmin(RF_var),np.min(RF_var), RF_bias[0]"
   ]
  },
  {
   "cell_type": "code",
   "execution_count": null,
   "metadata": {
    "colab": {},
    "colab_type": "code",
    "id": "vUWwlMjleBpq"
   },
   "outputs": [],
   "source": [
    "LR=LinearRegression()\n",
    "LR_bag=BaggingRegressor(base_estimator=LR,n_estimators=59,random_state=0)\n",
    "LR_AB=AdaBoostRegressor(base_estimator=LR,n_estimators=2,random_state=0)\n",
    "DT_AB=AdaBoostRegressor(n_estimators=26,random_state=0)\n",
    "LR_GB=GradientBoostingRegressor(n_estimators=35,random_state=0)\n",
    "RF=RandomForestRegressor(criterion='mse',n_estimators=29,random_state=0)\n",
    "stacked = VotingRegressor(estimators = [('Bagged_LR',LR_bag),('LR', LR), ('LR_Boost', LR_AB)])\n"
   ]
  },
  {
   "cell_type": "code",
   "execution_count": null,
   "metadata": {
    "colab": {},
    "colab_type": "code",
    "id": "MsOXxC8rQr1w"
   },
   "outputs": [],
   "source": [
    "models = []\n",
    "models.append(('LinearRegression', LR))\n",
    "models.append(('BaggedLR',LR_bag))\n",
    "models.append(('Adaboost',LR_AB))\n",
    "models.append(('DT_boost',DT_AB))\n",
    "models.append(('GBoost',LR_GB))\n",
    "models.append(('RF',RF))\n",
    "models.append(('Stacked',stacked))\n",
    "\n"
   ]
  },
  {
   "cell_type": "code",
   "execution_count": null,
   "metadata": {
    "colab": {
     "base_uri": "https://localhost:8080/",
     "height": 415
    },
    "colab_type": "code",
    "executionInfo": {
     "elapsed": 1884,
     "status": "ok",
     "timestamp": 1591701987539,
     "user": {
      "displayName": "Mahesh Anand",
      "photoUrl": "https://lh3.googleusercontent.com/a-/AOh14GiAxRvO4nLPhI4SJLaIoUVmhr8lm1tddyCLyKOj=s64",
      "userId": "06788086636039591358"
     },
     "user_tz": -330
    },
    "id": "AIjRN_8gQkEF",
    "outputId": "a865e3ed-d22d-4e37-e989-634586c79020"
   },
   "outputs": [
    {
     "name": "stdout",
     "output_type": "stream",
     "text": [
      "LinearRegression: 5.218925 (0.873524)\n",
      "BaggedLR: 5.200945 (0.892034)\n",
      "Adaboost: 5.746590 (0.559691)\n",
      "DT_boost: 6.453378 (1.735080)\n",
      "GBoost: 5.962980 (1.359669)\n",
      "RF: 5.932495 (1.834143)\n",
      "Stacked: 5.297472 (0.769845)\n"
     ]
    },
    {
     "data": {
      "image/png": "[encoded data removed]",
      "text/plain": [
       "<Figure size 432x288 with 1 Axes>"
      ]
     },
     "metadata": {
      "needs_background": "light",
      "tags": []
     },
     "output_type": "display_data"
    }
   ],
   "source": [
    "# evaluate each model in turn\n",
    "results = []\n",
    "names = []\n",
    "for name, model in models:\n",
    "\tkfold = model_selection.KFold(shuffle=True,n_splits=3,random_state=0)\n",
    "\tcv_results = model_selection.cross_val_score(model, X_new, Y,cv=kfold, scoring='neg_mean_squared_error')\n",
    "\tresults.append(np.sqrt(np.abs(cv_results)))\n",
    "\tnames.append(name)\n",
    "\tprint(\"%s: %f (%f)\" % (name, np.mean(np.sqrt(np.abs(cv_results))),np.std(np.sqrt(np.abs(cv_results)),ddof=1)))\n",
    "   # boxplot algorithm comparison\n",
    "fig = plt.figure()\n",
    "fig.suptitle('Algorithm Comparison')\n",
    "ax = fig.add_subplot(111)\n",
    "plt.boxplot(results)\n",
    "ax.set_xticklabels(names)\n",
    "plt.show()"
   ]
  },
  {
   "cell_type": "code",
   "execution_count": null,
   "metadata": {
    "colab": {
     "base_uri": "https://localhost:8080/",
     "height": 34
    },
    "colab_type": "code",
    "executionInfo": {
     "elapsed": 2068,
     "status": "ok",
     "timestamp": 1593502046885,
     "user": {
      "displayName": "Mahesh Anand",
      "photoUrl": "https://lh3.googleusercontent.com/a-/AOh14GiAxRvO4nLPhI4SJLaIoUVmhr8lm1tddyCLyKOj=s64",
      "userId": "06788086636039591358"
     },
     "user_tz": -330
    },
    "id": "3cvuRa8MGaVg",
    "outputId": "722ed639-3ed5-4735-dba5-37354a5ec7e2"
   },
   "outputs": [
    {
     "data": {
      "text/plain": [
       "0.014827261002984133"
      ]
     },
     "execution_count": 9,
     "metadata": {
      "tags": []
     },
     "output_type": "execute_result"
    }
   ],
   "source": [
    "(5.297472-5.218925)/5.297472"
   ]
  },
  {
   "cell_type": "code",
   "execution_count": null,
   "metadata": {
    "colab": {
     "base_uri": "https://localhost:8080/",
     "height": 34
    },
    "colab_type": "code",
    "executionInfo": {
     "elapsed": 897,
     "status": "ok",
     "timestamp": 1593502084280,
     "user": {
      "displayName": "Mahesh Anand",
      "photoUrl": "https://lh3.googleusercontent.com/a-/AOh14GiAxRvO4nLPhI4SJLaIoUVmhr8lm1tddyCLyKOj=s64",
      "userId": "06788086636039591358"
     },
     "user_tz": -330
    },
    "id": "JxVUEGabGVk_",
    "outputId": "35a2bfe5-fed6-4d60-d596-8fb8dcce92e9"
   },
   "outputs": [
    {
     "data": {
      "text/plain": [
       "0.11869049963137815"
      ]
     },
     "execution_count": 10,
     "metadata": {
      "tags": []
     },
     "output_type": "execute_result"
    }
   ],
   "source": [
    "(0.873524-0.769845)/0.873524"
   ]
  },
  {
   "cell_type": "code",
   "execution_count": null,
   "metadata": {
    "colab": {},
    "colab_type": "code",
    "id": "JY73ZLQ62gQk"
   },
   "outputs": [],
   "source": [
    "#Final Inference\n",
    "#5.746590 (0.559691)\n",
    "#[$5187-$6305]\n",
    "\n",
    "#3 datasets \n",
    "#glu  => 8.56, 2.45\n",
    "#explore more models, =>4.23,.96\n"
   ]
  },
  {
   "cell_type": "code",
   "execution_count": null,
   "metadata": {
    "colab": {
     "base_uri": "https://localhost:8080/",
     "height": 34
    },
    "colab_type": "code",
    "executionInfo": {
     "elapsed": 962,
     "status": "ok",
     "timestamp": 1591702250794,
     "user": {
      "displayName": "Mahesh Anand",
      "photoUrl": "https://lh3.googleusercontent.com/a-/AOh14GiAxRvO4nLPhI4SJLaIoUVmhr8lm1tddyCLyKOj=s64",
      "userId": "06788086636039591358"
     },
     "user_tz": -330
    },
    "id": "Hj0GJspi1rrx",
    "outputId": "f6a07067-fd54-4e1a-9e48-e4c4fcddd89e"
   },
   "outputs": [
    {
     "data": {
      "text/plain": [
       "0.07823596254474402"
      ]
     },
     "execution_count": 81,
     "metadata": {
      "tags": []
     },
     "output_type": "execute_result"
    }
   ],
   "source": [
    "(5.746590-5.297)/5.746590"
   ]
  },
  {
   "cell_type": "code",
   "execution_count": null,
   "metadata": {
    "colab": {
     "base_uri": "https://localhost:8080/",
     "height": 34
    },
    "colab_type": "code",
    "executionInfo": {
     "elapsed": 939,
     "status": "ok",
     "timestamp": 1591702297282,
     "user": {
      "displayName": "Mahesh Anand",
      "photoUrl": "https://lh3.googleusercontent.com/a-/AOh14GiAxRvO4nLPhI4SJLaIoUVmhr8lm1tddyCLyKOj=s64",
      "userId": "06788086636039591358"
     },
     "user_tz": -330
    },
    "id": "NdPuLDFz14gF",
    "outputId": "3d3ed878-4d58-48ee-be69-20fbd782a356"
   },
   "outputs": [
    {
     "data": {
      "text/plain": [
       "0.2731163938685373"
      ]
     },
     "execution_count": 82,
     "metadata": {
      "tags": []
     },
     "output_type": "execute_result"
    }
   ],
   "source": [
    "(0.769845-0.5596)/0.7698"
   ]
  },
  {
   "cell_type": "code",
   "execution_count": null,
   "metadata": {
    "colab": {},
    "colab_type": "code",
    "id": "SlOEjn_-yptT"
   },
   "outputs": [],
   "source": [
    "from sklearn.neighbors import KNeighborsRegressor\n",
    "from sklearn.preprocessing import StandardScaler"
   ]
  },
  {
   "cell_type": "code",
   "execution_count": null,
   "metadata": {
    "colab": {},
    "colab_type": "code",
    "id": "khC75Aeszy5c"
   },
   "outputs": [],
   "source": [
    "knn=KNeighborsRegressor()\n",
    "knn_params={'n_neighbors':np.arange(1,20),'weights':['uniform','distance']}"
   ]
  },
  {
   "cell_type": "code",
   "execution_count": null,
   "metadata": {
    "colab": {},
    "colab_type": "code",
    "id": "x-n7A1rFzy2y"
   },
   "outputs": [],
   "source": [
    "GS=GridSearchCV(knn,knn_params,cv=3,scoring='neg_mean_squared_error')"
   ]
  },
  {
   "cell_type": "code",
   "execution_count": null,
   "metadata": {
    "colab": {},
    "colab_type": "code",
    "id": "0aynDBte0Cph"
   },
   "outputs": [],
   "source": [
    "X_scaled=StandardScaler().fit_transform(X_new)"
   ]
  },
  {
   "cell_type": "code",
   "execution_count": null,
   "metadata": {
    "colab": {
     "base_uri": "https://localhost:8080/",
     "height": 243
    },
    "colab_type": "code",
    "executionInfo": {
     "elapsed": 3068,
     "status": "ok",
     "timestamp": 1591164429640,
     "user": {
      "displayName": "Mahesh Anand",
      "photoUrl": "https://lh3.googleusercontent.com/a-/AOh14GiAxRvO4nLPhI4SJLaIoUVmhr8lm1tddyCLyKOj=s64",
      "userId": "06788086636039591358"
     },
     "user_tz": -330
    },
    "id": "lb4e2S9t0Cvh",
    "outputId": "e5adc03a-d509-4757-f143-951b6f0ebb93"
   },
   "outputs": [
    {
     "data": {
      "text/plain": [
       "GridSearchCV(cv=3, error_score=nan,\n",
       "             estimator=KNeighborsRegressor(algorithm='auto', leaf_size=30,\n",
       "                                           metric='minkowski',\n",
       "                                           metric_params=None, n_jobs=None,\n",
       "                                           n_neighbors=5, p=2,\n",
       "                                           weights='uniform'),\n",
       "             iid='deprecated', n_jobs=None,\n",
       "             param_grid={'n_neighbors': array([ 1,  2,  3,  4,  5,  6,  7,  8,  9, 10, 11, 12, 13, 14, 15, 16, 17,\n",
       "       18, 19]),\n",
       "                         'weights': ['uniform', 'distance']},\n",
       "             pre_dispatch='2*n_jobs', refit=True, return_train_score=False,\n",
       "             scoring='neg_mean_squared_error', verbose=0)"
      ]
     },
     "execution_count": 27,
     "metadata": {
      "tags": []
     },
     "output_type": "execute_result"
    }
   ],
   "source": [
    "GS.fit(X_scaled,Y)"
   ]
  },
  {
   "cell_type": "code",
   "execution_count": null,
   "metadata": {
    "colab": {
     "base_uri": "https://localhost:8080/",
     "height": 34
    },
    "colab_type": "code",
    "executionInfo": {
     "elapsed": 2040,
     "status": "ok",
     "timestamp": 1591164433816,
     "user": {
      "displayName": "Mahesh Anand",
      "photoUrl": "https://lh3.googleusercontent.com/a-/AOh14GiAxRvO4nLPhI4SJLaIoUVmhr8lm1tddyCLyKOj=s64",
      "userId": "06788086636039591358"
     },
     "user_tz": -330
    },
    "id": "gUeJCBV40PnN",
    "outputId": "fa1918d8-5a5c-42da-8cee-7323a10df05a"
   },
   "outputs": [
    {
     "data": {
      "text/plain": [
       "{'n_neighbors': 3, 'weights': 'distance'}"
      ]
     },
     "execution_count": 28,
     "metadata": {
      "tags": []
     },
     "output_type": "execute_result"
    }
   ],
   "source": [
    "GS.best_params_"
   ]
  },
  {
   "cell_type": "code",
   "execution_count": null,
   "metadata": {
    "colab": {},
    "colab_type": "code",
    "id": "4-7exq0gz_eU"
   },
   "outputs": [],
   "source": [
    "rmse_ve=[]\n",
    "rmse_be=[]\n",
    "for n in np.arange(1,50):\n",
    "  KNN=KNeighborsRegressor(weights='distance',n_neighbors=n)\n",
    "  kfold = model_selection.KFold(shuffle=True,n_splits=3,random_state=0)\n",
    "  mse=model_selection.cross_val_score(KNN,X_scaled,Y,cv=kfold,scoring='neg_mean_squared_error')\n",
    "  rmse=np.sqrt(np.abs(mse))\n",
    "  rmse_ve.append(np.std(rmse,ddof=1))\n",
    "  rmse_be.append(np.mean(rmse))"
   ]
  },
  {
   "cell_type": "code",
   "execution_count": null,
   "metadata": {
    "colab": {
     "base_uri": "https://localhost:8080/",
     "height": 34
    },
    "colab_type": "code",
    "executionInfo": {
     "elapsed": 940,
     "status": "ok",
     "timestamp": 1591701183891,
     "user": {
      "displayName": "Mahesh Anand",
      "photoUrl": "https://lh3.googleusercontent.com/a-/AOh14GiAxRvO4nLPhI4SJLaIoUVmhr8lm1tddyCLyKOj=s64",
      "userId": "06788086636039591358"
     },
     "user_tz": -330
    },
    "id": "JQR8FAnJxPfu",
    "outputId": "3978bea6-f003-4bc9-ac8d-c6909cf50910"
   },
   "outputs": [
    {
     "data": {
      "text/plain": [
       "(0.5950664644901348, 0, 6.532454581545693)"
      ]
     },
     "execution_count": 69,
     "metadata": {
      "tags": []
     },
     "output_type": "execute_result"
    }
   ],
   "source": [
    "np.min(rmse_ve),np.argmin(rmse_ve),rmse_be[0]"
   ]
  },
  {
   "cell_type": "code",
   "execution_count": null,
   "metadata": {
    "colab": {
     "base_uri": "https://localhost:8080/",
     "height": 34
    },
    "colab_type": "code",
    "executionInfo": {
     "elapsed": 955,
     "status": "ok",
     "timestamp": 1591701193462,
     "user": {
      "displayName": "Mahesh Anand",
      "photoUrl": "https://lh3.googleusercontent.com/a-/AOh14GiAxRvO4nLPhI4SJLaIoUVmhr8lm1tddyCLyKOj=s64",
      "userId": "06788086636039591358"
     },
     "user_tz": -330
    },
    "id": "k53zgWnKxy4y",
    "outputId": "2599e249-2fb0-4389-b3c5-418bb5ebd61f"
   },
   "outputs": [
    {
     "data": {
      "text/plain": [
       "(6.0815675666956315, 1, 1.6391681005372636)"
      ]
     },
     "execution_count": 70,
     "metadata": {
      "tags": []
     },
     "output_type": "execute_result"
    }
   ],
   "source": [
    "np.min(rmse_be),np.argmin(rmse_be),rmse_ve[1]"
   ]
  },
  {
   "cell_type": "code",
   "execution_count": null,
   "metadata": {
    "colab": {
     "base_uri": "https://localhost:8080/",
     "height": 282
    },
    "colab_type": "code",
    "executionInfo": {
     "elapsed": 3088,
     "status": "ok",
     "timestamp": 1591700934145,
     "user": {
      "displayName": "Mahesh Anand",
      "photoUrl": "https://lh3.googleusercontent.com/a-/AOh14GiAxRvO4nLPhI4SJLaIoUVmhr8lm1tddyCLyKOj=s64",
      "userId": "06788086636039591358"
     },
     "user_tz": -330
    },
    "id": "wnC-ucl81QpM",
    "outputId": "9d9b8087-5ac2-4622-c75c-eaa10fad3455"
   },
   "outputs": [
    {
     "data": {
      "text/plain": [
       "[<matplotlib.lines.Line2D at 0x7f68697b7898>]"
      ]
     },
     "execution_count": 63,
     "metadata": {
      "tags": []
     },
     "output_type": "execute_result"
    },
    {
     "data": {
      "image/png": "[encoded data removed]",
      "text/plain": [
       "<Figure size 432x288 with 1 Axes>"
      ]
     },
     "metadata": {
      "needs_background": "light",
      "tags": []
     },
     "output_type": "display_data"
    }
   ],
   "source": [
    "x_axis=np.arange(len(rmse_ve))\n",
    "plt.plot(x_axis,rmse_ve)"
   ]
  },
  {
   "cell_type": "code",
   "execution_count": null,
   "metadata": {
    "colab": {
     "base_uri": "https://localhost:8080/",
     "height": 282
    },
    "colab_type": "code",
    "executionInfo": {
     "elapsed": 1325,
     "status": "ok",
     "timestamp": 1591165428239,
     "user": {
      "displayName": "Mahesh Anand",
      "photoUrl": "https://lh3.googleusercontent.com/a-/AOh14GiAxRvO4nLPhI4SJLaIoUVmhr8lm1tddyCLyKOj=s64",
      "userId": "06788086636039591358"
     },
     "user_tz": -330
    },
    "id": "EwZ5uCP_2Tbi",
    "outputId": "81a7bcc0-f457-4679-dd9e-1be6e453092c"
   },
   "outputs": [
    {
     "data": {
      "text/plain": [
       "[<matplotlib.lines.Line2D at 0x7fb5cc78d5f8>]"
      ]
     },
     "execution_count": 46,
     "metadata": {
      "tags": []
     },
     "output_type": "execute_result"
    },
    {
     "data": {
      "image/png": "[encoded data removed]",
      "text/plain": [
       "<Figure size 432x288 with 1 Axes>"
      ]
     },
     "metadata": {
      "needs_background": "light",
      "tags": []
     },
     "output_type": "display_data"
    }
   ],
   "source": [
    "x_axis=np.arange(len(rmse_be))\n",
    "plt.plot(x_axis,rmse_be)"
   ]
  },
  {
   "cell_type": "code",
   "execution_count": null,
   "metadata": {
    "colab": {
     "base_uri": "https://localhost:8080/",
     "height": 34
    },
    "colab_type": "code",
    "executionInfo": {
     "elapsed": 1085,
     "status": "ok",
     "timestamp": 1591165481685,
     "user": {
      "displayName": "Mahesh Anand",
      "photoUrl": "https://lh3.googleusercontent.com/a-/AOh14GiAxRvO4nLPhI4SJLaIoUVmhr8lm1tddyCLyKOj=s64",
      "userId": "06788086636039591358"
     },
     "user_tz": -330
    },
    "id": "v2LVZLld2gxY",
    "outputId": "a5c6fd67-4f89-40d1-f7c6-a9ffa5c720b4"
   },
   "outputs": [
    {
     "data": {
      "text/plain": [
       "1"
      ]
     },
     "execution_count": 48,
     "metadata": {
      "tags": []
     },
     "output_type": "execute_result"
    }
   ],
   "source": [
    "np.argmin(rmse_be) #corresponding n_neigh=2, with be=6.15,ve=1.53\n",
    "#choice-1: [$4620 to $7680]\n",
    "#choice-2: [5940 to $7120]\n",
    "#We go with choice-2,'coz we get 64.5% reduction in VE compared to m1 by\n",
    "#trading off just 6% in the BE"
   ]
  },
  {
   "cell_type": "code",
   "execution_count": null,
   "metadata": {
    "colab": {},
    "colab_type": "code",
    "id": "DjVoKVFB5gYF"
   },
   "outputs": [],
   "source": [
    "#RF Vs #KNN\n"
   ]
  },
  {
   "cell_type": "code",
   "execution_count": null,
   "metadata": {
    "colab": {
     "base_uri": "https://localhost:8080/",
     "height": 34
    },
    "colab_type": "code",
    "executionInfo": {
     "elapsed": 1083,
     "status": "ok",
     "timestamp": 1591166098127,
     "user": {
      "displayName": "Mahesh Anand",
      "photoUrl": "https://lh3.googleusercontent.com/a-/AOh14GiAxRvO4nLPhI4SJLaIoUVmhr8lm1tddyCLyKOj=s64",
      "userId": "06788086636039591358"
     },
     "user_tz": -330
    },
    "id": "uEQsG8yG41ZS",
    "outputId": "c52c5e8d-74c3-4284-a65d-2e3a9017269e"
   },
   "outputs": [
    {
     "data": {
      "text/plain": [
       "0.6143790849673203"
      ]
     },
     "execution_count": 52,
     "metadata": {
      "tags": []
     },
     "output_type": "execute_result"
    }
   ],
   "source": [
    "(1.53-0.59)/1.53"
   ]
  },
  {
   "cell_type": "code",
   "execution_count": null,
   "metadata": {
    "colab": {
     "base_uri": "https://localhost:8080/",
     "height": 34
    },
    "colab_type": "code",
    "executionInfo": {
     "elapsed": 1146,
     "status": "ok",
     "timestamp": 1591166141173,
     "user": {
      "displayName": "Mahesh Anand",
      "photoUrl": "https://lh3.googleusercontent.com/a-/AOh14GiAxRvO4nLPhI4SJLaIoUVmhr8lm1tddyCLyKOj=s64",
      "userId": "06788086636039591358"
     },
     "user_tz": -330
    },
    "id": "E_9RYq1N5BEd",
    "outputId": "9b39fd79-1a05-40e8-ee23-162d74a3dffc"
   },
   "outputs": [
    {
     "data": {
      "text/plain": [
       "0.0581929555895865"
      ]
     },
     "execution_count": 53,
     "metadata": {
      "tags": []
     },
     "output_type": "execute_result"
    }
   ],
   "source": [
    "(6.53-6.15)/6.53"
   ]
  },
  {
   "cell_type": "markdown",
   "metadata": {
    "colab_type": "text",
    "id": "DvenQMvzu1i3"
   },
   "source": []
  },
  {
   "cell_type": "code",
   "execution_count": null,
   "metadata": {
    "colab": {
     "base_uri": "https://localhost:8080/",
     "height": 34
    },
    "colab_type": "code",
    "executionInfo": {
     "elapsed": 1059,
     "status": "ok",
     "timestamp": 1591165636567,
     "user": {
      "displayName": "Mahesh Anand",
      "photoUrl": "https://lh3.googleusercontent.com/a-/AOh14GiAxRvO4nLPhI4SJLaIoUVmhr8lm1tddyCLyKOj=s64",
      "userId": "06788086636039591358"
     },
     "user_tz": -330
    },
    "id": "o224zM9t3A0-",
    "outputId": "cae46413-d7e3-4848-9cfd-1f940648cd0c"
   },
   "outputs": [
    {
     "data": {
      "text/plain": [
       "0.5950664644901348"
      ]
     },
     "execution_count": 50,
     "metadata": {
      "tags": []
     },
     "output_type": "execute_result"
    }
   ],
   "source": [
    "rmse_ve[0]   #with n_neigh=1, ve=0.59 wi=6.53th be"
   ]
  },
  {
   "cell_type": "code",
   "execution_count": null,
   "metadata": {
    "colab": {
     "base_uri": "https://localhost:8080/",
     "height": 34
    },
    "colab_type": "code",
    "executionInfo": {
     "elapsed": 1108,
     "status": "ok",
     "timestamp": 1591165684667,
     "user": {
      "displayName": "Mahesh Anand",
      "photoUrl": "https://lh3.googleusercontent.com/a-/AOh14GiAxRvO4nLPhI4SJLaIoUVmhr8lm1tddyCLyKOj=s64",
      "userId": "06788086636039591358"
     },
     "user_tz": -330
    },
    "id": "OHYnivPr3Uwo",
    "outputId": "e0934af6-756f-4828-b7ee-91c62124ce0a"
   },
   "outputs": [
    {
     "data": {
      "text/plain": [
       "6.532454581545693"
      ]
     },
     "execution_count": 51,
     "metadata": {
      "tags": []
     },
     "output_type": "execute_result"
    }
   ],
   "source": [
    "rmse_be[0]"
   ]
  },
  {
   "cell_type": "code",
   "execution_count": null,
   "metadata": {
    "colab": {},
    "colab_type": "code",
    "id": "-2BQ4oUW4ssq"
   },
   "outputs": [],
   "source": [
    "KNN=KNeighborsRegressor(n_neighbors=1)\n",
    "RF=RandomForestRegressor(criterion='mse',n_estimators=10)"
   ]
  },
  {
   "cell_type": "code",
   "execution_count": null,
   "metadata": {
    "colab": {},
    "colab_type": "code",
    "id": "fRTsRLjxKkew"
   },
   "outputs": [],
   "source": [
    "models = []\n",
    "models.append(('RandomForest', RF))\n",
    "models.append(('KNN',KNN))"
   ]
  },
  {
   "cell_type": "code",
   "execution_count": null,
   "metadata": {
    "colab": {
     "base_uri": "https://localhost:8080/",
     "height": 328
    },
    "colab_type": "code",
    "executionInfo": {
     "elapsed": 1141,
     "status": "ok",
     "timestamp": 1591164717359,
     "user": {
      "displayName": "Mahesh Anand",
      "photoUrl": "https://lh3.googleusercontent.com/a-/AOh14GiAxRvO4nLPhI4SJLaIoUVmhr8lm1tddyCLyKOj=s64",
      "userId": "06788086636039591358"
     },
     "user_tz": -330
    },
    "id": "qsyMiBb8Kkbt",
    "outputId": "6a751d4b-8a88-4a2c-e9a1-5a4e3af57502"
   },
   "outputs": [
    {
     "name": "stdout",
     "output_type": "stream",
     "text": [
      "RandomForest: 6.459632 (1.325236)\n",
      "KNN: 6.125137 (1.728460)\n"
     ]
    },
    {
     "data": {
      "image/png": "[encoded data removed]",
      "text/plain": [
       "<Figure size 432x288 with 1 Axes>"
      ]
     },
     "metadata": {
      "needs_background": "light",
      "tags": []
     },
     "output_type": "display_data"
    }
   ],
   "source": [
    "# evaluate each model in turn\n",
    "results = []\n",
    "names = []\n",
    "for name, model in models:\n",
    "\tkfold = model_selection.KFold(shuffle=True,n_splits=3,random_state=0)\n",
    "\tcv_results = model_selection.cross_val_score(model, X_scaled, Y,cv=kfold, scoring='neg_mean_squared_error')\n",
    "\tresults.append(np.sqrt(np.abs(cv_results)))\n",
    "\tnames.append(name)\n",
    "\tprint(\"%s: %f (%f)\" % (name, np.mean(np.sqrt(np.abs(cv_results))),np.std(np.sqrt(np.abs(cv_results)),ddof=1)))\n",
    "   # boxplot algorithm comparison\n",
    "fig = plt.figure()\n",
    "fig.suptitle('Algorithm Comparison')\n",
    "ax = fig.add_subplot(111)\n",
    "plt.boxplot(results)\n",
    "ax.set_xticklabels(names)\n",
    "plt.show()"
   ]
  },
  {
   "cell_type": "code",
   "execution_count": null,
   "metadata": {
    "colab": {},
    "colab_type": "code",
    "id": "ipNmFlWd01AI"
   },
   "outputs": [],
   "source": [
    "import warnings\n",
    "from sklearn.exceptions import DataConversionWarning\n",
    "warnings.filterwarnings(action='ignore', category=DataConversionWarning)"
   ]
  }
 ],
 "metadata": {
  "colab": {
   "collapsed_sections": [],
   "name": "Case_study_Regression_models_car_price_prediction.ipynb",
   "provenance": []
  },
  "kernelspec": {
   "display_name": "Python 3",
   "language": "python",
   "name": "python3"
  },
  "language_info": {
   "codemirror_mode": {
    "name": "ipython",
    "version": 3
   },
   "file_extension": ".py",
   "mimetype": "text/x-python",
   "name": "python",
   "nbconvert_exporter": "python",
   "pygments_lexer": "ipython3",
   "version": "3.8.8"
  }
 },
 "nbformat": 4,
 "nbformat_minor": 1
}
